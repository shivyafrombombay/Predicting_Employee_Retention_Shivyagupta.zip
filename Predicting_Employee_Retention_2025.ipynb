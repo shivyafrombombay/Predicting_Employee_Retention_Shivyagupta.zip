{
 "cells": [
  {
   "cell_type": "markdown",
   "metadata": {
    "id": "h93yUiuRbzEv"
   },
   "source": [
    "# **Predicting Employee Retention**"
   ]
  },
  {
   "cell_type": "markdown",
   "metadata": {
    "id": "V7YvL652bzE0"
   },
   "source": [
    "### Objective\n",
    "\n",
    "The objective of this assignment is to develop a Logistic Regression model. You will be using this model to analyse and predict binary outcomes based on the input data. This assignment aims to enhance understanding of logistic regression, including its assumptions, implementation, and evaluation, to effectively classify and interpret data.\n"
   ]
  },
  {
   "cell_type": "markdown",
   "metadata": {
    "id": "waZ4IVr4bzE1"
   },
   "source": [
    "### Business Objective\n",
    "\n",
    "A mid-sized technology company wants to improve its understanding of employee retention to foster a loyal and committed workforce. While the organization has traditionally focused on addressing turnover, it recognises the value of proactively identifying employees likely to stay and understanding the factors contributing to their loyalty.\n",
    "\n",
    "\n",
    "In this assignment you’ll be building a logistic regression model to predict the likelihood of employee retention based on the data such as demographic details, job satisfaction scores, performance metrics, and tenure. The aim is to provide the HR department with actionable insights to strengthen retention strategies, create a supportive work environment, and increase the overall stability and satisfaction of the workforce."
   ]
  },
  {
   "cell_type": "markdown",
   "metadata": {
    "id": "Z7zFcptgbzE2"
   },
   "source": [
    "## Assignment Tasks\n",
    "\n",
    "You need to perform the following steps to complete this assignment:\n",
    "1. Data Understanding\n",
    "2. Data Cleaning\n",
    "3. Train Validation Split\n",
    "4. EDA on training data\n",
    "5. EDA on validation data [Optional]\n",
    "6. Feature Engineering\n",
    "7. Model Building\n",
    "8. Prediction and Model Evaluation\n",
    "\n",
    "\n"
   ]
  },
  {
   "cell_type": "markdown",
   "metadata": {
    "id": "ejDKL2NDceHc"
   },
   "source": [
    "## Data Dictionary\n",
    "\n",
    "The data has 24 Columns and 74610 Rows. Following data dictionary provides the description for each column present in dataset:<br>\n",
    "\n",
    "<table>\n",
    "  <thead>\n",
    "    <tr>\n",
    "      <th>Column Name</th>\n",
    "      <th>Description</th>\n",
    "    </tr>\n",
    "  </thead>\n",
    "  <tbody>\n",
    "    <tr>\n",
    "      <td>Employee ID</td>\n",
    "      <td>A unique identifier assigned to each employee.</td>\n",
    "    </tr>\n",
    "    <tr>\n",
    "      <td>Age</td>\n",
    "      <td>The age of the employee, ranging from 18 to 60 years.</td>\n",
    "    </tr>\n",
    "    <tr>\n",
    "      <td>Gender</td>\n",
    "      <td>The gender of the employee.</td>\n",
    "    </tr>\n",
    "    <tr>\n",
    "      <td>Years at Company</td>\n",
    "      <td>The number of years the employee has been working at the company.</td>\n",
    "    </tr>\n",
    "    <tr>\n",
    "      <td>Monthly Income</td>\n",
    "      <td>The monthly salary of the employee, in dollars.</td>\n",
    "    </tr>\n",
    "    <tr>\n",
    "      <td>Job Role</td>\n",
    "      <td>The department or role the employee works in, encoded into categories such as Finance, Healthcare, Technology, Education, and Media.</td>\n",
    "    </tr>\n",
    "    <tr>\n",
    "      <td>Work-Life Balance</td>\n",
    "      <td>The employee's perceived balance between work and personal life (Poor, Below Average, Good, Excellent).</td>\n",
    "    </tr>\n",
    "    <tr>\n",
    "      <td>Job Satisfaction</td>\n",
    "      <td>The employee's satisfaction with their job (Very Low, Low, Medium, High).</td>\n",
    "    </tr>\n",
    "    <tr>\n",
    "      <td>Performance Rating</td>\n",
    "      <td>The employee's performance rating (Low, Below Average, Average, High).</td>\n",
    "    </tr>\n",
    "    <tr>\n",
    "      <td>Number of Promotions</td>\n",
    "      <td>The total number of promotions the employee has received.</td>\n",
    "    </tr>\n",
    "     </tr>\n",
    "     <tr>\n",
    "      <td>Overtime</td>\n",
    "      <td>Number of overtime hours.</td>\n",
    "    </tr>\n",
    "    <tr>\n",
    "      <td>Distance from Home</td>\n",
    "      <td>The distance between the employee's home and workplace, in miles.</td>\n",
    "    </tr>\n",
    "    <tr>\n",
    "      <td>Education Level</td>\n",
    "      <td>The highest education level attained by the employee (High School, Associate Degree, Bachelor’s Degree, Master’s Degree, PhD).</td>\n",
    "    </tr>\n",
    "    <tr>\n",
    "      <td>Marital Status</td>\n",
    "      <td>The marital status of the employee (Divorced, Married, Single).</td>\n",
    "    </tr>\n",
    "     <tr>\n",
    "      <td>Number of Dependents</td>\n",
    "      <td>Number of dependents the employee has.</td>\n",
    "    </tr>\n",
    "    <tr>\n",
    "      <td>Job Level</td>\n",
    "      <td>The job level of the employee (Entry, Mid, Senior).</td>\n",
    "    </tr>\n",
    "    <tr>\n",
    "      <td>Company Size</td>\n",
    "      <td>The size of the company the employee works for (Small, Medium, Large).</td>\n",
    "    </tr>\n",
    "    <tr>\n",
    "      <td>Company Tenure (In Months)</td>\n",
    "      <td>The total number of years the employee has been working in the industry.</td>\n",
    "    </tr>\n",
    "    <tr>\n",
    "      <td>Remote Work</td>\n",
    "      <td>Whether the employee works remotely (Yes or No).</td>\n",
    "    </tr>\n",
    "    <tr>\n",
    "      <td>Leadership Opportunities</td>\n",
    "      <td>Whether the employee has leadership opportunities (Yes or No).</td>\n",
    "    </tr>\n",
    "    <tr>\n",
    "      <td>Innovation Opportunities</td>\n",
    "      <td>Whether the employee has opportunities for innovation (Yes or No).</td>\n",
    "    </tr>\n",
    "    <tr>\n",
    "      <td>Company Reputation</td>\n",
    "      <td>The employee's perception of the company's reputation (Very Poor, Poor, Good, Excellent).</td>\n",
    "    </tr>\n",
    "    <tr>\n",
    "      <td>Employee Recognition</td>\n",
    "      <td>The level of recognition the employee receives(Very Low, Low, Medium, High).</td>\n",
    "    </tr>\n",
    "    <tr>\n",
    "      <td>Attrition</td>\n",
    "      <td>Whether the employee has left the company.</td>\n",
    "    </tr>\n",
    "  </tbody>\n",
    "</table>\n"
   ]
  },
  {
   "cell_type": "markdown",
   "metadata": {
    "id": "6lmfQyH2bzE5"
   },
   "source": [
    "## **1. Data Understanding**\n",
    "\n",
    "In this step, load the dataset and check basic statistics of the data, including preview of data, dimension of data, column descriptions and data types."
   ]
  },
  {
   "cell_type": "markdown",
   "metadata": {
    "id": "PqhCqH69bzE2"
   },
   "source": [
    "### **1.0 Import Libraries**"
   ]
  },
  {
   "cell_type": "code",
   "execution_count": 107,
   "metadata": {
    "id": "1bADKAJibzE3"
   },
   "outputs": [],
   "source": [
    "# Supress unnecessary warnings\n",
    "import warnings\n",
    "warnings.filterwarnings('ignore')"
   ]
  },
  {
   "cell_type": "code",
   "execution_count": 109,
   "metadata": {
    "id": "vOoaowGFbzE5"
   },
   "outputs": [],
   "source": [
    "# Import the libraries\n",
    "import numpy as np\n",
    "import pandas as pd\n",
    "import seaborn as sns\n",
    "import matplotlib.pyplot as plt\n",
    "import sklearn\n",
    "from sklearn.model_selection import train_test_split\n"
   ]
  },
  {
   "cell_type": "markdown",
   "metadata": {
    "id": "IzOBYKpCcJZJ"
   },
   "source": [
    "### **1.1 Load the Data**"
   ]
  },
  {
   "cell_type": "code",
   "execution_count": 111,
   "metadata": {
    "id": "Vibm0dYcbzE6"
   },
   "outputs": [
    {
     "data": {
      "text/html": [
       "<div>\n",
       "<style scoped>\n",
       "    .dataframe tbody tr th:only-of-type {\n",
       "        vertical-align: middle;\n",
       "    }\n",
       "\n",
       "    .dataframe tbody tr th {\n",
       "        vertical-align: top;\n",
       "    }\n",
       "\n",
       "    .dataframe thead th {\n",
       "        text-align: right;\n",
       "    }\n",
       "</style>\n",
       "<table border=\"1\" class=\"dataframe\">\n",
       "  <thead>\n",
       "    <tr style=\"text-align: right;\">\n",
       "      <th></th>\n",
       "      <th>Employee ID</th>\n",
       "      <th>Age</th>\n",
       "      <th>Gender</th>\n",
       "      <th>Years at Company</th>\n",
       "      <th>Job Role</th>\n",
       "      <th>Monthly Income</th>\n",
       "      <th>Work-Life Balance</th>\n",
       "      <th>Job Satisfaction</th>\n",
       "      <th>Performance Rating</th>\n",
       "      <th>Number of Promotions</th>\n",
       "      <th>...</th>\n",
       "      <th>Number of Dependents</th>\n",
       "      <th>Job Level</th>\n",
       "      <th>Company Size</th>\n",
       "      <th>Company Tenure (In Months)</th>\n",
       "      <th>Remote Work</th>\n",
       "      <th>Leadership Opportunities</th>\n",
       "      <th>Innovation Opportunities</th>\n",
       "      <th>Company Reputation</th>\n",
       "      <th>Employee Recognition</th>\n",
       "      <th>Attrition</th>\n",
       "    </tr>\n",
       "  </thead>\n",
       "  <tbody>\n",
       "    <tr>\n",
       "      <th>0</th>\n",
       "      <td>8410</td>\n",
       "      <td>31</td>\n",
       "      <td>Male</td>\n",
       "      <td>19</td>\n",
       "      <td>Education</td>\n",
       "      <td>5390</td>\n",
       "      <td>Excellent</td>\n",
       "      <td>Medium</td>\n",
       "      <td>Average</td>\n",
       "      <td>2</td>\n",
       "      <td>...</td>\n",
       "      <td>0</td>\n",
       "      <td>Mid</td>\n",
       "      <td>Medium</td>\n",
       "      <td>89.0</td>\n",
       "      <td>No</td>\n",
       "      <td>No</td>\n",
       "      <td>No</td>\n",
       "      <td>Excellent</td>\n",
       "      <td>Medium</td>\n",
       "      <td>Stayed</td>\n",
       "    </tr>\n",
       "    <tr>\n",
       "      <th>1</th>\n",
       "      <td>64756</td>\n",
       "      <td>59</td>\n",
       "      <td>Female</td>\n",
       "      <td>4</td>\n",
       "      <td>Media</td>\n",
       "      <td>5534</td>\n",
       "      <td>Poor</td>\n",
       "      <td>High</td>\n",
       "      <td>Low</td>\n",
       "      <td>3</td>\n",
       "      <td>...</td>\n",
       "      <td>3</td>\n",
       "      <td>Mid</td>\n",
       "      <td>Medium</td>\n",
       "      <td>21.0</td>\n",
       "      <td>No</td>\n",
       "      <td>No</td>\n",
       "      <td>No</td>\n",
       "      <td>Fair</td>\n",
       "      <td>Low</td>\n",
       "      <td>Stayed</td>\n",
       "    </tr>\n",
       "    <tr>\n",
       "      <th>2</th>\n",
       "      <td>30257</td>\n",
       "      <td>24</td>\n",
       "      <td>Female</td>\n",
       "      <td>10</td>\n",
       "      <td>Healthcare</td>\n",
       "      <td>8159</td>\n",
       "      <td>Good</td>\n",
       "      <td>High</td>\n",
       "      <td>Low</td>\n",
       "      <td>0</td>\n",
       "      <td>...</td>\n",
       "      <td>3</td>\n",
       "      <td>Mid</td>\n",
       "      <td>Medium</td>\n",
       "      <td>74.0</td>\n",
       "      <td>No</td>\n",
       "      <td>No</td>\n",
       "      <td>No</td>\n",
       "      <td>Poor</td>\n",
       "      <td>Low</td>\n",
       "      <td>Stayed</td>\n",
       "    </tr>\n",
       "    <tr>\n",
       "      <th>3</th>\n",
       "      <td>65791</td>\n",
       "      <td>36</td>\n",
       "      <td>Female</td>\n",
       "      <td>7</td>\n",
       "      <td>Education</td>\n",
       "      <td>3989</td>\n",
       "      <td>Good</td>\n",
       "      <td>High</td>\n",
       "      <td>High</td>\n",
       "      <td>1</td>\n",
       "      <td>...</td>\n",
       "      <td>2</td>\n",
       "      <td>Mid</td>\n",
       "      <td>Small</td>\n",
       "      <td>50.0</td>\n",
       "      <td>Yes</td>\n",
       "      <td>No</td>\n",
       "      <td>No</td>\n",
       "      <td>Good</td>\n",
       "      <td>Medium</td>\n",
       "      <td>Stayed</td>\n",
       "    </tr>\n",
       "    <tr>\n",
       "      <th>4</th>\n",
       "      <td>65026</td>\n",
       "      <td>56</td>\n",
       "      <td>Male</td>\n",
       "      <td>41</td>\n",
       "      <td>Education</td>\n",
       "      <td>4821</td>\n",
       "      <td>Fair</td>\n",
       "      <td>Very High</td>\n",
       "      <td>Average</td>\n",
       "      <td>0</td>\n",
       "      <td>...</td>\n",
       "      <td>0</td>\n",
       "      <td>Senior</td>\n",
       "      <td>Medium</td>\n",
       "      <td>68.0</td>\n",
       "      <td>No</td>\n",
       "      <td>No</td>\n",
       "      <td>No</td>\n",
       "      <td>Fair</td>\n",
       "      <td>Medium</td>\n",
       "      <td>Stayed</td>\n",
       "    </tr>\n",
       "  </tbody>\n",
       "</table>\n",
       "<p>5 rows × 24 columns</p>\n",
       "</div>"
      ],
      "text/plain": [
       "   Employee ID  Age  Gender  Years at Company    Job Role  Monthly Income  \\\n",
       "0         8410   31    Male                19   Education            5390   \n",
       "1        64756   59  Female                 4       Media            5534   \n",
       "2        30257   24  Female                10  Healthcare            8159   \n",
       "3        65791   36  Female                 7   Education            3989   \n",
       "4        65026   56    Male                41   Education            4821   \n",
       "\n",
       "  Work-Life Balance Job Satisfaction Performance Rating  Number of Promotions  \\\n",
       "0         Excellent           Medium            Average                     2   \n",
       "1              Poor             High                Low                     3   \n",
       "2              Good             High                Low                     0   \n",
       "3              Good             High               High                     1   \n",
       "4              Fair        Very High            Average                     0   \n",
       "\n",
       "   ... Number of Dependents  Job Level Company Size  \\\n",
       "0  ...                    0        Mid       Medium   \n",
       "1  ...                    3        Mid       Medium   \n",
       "2  ...                    3        Mid       Medium   \n",
       "3  ...                    2        Mid        Small   \n",
       "4  ...                    0     Senior       Medium   \n",
       "\n",
       "  Company Tenure (In Months)  Remote Work Leadership Opportunities  \\\n",
       "0                       89.0           No                       No   \n",
       "1                       21.0           No                       No   \n",
       "2                       74.0           No                       No   \n",
       "3                       50.0          Yes                       No   \n",
       "4                       68.0           No                       No   \n",
       "\n",
       "  Innovation Opportunities  Company Reputation Employee Recognition Attrition  \n",
       "0                       No           Excellent               Medium    Stayed  \n",
       "1                       No                Fair                  Low    Stayed  \n",
       "2                       No                Poor                  Low    Stayed  \n",
       "3                       No                Good               Medium    Stayed  \n",
       "4                       No                Fair               Medium    Stayed  \n",
       "\n",
       "[5 rows x 24 columns]"
      ]
     },
     "execution_count": 111,
     "metadata": {},
     "output_type": "execute_result"
    }
   ],
   "source": [
    "# Load the dataset\n",
    "df=pd.read_csv(\"Employee_data.csv\" , header=0 )\n",
    "df.head()\n"
   ]
  },
  {
   "cell_type": "code",
   "execution_count": 113,
   "metadata": {
    "id": "bVeUFyDxbzE6"
   },
   "outputs": [
    {
     "data": {
      "text/html": [
       "<div>\n",
       "<style scoped>\n",
       "    .dataframe tbody tr th:only-of-type {\n",
       "        vertical-align: middle;\n",
       "    }\n",
       "\n",
       "    .dataframe tbody tr th {\n",
       "        vertical-align: top;\n",
       "    }\n",
       "\n",
       "    .dataframe thead th {\n",
       "        text-align: right;\n",
       "    }\n",
       "</style>\n",
       "<table border=\"1\" class=\"dataframe\">\n",
       "  <thead>\n",
       "    <tr style=\"text-align: right;\">\n",
       "      <th></th>\n",
       "      <th>Employee ID</th>\n",
       "      <th>Age</th>\n",
       "      <th>Gender</th>\n",
       "      <th>Years at Company</th>\n",
       "      <th>Job Role</th>\n",
       "      <th>Monthly Income</th>\n",
       "      <th>Work-Life Balance</th>\n",
       "      <th>Job Satisfaction</th>\n",
       "      <th>Performance Rating</th>\n",
       "      <th>Number of Promotions</th>\n",
       "      <th>...</th>\n",
       "      <th>Number of Dependents</th>\n",
       "      <th>Job Level</th>\n",
       "      <th>Company Size</th>\n",
       "      <th>Company Tenure (In Months)</th>\n",
       "      <th>Remote Work</th>\n",
       "      <th>Leadership Opportunities</th>\n",
       "      <th>Innovation Opportunities</th>\n",
       "      <th>Company Reputation</th>\n",
       "      <th>Employee Recognition</th>\n",
       "      <th>Attrition</th>\n",
       "    </tr>\n",
       "  </thead>\n",
       "  <tbody>\n",
       "    <tr>\n",
       "      <th>0</th>\n",
       "      <td>8410</td>\n",
       "      <td>31</td>\n",
       "      <td>Male</td>\n",
       "      <td>19</td>\n",
       "      <td>Education</td>\n",
       "      <td>5390</td>\n",
       "      <td>Excellent</td>\n",
       "      <td>Medium</td>\n",
       "      <td>Average</td>\n",
       "      <td>2</td>\n",
       "      <td>...</td>\n",
       "      <td>0</td>\n",
       "      <td>Mid</td>\n",
       "      <td>Medium</td>\n",
       "      <td>89.0</td>\n",
       "      <td>No</td>\n",
       "      <td>No</td>\n",
       "      <td>No</td>\n",
       "      <td>Excellent</td>\n",
       "      <td>Medium</td>\n",
       "      <td>Stayed</td>\n",
       "    </tr>\n",
       "    <tr>\n",
       "      <th>1</th>\n",
       "      <td>64756</td>\n",
       "      <td>59</td>\n",
       "      <td>Female</td>\n",
       "      <td>4</td>\n",
       "      <td>Media</td>\n",
       "      <td>5534</td>\n",
       "      <td>Poor</td>\n",
       "      <td>High</td>\n",
       "      <td>Low</td>\n",
       "      <td>3</td>\n",
       "      <td>...</td>\n",
       "      <td>3</td>\n",
       "      <td>Mid</td>\n",
       "      <td>Medium</td>\n",
       "      <td>21.0</td>\n",
       "      <td>No</td>\n",
       "      <td>No</td>\n",
       "      <td>No</td>\n",
       "      <td>Fair</td>\n",
       "      <td>Low</td>\n",
       "      <td>Stayed</td>\n",
       "    </tr>\n",
       "    <tr>\n",
       "      <th>2</th>\n",
       "      <td>30257</td>\n",
       "      <td>24</td>\n",
       "      <td>Female</td>\n",
       "      <td>10</td>\n",
       "      <td>Healthcare</td>\n",
       "      <td>8159</td>\n",
       "      <td>Good</td>\n",
       "      <td>High</td>\n",
       "      <td>Low</td>\n",
       "      <td>0</td>\n",
       "      <td>...</td>\n",
       "      <td>3</td>\n",
       "      <td>Mid</td>\n",
       "      <td>Medium</td>\n",
       "      <td>74.0</td>\n",
       "      <td>No</td>\n",
       "      <td>No</td>\n",
       "      <td>No</td>\n",
       "      <td>Poor</td>\n",
       "      <td>Low</td>\n",
       "      <td>Stayed</td>\n",
       "    </tr>\n",
       "    <tr>\n",
       "      <th>3</th>\n",
       "      <td>65791</td>\n",
       "      <td>36</td>\n",
       "      <td>Female</td>\n",
       "      <td>7</td>\n",
       "      <td>Education</td>\n",
       "      <td>3989</td>\n",
       "      <td>Good</td>\n",
       "      <td>High</td>\n",
       "      <td>High</td>\n",
       "      <td>1</td>\n",
       "      <td>...</td>\n",
       "      <td>2</td>\n",
       "      <td>Mid</td>\n",
       "      <td>Small</td>\n",
       "      <td>50.0</td>\n",
       "      <td>Yes</td>\n",
       "      <td>No</td>\n",
       "      <td>No</td>\n",
       "      <td>Good</td>\n",
       "      <td>Medium</td>\n",
       "      <td>Stayed</td>\n",
       "    </tr>\n",
       "    <tr>\n",
       "      <th>4</th>\n",
       "      <td>65026</td>\n",
       "      <td>56</td>\n",
       "      <td>Male</td>\n",
       "      <td>41</td>\n",
       "      <td>Education</td>\n",
       "      <td>4821</td>\n",
       "      <td>Fair</td>\n",
       "      <td>Very High</td>\n",
       "      <td>Average</td>\n",
       "      <td>0</td>\n",
       "      <td>...</td>\n",
       "      <td>0</td>\n",
       "      <td>Senior</td>\n",
       "      <td>Medium</td>\n",
       "      <td>68.0</td>\n",
       "      <td>No</td>\n",
       "      <td>No</td>\n",
       "      <td>No</td>\n",
       "      <td>Fair</td>\n",
       "      <td>Medium</td>\n",
       "      <td>Stayed</td>\n",
       "    </tr>\n",
       "    <tr>\n",
       "      <th>5</th>\n",
       "      <td>24368</td>\n",
       "      <td>38</td>\n",
       "      <td>Female</td>\n",
       "      <td>3</td>\n",
       "      <td>Technology</td>\n",
       "      <td>9977</td>\n",
       "      <td>Fair</td>\n",
       "      <td>High</td>\n",
       "      <td>Below Average</td>\n",
       "      <td>3</td>\n",
       "      <td>...</td>\n",
       "      <td>0</td>\n",
       "      <td>Mid</td>\n",
       "      <td>Medium</td>\n",
       "      <td>47.0</td>\n",
       "      <td>No</td>\n",
       "      <td>No</td>\n",
       "      <td>Yes</td>\n",
       "      <td>Fair</td>\n",
       "      <td>High</td>\n",
       "      <td>Left</td>\n",
       "    </tr>\n",
       "    <tr>\n",
       "      <th>6</th>\n",
       "      <td>64970</td>\n",
       "      <td>47</td>\n",
       "      <td>Male</td>\n",
       "      <td>23</td>\n",
       "      <td>Education</td>\n",
       "      <td>3681</td>\n",
       "      <td>Fair</td>\n",
       "      <td>High</td>\n",
       "      <td>High</td>\n",
       "      <td>1</td>\n",
       "      <td>...</td>\n",
       "      <td>3</td>\n",
       "      <td>Entry</td>\n",
       "      <td>Small</td>\n",
       "      <td>93.0</td>\n",
       "      <td>No</td>\n",
       "      <td>No</td>\n",
       "      <td>No</td>\n",
       "      <td>Good</td>\n",
       "      <td>Medium</td>\n",
       "      <td>Left</td>\n",
       "    </tr>\n",
       "    <tr>\n",
       "      <th>7</th>\n",
       "      <td>36999</td>\n",
       "      <td>48</td>\n",
       "      <td>Male</td>\n",
       "      <td>16</td>\n",
       "      <td>Finance</td>\n",
       "      <td>11223</td>\n",
       "      <td>Excellent</td>\n",
       "      <td>Very High</td>\n",
       "      <td>High</td>\n",
       "      <td>2</td>\n",
       "      <td>...</td>\n",
       "      <td>4</td>\n",
       "      <td>Entry</td>\n",
       "      <td>Medium</td>\n",
       "      <td>88.0</td>\n",
       "      <td>No</td>\n",
       "      <td>No</td>\n",
       "      <td>No</td>\n",
       "      <td>Excellent</td>\n",
       "      <td>Low</td>\n",
       "      <td>Stayed</td>\n",
       "    </tr>\n",
       "    <tr>\n",
       "      <th>8</th>\n",
       "      <td>32714</td>\n",
       "      <td>57</td>\n",
       "      <td>Male</td>\n",
       "      <td>44</td>\n",
       "      <td>Education</td>\n",
       "      <td>3773</td>\n",
       "      <td>Good</td>\n",
       "      <td>Medium</td>\n",
       "      <td>High</td>\n",
       "      <td>1</td>\n",
       "      <td>...</td>\n",
       "      <td>4</td>\n",
       "      <td>Entry</td>\n",
       "      <td>Medium</td>\n",
       "      <td>75.0</td>\n",
       "      <td>No</td>\n",
       "      <td>No</td>\n",
       "      <td>No</td>\n",
       "      <td>Fair</td>\n",
       "      <td>Medium</td>\n",
       "      <td>Stayed</td>\n",
       "    </tr>\n",
       "    <tr>\n",
       "      <th>9</th>\n",
       "      <td>15944</td>\n",
       "      <td>24</td>\n",
       "      <td>Female</td>\n",
       "      <td>1</td>\n",
       "      <td>Healthcare</td>\n",
       "      <td>7319</td>\n",
       "      <td>Poor</td>\n",
       "      <td>High</td>\n",
       "      <td>Average</td>\n",
       "      <td>1</td>\n",
       "      <td>...</td>\n",
       "      <td>4</td>\n",
       "      <td>Entry</td>\n",
       "      <td>Large</td>\n",
       "      <td>NaN</td>\n",
       "      <td>No</td>\n",
       "      <td>No</td>\n",
       "      <td>Yes</td>\n",
       "      <td>Good</td>\n",
       "      <td>Low</td>\n",
       "      <td>Left</td>\n",
       "    </tr>\n",
       "  </tbody>\n",
       "</table>\n",
       "<p>10 rows × 24 columns</p>\n",
       "</div>"
      ],
      "text/plain": [
       "   Employee ID  Age  Gender  Years at Company    Job Role  Monthly Income  \\\n",
       "0         8410   31    Male                19   Education            5390   \n",
       "1        64756   59  Female                 4       Media            5534   \n",
       "2        30257   24  Female                10  Healthcare            8159   \n",
       "3        65791   36  Female                 7   Education            3989   \n",
       "4        65026   56    Male                41   Education            4821   \n",
       "5        24368   38  Female                 3  Technology            9977   \n",
       "6        64970   47    Male                23   Education            3681   \n",
       "7        36999   48    Male                16     Finance           11223   \n",
       "8        32714   57    Male                44   Education            3773   \n",
       "9        15944   24  Female                 1  Healthcare            7319   \n",
       "\n",
       "  Work-Life Balance Job Satisfaction Performance Rating  Number of Promotions  \\\n",
       "0         Excellent           Medium            Average                     2   \n",
       "1              Poor             High                Low                     3   \n",
       "2              Good             High                Low                     0   \n",
       "3              Good             High               High                     1   \n",
       "4              Fair        Very High            Average                     0   \n",
       "5              Fair             High      Below Average                     3   \n",
       "6              Fair             High               High                     1   \n",
       "7         Excellent        Very High               High                     2   \n",
       "8              Good           Medium               High                     1   \n",
       "9              Poor             High            Average                     1   \n",
       "\n",
       "   ... Number of Dependents  Job Level Company Size  \\\n",
       "0  ...                    0        Mid       Medium   \n",
       "1  ...                    3        Mid       Medium   \n",
       "2  ...                    3        Mid       Medium   \n",
       "3  ...                    2        Mid        Small   \n",
       "4  ...                    0     Senior       Medium   \n",
       "5  ...                    0        Mid       Medium   \n",
       "6  ...                    3      Entry        Small   \n",
       "7  ...                    4      Entry       Medium   \n",
       "8  ...                    4      Entry       Medium   \n",
       "9  ...                    4      Entry        Large   \n",
       "\n",
       "  Company Tenure (In Months)  Remote Work Leadership Opportunities  \\\n",
       "0                       89.0           No                       No   \n",
       "1                       21.0           No                       No   \n",
       "2                       74.0           No                       No   \n",
       "3                       50.0          Yes                       No   \n",
       "4                       68.0           No                       No   \n",
       "5                       47.0           No                       No   \n",
       "6                       93.0           No                       No   \n",
       "7                       88.0           No                       No   \n",
       "8                       75.0           No                       No   \n",
       "9                        NaN           No                       No   \n",
       "\n",
       "  Innovation Opportunities  Company Reputation Employee Recognition Attrition  \n",
       "0                       No           Excellent               Medium    Stayed  \n",
       "1                       No                Fair                  Low    Stayed  \n",
       "2                       No                Poor                  Low    Stayed  \n",
       "3                       No                Good               Medium    Stayed  \n",
       "4                       No                Fair               Medium    Stayed  \n",
       "5                      Yes                Fair                 High      Left  \n",
       "6                       No                Good               Medium      Left  \n",
       "7                       No           Excellent                  Low    Stayed  \n",
       "8                       No                Fair               Medium    Stayed  \n",
       "9                      Yes                Good                  Low      Left  \n",
       "\n",
       "[10 rows x 24 columns]"
      ]
     },
     "execution_count": 113,
     "metadata": {},
     "output_type": "execute_result"
    }
   ],
   "source": [
    "# Check the first few entries\n",
    "df.head(10)"
   ]
  },
  {
   "cell_type": "code",
   "execution_count": 115,
   "metadata": {
    "id": "msGYpADRbzE7"
   },
   "outputs": [
    {
     "data": {
      "text/plain": [
       "(74610, 24)"
      ]
     },
     "execution_count": 115,
     "metadata": {},
     "output_type": "execute_result"
    }
   ],
   "source": [
    "# Inspect the shape of the dataset\n",
    "df.shape #hece there are 74610 rows and 24 columns\n"
   ]
  },
  {
   "cell_type": "code",
   "execution_count": 117,
   "metadata": {
    "id": "kL53eXK6bzE7"
   },
   "outputs": [
    {
     "data": {
      "text/plain": [
       "Index(['Employee ID', 'Age', 'Gender', 'Years at Company', 'Job Role',\n",
       "       'Monthly Income', 'Work-Life Balance', 'Job Satisfaction',\n",
       "       'Performance Rating', 'Number of Promotions', 'Overtime',\n",
       "       'Distance from Home', 'Education Level', 'Marital Status',\n",
       "       'Number of Dependents', 'Job Level', 'Company Size',\n",
       "       'Company Tenure (In Months)', 'Remote Work', 'Leadership Opportunities',\n",
       "       'Innovation Opportunities', 'Company Reputation',\n",
       "       'Employee Recognition', 'Attrition'],\n",
       "      dtype='object')"
      ]
     },
     "execution_count": 117,
     "metadata": {},
     "output_type": "execute_result"
    }
   ],
   "source": [
    "# Inspect the different columns in the dataset\n",
    "df.columns"
   ]
  },
  {
   "cell_type": "markdown",
   "metadata": {
    "id": "LrFKEWp8cmxB"
   },
   "source": [
    "### **1.2 Check the basic statistics**"
   ]
  },
  {
   "cell_type": "code",
   "execution_count": 37,
   "metadata": {
    "id": "nCykdG90bzE8"
   },
   "outputs": [
    {
     "data": {
      "text/html": [
       "<div>\n",
       "<style scoped>\n",
       "    .dataframe tbody tr th:only-of-type {\n",
       "        vertical-align: middle;\n",
       "    }\n",
       "\n",
       "    .dataframe tbody tr th {\n",
       "        vertical-align: top;\n",
       "    }\n",
       "\n",
       "    .dataframe thead th {\n",
       "        text-align: right;\n",
       "    }\n",
       "</style>\n",
       "<table border=\"1\" class=\"dataframe\">\n",
       "  <thead>\n",
       "    <tr style=\"text-align: right;\">\n",
       "      <th></th>\n",
       "      <th>Employee ID</th>\n",
       "      <th>Age</th>\n",
       "      <th>Years at Company</th>\n",
       "      <th>Monthly Income</th>\n",
       "      <th>Number of Promotions</th>\n",
       "      <th>Distance from Home</th>\n",
       "      <th>Number of Dependents</th>\n",
       "      <th>Company Tenure (In Months)</th>\n",
       "    </tr>\n",
       "  </thead>\n",
       "  <tbody>\n",
       "    <tr>\n",
       "      <th>count</th>\n",
       "      <td>74610.000000</td>\n",
       "      <td>74610.000000</td>\n",
       "      <td>74610.000000</td>\n",
       "      <td>74610.000000</td>\n",
       "      <td>74610.000000</td>\n",
       "      <td>72698.000000</td>\n",
       "      <td>74610.000000</td>\n",
       "      <td>72197.000000</td>\n",
       "    </tr>\n",
       "    <tr>\n",
       "      <th>mean</th>\n",
       "      <td>37246.028696</td>\n",
       "      <td>38.529379</td>\n",
       "      <td>15.722638</td>\n",
       "      <td>7344.931417</td>\n",
       "      <td>0.832958</td>\n",
       "      <td>49.990839</td>\n",
       "      <td>1.657432</td>\n",
       "      <td>55.711899</td>\n",
       "    </tr>\n",
       "    <tr>\n",
       "      <th>std</th>\n",
       "      <td>21505.785344</td>\n",
       "      <td>12.082299</td>\n",
       "      <td>11.224059</td>\n",
       "      <td>2596.373589</td>\n",
       "      <td>0.995326</td>\n",
       "      <td>28.519135</td>\n",
       "      <td>1.579862</td>\n",
       "      <td>25.392325</td>\n",
       "    </tr>\n",
       "    <tr>\n",
       "      <th>min</th>\n",
       "      <td>1.000000</td>\n",
       "      <td>18.000000</td>\n",
       "      <td>1.000000</td>\n",
       "      <td>1226.000000</td>\n",
       "      <td>0.000000</td>\n",
       "      <td>1.000000</td>\n",
       "      <td>0.000000</td>\n",
       "      <td>2.000000</td>\n",
       "    </tr>\n",
       "    <tr>\n",
       "      <th>25%</th>\n",
       "      <td>18624.250000</td>\n",
       "      <td>28.000000</td>\n",
       "      <td>7.000000</td>\n",
       "      <td>5652.000000</td>\n",
       "      <td>0.000000</td>\n",
       "      <td>25.000000</td>\n",
       "      <td>0.000000</td>\n",
       "      <td>36.000000</td>\n",
       "    </tr>\n",
       "    <tr>\n",
       "      <th>50%</th>\n",
       "      <td>37239.500000</td>\n",
       "      <td>39.000000</td>\n",
       "      <td>13.000000</td>\n",
       "      <td>7348.500000</td>\n",
       "      <td>1.000000</td>\n",
       "      <td>50.000000</td>\n",
       "      <td>1.000000</td>\n",
       "      <td>56.000000</td>\n",
       "    </tr>\n",
       "    <tr>\n",
       "      <th>75%</th>\n",
       "      <td>55871.750000</td>\n",
       "      <td>49.000000</td>\n",
       "      <td>23.000000</td>\n",
       "      <td>8876.000000</td>\n",
       "      <td>2.000000</td>\n",
       "      <td>75.000000</td>\n",
       "      <td>3.000000</td>\n",
       "      <td>76.000000</td>\n",
       "    </tr>\n",
       "    <tr>\n",
       "      <th>max</th>\n",
       "      <td>74498.000000</td>\n",
       "      <td>59.000000</td>\n",
       "      <td>51.000000</td>\n",
       "      <td>50030.000000</td>\n",
       "      <td>4.000000</td>\n",
       "      <td>99.000000</td>\n",
       "      <td>15.000000</td>\n",
       "      <td>128.000000</td>\n",
       "    </tr>\n",
       "  </tbody>\n",
       "</table>\n",
       "</div>"
      ],
      "text/plain": [
       "        Employee ID           Age  Years at Company  Monthly Income  \\\n",
       "count  74610.000000  74610.000000      74610.000000    74610.000000   \n",
       "mean   37246.028696     38.529379         15.722638     7344.931417   \n",
       "std    21505.785344     12.082299         11.224059     2596.373589   \n",
       "min        1.000000     18.000000          1.000000     1226.000000   \n",
       "25%    18624.250000     28.000000          7.000000     5652.000000   \n",
       "50%    37239.500000     39.000000         13.000000     7348.500000   \n",
       "75%    55871.750000     49.000000         23.000000     8876.000000   \n",
       "max    74498.000000     59.000000         51.000000    50030.000000   \n",
       "\n",
       "       Number of Promotions  Distance from Home  Number of Dependents  \\\n",
       "count          74610.000000        72698.000000          74610.000000   \n",
       "mean               0.832958           49.990839              1.657432   \n",
       "std                0.995326           28.519135              1.579862   \n",
       "min                0.000000            1.000000              0.000000   \n",
       "25%                0.000000           25.000000              0.000000   \n",
       "50%                1.000000           50.000000              1.000000   \n",
       "75%                2.000000           75.000000              3.000000   \n",
       "max                4.000000           99.000000             15.000000   \n",
       "\n",
       "       Company Tenure (In Months)  \n",
       "count                72197.000000  \n",
       "mean                    55.711899  \n",
       "std                     25.392325  \n",
       "min                      2.000000  \n",
       "25%                     36.000000  \n",
       "50%                     56.000000  \n",
       "75%                     76.000000  \n",
       "max                    128.000000  "
      ]
     },
     "execution_count": 37,
     "metadata": {},
     "output_type": "execute_result"
    }
   ],
   "source": [
    "# Check the summary of the dataset\n",
    "df.describe()"
   ]
  },
  {
   "cell_type": "markdown",
   "metadata": {
    "id": "vlLfK93PdFkt"
   },
   "source": [
    "### **1.3 Check the data type of columns**"
   ]
  },
  {
   "cell_type": "code",
   "execution_count": 120,
   "metadata": {
    "id": "0TplEft3bzE8"
   },
   "outputs": [
    {
     "name": "stdout",
     "output_type": "stream",
     "text": [
      "<class 'pandas.core.frame.DataFrame'>\n",
      "RangeIndex: 74610 entries, 0 to 74609\n",
      "Data columns (total 24 columns):\n",
      " #   Column                      Non-Null Count  Dtype  \n",
      "---  ------                      --------------  -----  \n",
      " 0   Employee ID                 74610 non-null  int64  \n",
      " 1   Age                         74610 non-null  int64  \n",
      " 2   Gender                      74610 non-null  object \n",
      " 3   Years at Company            74610 non-null  int64  \n",
      " 4   Job Role                    74610 non-null  object \n",
      " 5   Monthly Income              74610 non-null  int64  \n",
      " 6   Work-Life Balance           74610 non-null  object \n",
      " 7   Job Satisfaction            74610 non-null  object \n",
      " 8   Performance Rating          74610 non-null  object \n",
      " 9   Number of Promotions        74610 non-null  int64  \n",
      " 10  Overtime                    74610 non-null  object \n",
      " 11  Distance from Home          72698 non-null  float64\n",
      " 12  Education Level             74610 non-null  object \n",
      " 13  Marital Status              74610 non-null  object \n",
      " 14  Number of Dependents        74610 non-null  int64  \n",
      " 15  Job Level                   74610 non-null  object \n",
      " 16  Company Size                74610 non-null  object \n",
      " 17  Company Tenure (In Months)  72197 non-null  float64\n",
      " 18  Remote Work                 74610 non-null  object \n",
      " 19  Leadership Opportunities    74610 non-null  object \n",
      " 20  Innovation Opportunities    74610 non-null  object \n",
      " 21  Company Reputation          74610 non-null  object \n",
      " 22  Employee Recognition        74610 non-null  object \n",
      " 23  Attrition                   74610 non-null  object \n",
      "dtypes: float64(2), int64(6), object(16)\n",
      "memory usage: 13.7+ MB\n",
      "None\n"
     ]
    },
    {
     "data": {
      "text/plain": [
       "Employee ID                   0.0\n",
       "Age                           0.0\n",
       "Gender                        0.0\n",
       "Years at Company              0.0\n",
       "Job Role                      0.0\n",
       "Monthly Income                0.0\n",
       "Work-Life Balance             0.0\n",
       "Job Satisfaction              0.0\n",
       "Performance Rating            0.0\n",
       "Number of Promotions          0.0\n",
       "Overtime                      0.0\n",
       "Distance from Home            3.0\n",
       "Education Level               0.0\n",
       "Marital Status                0.0\n",
       "Number of Dependents          0.0\n",
       "Job Level                     0.0\n",
       "Company Size                  0.0\n",
       "Company Tenure (In Months)    3.0\n",
       "Remote Work                   0.0\n",
       "Leadership Opportunities      0.0\n",
       "Innovation Opportunities      0.0\n",
       "Company Reputation            0.0\n",
       "Employee Recognition          0.0\n",
       "Attrition                     0.0\n",
       "dtype: float64"
      ]
     },
     "execution_count": 120,
     "metadata": {},
     "output_type": "execute_result"
    }
   ],
   "source": [
    "# Check the info to see the types of the feature variables and the null values prese\n",
    "# very smal percentage of rows have null values 3% of the data so we can go ahead with it \n",
    "print(df.info())\n",
    "100*(df.isnull().sum()/len(df)).round(2)"
   ]
  },
  {
   "cell_type": "markdown",
   "metadata": {
    "id": "tNXum35MbzE9"
   },
   "source": [
    "## **2. Data Cleaning** <font color = red>[15 marks]</font>"
   ]
  },
  {
   "cell_type": "markdown",
   "metadata": {
    "id": "tC_ik7dobzE9"
   },
   "source": [
    "### **2.1 Handle the missing values** <font color = red>[10 marks]</font>"
   ]
  },
  {
   "cell_type": "markdown",
   "metadata": {
    "id": "8gPB7iZwdqxM"
   },
   "source": [
    "2.1.1 Check the number of missing values <font color=\"red\">[2 Mark]</font>"
   ]
  },
  {
   "cell_type": "code",
   "execution_count": 122,
   "metadata": {
    "id": "zOQGBvHSbzE9"
   },
   "outputs": [
    {
     "data": {
      "text/plain": [
       "Employee ID                      0\n",
       "Age                              0\n",
       "Gender                           0\n",
       "Years at Company                 0\n",
       "Job Role                         0\n",
       "Monthly Income                   0\n",
       "Work-Life Balance                0\n",
       "Job Satisfaction                 0\n",
       "Performance Rating               0\n",
       "Number of Promotions             0\n",
       "Overtime                         0\n",
       "Distance from Home            1912\n",
       "Education Level                  0\n",
       "Marital Status                   0\n",
       "Number of Dependents             0\n",
       "Job Level                        0\n",
       "Company Size                     0\n",
       "Company Tenure (In Months)    2413\n",
       "Remote Work                      0\n",
       "Leadership Opportunities         0\n",
       "Innovation Opportunities         0\n",
       "Company Reputation               0\n",
       "Employee Recognition             0\n",
       "Attrition                        0\n",
       "dtype: int64"
      ]
     },
     "execution_count": 122,
     "metadata": {},
     "output_type": "execute_result"
    }
   ],
   "source": [
    "# Check the number of missing values in each column = comapny tennure has the maximum number of the null values second one is distance from home \n",
    "df.isnull().sum()"
   ]
  },
  {
   "cell_type": "markdown",
   "metadata": {
    "id": "vcFIVIOlR_91"
   },
   "source": [
    "2.1.2 Check the percentage of missing values <font color=\"red\">[2 Marks]</font>"
   ]
  },
  {
   "cell_type": "code",
   "execution_count": 124,
   "metadata": {
    "id": "sjpnMExYbzE9"
   },
   "outputs": [
    {
     "data": {
      "text/plain": [
       "Employee ID                   0.0\n",
       "Age                           0.0\n",
       "Gender                        0.0\n",
       "Years at Company              0.0\n",
       "Job Role                      0.0\n",
       "Monthly Income                0.0\n",
       "Work-Life Balance             0.0\n",
       "Job Satisfaction              0.0\n",
       "Performance Rating            0.0\n",
       "Number of Promotions          0.0\n",
       "Overtime                      0.0\n",
       "Distance from Home            3.0\n",
       "Education Level               0.0\n",
       "Marital Status                0.0\n",
       "Number of Dependents          0.0\n",
       "Job Level                     0.0\n",
       "Company Size                  0.0\n",
       "Company Tenure (In Months)    3.0\n",
       "Remote Work                   0.0\n",
       "Leadership Opportunities      0.0\n",
       "Innovation Opportunities      0.0\n",
       "Company Reputation            0.0\n",
       "Employee Recognition          0.0\n",
       "Attrition                     0.0\n",
       "dtype: float64"
      ]
     },
     "execution_count": 124,
     "metadata": {},
     "output_type": "execute_result"
    }
   ],
   "source": [
    "# Check the percentage of missing values in each column\n",
    "100*(df.isnull().sum()/len(df)).round(2)"
   ]
  },
  {
   "cell_type": "markdown",
   "metadata": {
    "id": "MJL1T8-Sd6S-"
   },
   "source": [
    "2.1.3 Handle rows with missing values <font color=\"red\">[4 Marks]</font>"
   ]
  },
  {
   "cell_type": "code",
   "execution_count": 126,
   "metadata": {
    "id": "qIMPqTTWbzE_"
   },
   "outputs": [],
   "source": [
    "# Handle the missing value rows in the column\n",
    "df=df[~df[\"Company Tenure (In Months)\"].isnull()]"
   ]
  },
  {
   "cell_type": "code",
   "execution_count": 128,
   "metadata": {},
   "outputs": [],
   "source": [
    "# also to rmeove missing values in one more column which is distance form home \n",
    "df=df[~df[\"Distance from Home\"].isnull()]"
   ]
  },
  {
   "cell_type": "markdown",
   "metadata": {
    "id": "uefvEMkDeJhv"
   },
   "source": [
    "2.1.4 Check percentage of remaning data after missing values are removed <font color=\"red\">[2 Mark]</font>"
   ]
  },
  {
   "cell_type": "code",
   "execution_count": 130,
   "metadata": {
    "id": "SPIVeWX2bzFA"
   },
   "outputs": [
    {
     "data": {
      "text/plain": [
       "Employee ID                   0.0\n",
       "Age                           0.0\n",
       "Gender                        0.0\n",
       "Years at Company              0.0\n",
       "Job Role                      0.0\n",
       "Monthly Income                0.0\n",
       "Work-Life Balance             0.0\n",
       "Job Satisfaction              0.0\n",
       "Performance Rating            0.0\n",
       "Number of Promotions          0.0\n",
       "Overtime                      0.0\n",
       "Distance from Home            0.0\n",
       "Education Level               0.0\n",
       "Marital Status                0.0\n",
       "Number of Dependents          0.0\n",
       "Job Level                     0.0\n",
       "Company Size                  0.0\n",
       "Company Tenure (In Months)    0.0\n",
       "Remote Work                   0.0\n",
       "Leadership Opportunities      0.0\n",
       "Innovation Opportunities      0.0\n",
       "Company Reputation            0.0\n",
       "Employee Recognition          0.0\n",
       "Attrition                     0.0\n",
       "dtype: float64"
      ]
     },
     "execution_count": 130,
     "metadata": {},
     "output_type": "execute_result"
    }
   ],
   "source": [
    "# Check the percentage of remaining data after missing values are removed= all clear now each and every columns has no null value anymore we are ready to go \n",
    "100*(df.isnull().sum()/len(df)).round(2)"
   ]
  },
  {
   "cell_type": "markdown",
   "metadata": {
    "id": "TbUOnf6rGEF1"
   },
   "source": [
    "### **2.2 Identify and handle redundant values within categorical columns (if any)** <font color = red>[3 marks]</font>"
   ]
  },
  {
   "cell_type": "markdown",
   "metadata": {
    "id": "kEYeQw_SeaLi"
   },
   "source": [
    "Examine the categorical columns to determine if any value or column needs to be treated"
   ]
  },
  {
   "cell_type": "code",
   "execution_count": 132,
   "metadata": {
    "id": "DIBKtZhZjIk6"
   },
   "outputs": [
    {
     "name": "stdout",
     "output_type": "stream",
     "text": [
      "\n",
      "Gender = ['Male' 'Female']\n",
      "\n",
      "Job Role = ['Education' 'Media' 'Healthcare' 'Technology' 'Finance']\n",
      "\n",
      "Work-Life Balance = ['Excellent' 'Poor' 'Good' 'Fair']\n",
      "\n",
      "Job Satisfaction = ['Medium' 'High' 'Very High' 'Low']\n",
      "\n",
      "Performance Rating = ['Average' 'Low' 'High' 'Below Average']\n",
      "\n",
      "Overtime = ['No' 'Yes']\n",
      "\n",
      "Education Level = ['Associate Degree' 'Masterâ€™s Degree' 'Bachelorâ€™s Degree'\n",
      " 'High School' 'PhD']\n",
      "\n",
      "Marital Status = ['Married' 'Divorced' 'Single']\n",
      "\n",
      "Job Level = ['Mid' 'Senior' 'Entry']\n",
      "\n",
      "Company Size = ['Medium' 'Small' 'Large']\n",
      "\n",
      "Remote Work = ['No' 'Yes']\n",
      "\n",
      "Leadership Opportunities = ['No' 'Yes']\n",
      "\n",
      "Innovation Opportunities = ['No' 'Yes']\n",
      "\n",
      "Company Reputation = ['Excellent' 'Fair' 'Poor' 'Good']\n",
      "\n",
      "Employee Recognition = ['Medium' 'Low' 'High' 'Very High']\n",
      "\n",
      "Attrition = ['Stayed' 'Left']\n"
     ]
    }
   ],
   "source": [
    "# check categorical columns if they hace rebundant values \n",
    "for col in df.select_dtypes(include='object'):\n",
    "    print(f\"\\n{col} = {df[col].unique()}\")\n",
    "\n"
   ]
  },
  {
   "cell_type": "code",
   "execution_count": 134,
   "metadata": {},
   "outputs": [
    {
     "data": {
      "text/plain": [
       "77"
      ]
     },
     "execution_count": 134,
     "metadata": {},
     "output_type": "execute_result"
    }
   ],
   "source": [
    "# also to remove duplicate values  as there are 77 duplicat values \n",
    "df.duplicated().sum()"
   ]
  },
  {
   "cell_type": "code",
   "execution_count": 136,
   "metadata": {},
   "outputs": [],
   "source": [
    "# after duplicates values are removed\n",
    "df.drop_duplicates(inplace=True)"
   ]
  },
  {
   "cell_type": "code",
   "execution_count": 138,
   "metadata": {
    "id": "P5eoGWCSbzFC"
   },
   "outputs": [
    {
     "data": {
      "text/plain": [
       "0"
      ]
     },
     "execution_count": 138,
     "metadata": {},
     "output_type": "execute_result"
    }
   ],
   "source": [
    "# Check the data\n",
    "df.duplicated().sum()"
   ]
  },
  {
   "cell_type": "markdown",
   "metadata": {
    "id": "7bfojd-9ek3I"
   },
   "source": [
    "### **2.3 Drop redundant columns** <font color = red>[2 marks]</font>"
   ]
  },
  {
   "cell_type": "code",
   "execution_count": 428,
   "metadata": {
    "id": "G4tBQCuxbzFC"
   },
   "outputs": [],
   "source": [
    "# Drop redundant columns which are not required for modelling\n",
    "df_copy=df"
   ]
  },
  {
   "cell_type": "code",
   "execution_count": 430,
   "metadata": {},
   "outputs": [],
   "source": [
    "df_copy=df_copy.drop(\"Employee ID\" , axis=1)"
   ]
  },
  {
   "cell_type": "code",
   "execution_count": 431,
   "metadata": {
    "id": "diL_DCV9bzFC"
   },
   "outputs": [
    {
     "data": {
      "text/html": [
       "<div>\n",
       "<style scoped>\n",
       "    .dataframe tbody tr th:only-of-type {\n",
       "        vertical-align: middle;\n",
       "    }\n",
       "\n",
       "    .dataframe tbody tr th {\n",
       "        vertical-align: top;\n",
       "    }\n",
       "\n",
       "    .dataframe thead th {\n",
       "        text-align: right;\n",
       "    }\n",
       "</style>\n",
       "<table border=\"1\" class=\"dataframe\">\n",
       "  <thead>\n",
       "    <tr style=\"text-align: right;\">\n",
       "      <th></th>\n",
       "      <th>Age</th>\n",
       "      <th>Gender</th>\n",
       "      <th>Years at Company</th>\n",
       "      <th>Job Role</th>\n",
       "      <th>Monthly Income</th>\n",
       "      <th>Work-Life Balance</th>\n",
       "      <th>Job Satisfaction</th>\n",
       "      <th>Performance Rating</th>\n",
       "      <th>Number of Promotions</th>\n",
       "      <th>Overtime</th>\n",
       "      <th>...</th>\n",
       "      <th>Number of Dependents</th>\n",
       "      <th>Job Level</th>\n",
       "      <th>Company Size</th>\n",
       "      <th>Company Tenure (In Months)</th>\n",
       "      <th>Remote Work</th>\n",
       "      <th>Leadership Opportunities</th>\n",
       "      <th>Innovation Opportunities</th>\n",
       "      <th>Company Reputation</th>\n",
       "      <th>Employee Recognition</th>\n",
       "      <th>Attrition</th>\n",
       "    </tr>\n",
       "  </thead>\n",
       "  <tbody>\n",
       "    <tr>\n",
       "      <th>0</th>\n",
       "      <td>31</td>\n",
       "      <td>Male</td>\n",
       "      <td>19</td>\n",
       "      <td>Education</td>\n",
       "      <td>5390</td>\n",
       "      <td>Excellent</td>\n",
       "      <td>Medium</td>\n",
       "      <td>Average</td>\n",
       "      <td>2</td>\n",
       "      <td>No</td>\n",
       "      <td>...</td>\n",
       "      <td>0</td>\n",
       "      <td>Mid</td>\n",
       "      <td>Medium</td>\n",
       "      <td>89.0</td>\n",
       "      <td>No</td>\n",
       "      <td>No</td>\n",
       "      <td>No</td>\n",
       "      <td>Excellent</td>\n",
       "      <td>Medium</td>\n",
       "      <td>Stayed</td>\n",
       "    </tr>\n",
       "    <tr>\n",
       "      <th>1</th>\n",
       "      <td>59</td>\n",
       "      <td>Female</td>\n",
       "      <td>4</td>\n",
       "      <td>Media</td>\n",
       "      <td>5534</td>\n",
       "      <td>Poor</td>\n",
       "      <td>High</td>\n",
       "      <td>Low</td>\n",
       "      <td>3</td>\n",
       "      <td>No</td>\n",
       "      <td>...</td>\n",
       "      <td>3</td>\n",
       "      <td>Mid</td>\n",
       "      <td>Medium</td>\n",
       "      <td>21.0</td>\n",
       "      <td>No</td>\n",
       "      <td>No</td>\n",
       "      <td>No</td>\n",
       "      <td>Fair</td>\n",
       "      <td>Low</td>\n",
       "      <td>Stayed</td>\n",
       "    </tr>\n",
       "    <tr>\n",
       "      <th>2</th>\n",
       "      <td>24</td>\n",
       "      <td>Female</td>\n",
       "      <td>10</td>\n",
       "      <td>Healthcare</td>\n",
       "      <td>8159</td>\n",
       "      <td>Good</td>\n",
       "      <td>High</td>\n",
       "      <td>Low</td>\n",
       "      <td>0</td>\n",
       "      <td>No</td>\n",
       "      <td>...</td>\n",
       "      <td>3</td>\n",
       "      <td>Mid</td>\n",
       "      <td>Medium</td>\n",
       "      <td>74.0</td>\n",
       "      <td>No</td>\n",
       "      <td>No</td>\n",
       "      <td>No</td>\n",
       "      <td>Poor</td>\n",
       "      <td>Low</td>\n",
       "      <td>Stayed</td>\n",
       "    </tr>\n",
       "    <tr>\n",
       "      <th>3</th>\n",
       "      <td>36</td>\n",
       "      <td>Female</td>\n",
       "      <td>7</td>\n",
       "      <td>Education</td>\n",
       "      <td>3989</td>\n",
       "      <td>Good</td>\n",
       "      <td>High</td>\n",
       "      <td>High</td>\n",
       "      <td>1</td>\n",
       "      <td>No</td>\n",
       "      <td>...</td>\n",
       "      <td>2</td>\n",
       "      <td>Mid</td>\n",
       "      <td>Small</td>\n",
       "      <td>50.0</td>\n",
       "      <td>Yes</td>\n",
       "      <td>No</td>\n",
       "      <td>No</td>\n",
       "      <td>Good</td>\n",
       "      <td>Medium</td>\n",
       "      <td>Stayed</td>\n",
       "    </tr>\n",
       "    <tr>\n",
       "      <th>4</th>\n",
       "      <td>56</td>\n",
       "      <td>Male</td>\n",
       "      <td>41</td>\n",
       "      <td>Education</td>\n",
       "      <td>4821</td>\n",
       "      <td>Fair</td>\n",
       "      <td>Very High</td>\n",
       "      <td>Average</td>\n",
       "      <td>0</td>\n",
       "      <td>Yes</td>\n",
       "      <td>...</td>\n",
       "      <td>0</td>\n",
       "      <td>Senior</td>\n",
       "      <td>Medium</td>\n",
       "      <td>68.0</td>\n",
       "      <td>No</td>\n",
       "      <td>No</td>\n",
       "      <td>No</td>\n",
       "      <td>Fair</td>\n",
       "      <td>Medium</td>\n",
       "      <td>Stayed</td>\n",
       "    </tr>\n",
       "  </tbody>\n",
       "</table>\n",
       "<p>5 rows × 23 columns</p>\n",
       "</div>"
      ],
      "text/plain": [
       "   Age  Gender  Years at Company    Job Role  Monthly Income  \\\n",
       "0   31    Male                19   Education            5390   \n",
       "1   59  Female                 4       Media            5534   \n",
       "2   24  Female                10  Healthcare            8159   \n",
       "3   36  Female                 7   Education            3989   \n",
       "4   56    Male                41   Education            4821   \n",
       "\n",
       "  Work-Life Balance Job Satisfaction Performance Rating  Number of Promotions  \\\n",
       "0         Excellent           Medium            Average                     2   \n",
       "1              Poor             High                Low                     3   \n",
       "2              Good             High                Low                     0   \n",
       "3              Good             High               High                     1   \n",
       "4              Fair        Very High            Average                     0   \n",
       "\n",
       "  Overtime  ...  Number of Dependents Job Level Company Size  \\\n",
       "0       No  ...                     0       Mid       Medium   \n",
       "1       No  ...                     3       Mid       Medium   \n",
       "2       No  ...                     3       Mid       Medium   \n",
       "3       No  ...                     2       Mid        Small   \n",
       "4      Yes  ...                     0    Senior       Medium   \n",
       "\n",
       "   Company Tenure (In Months) Remote Work Leadership Opportunities  \\\n",
       "0                        89.0          No                       No   \n",
       "1                        21.0          No                       No   \n",
       "2                        74.0          No                       No   \n",
       "3                        50.0         Yes                       No   \n",
       "4                        68.0          No                       No   \n",
       "\n",
       "   Innovation Opportunities Company Reputation Employee Recognition Attrition  \n",
       "0                        No          Excellent               Medium    Stayed  \n",
       "1                        No               Fair                  Low    Stayed  \n",
       "2                        No               Poor                  Low    Stayed  \n",
       "3                        No               Good               Medium    Stayed  \n",
       "4                        No               Fair               Medium    Stayed  \n",
       "\n",
       "[5 rows x 23 columns]"
      ]
     },
     "execution_count": 431,
     "metadata": {},
     "output_type": "execute_result"
    }
   ],
   "source": [
    "# Check first few rows of data\n",
    "df_copy.head()"
   ]
  },
  {
   "cell_type": "markdown",
   "metadata": {
    "id": "4j3GERIwML89"
   },
   "source": [
    "## **3. Train-Validation Split** <font color = red>[5 marks]</font>"
   ]
  },
  {
   "cell_type": "markdown",
   "metadata": {
    "id": "3k6v53qJhWvt"
   },
   "source": [
    "### **3.1 Import required libraries**"
   ]
  },
  {
   "cell_type": "code",
   "execution_count": 394,
   "metadata": {
    "id": "sYg9FxlvbzFH"
   },
   "outputs": [],
   "source": [
    "# Import Train Test Split\n",
    "from sklearn.model_selection import train_test_split "
   ]
  },
  {
   "cell_type": "markdown",
   "metadata": {
    "id": "KZbrbFe2hex4"
   },
   "source": [
    "### **3.2 Define feature and target variables** <font color = red>[2 Mark]</font>"
   ]
  },
  {
   "cell_type": "code",
   "execution_count": 396,
   "metadata": {
    "id": "UfJfQrc5bzFH"
   },
   "outputs": [],
   "source": [
    "# Put all the feature variables in X\n",
    "X=df_copy.drop(\"Attrition\" , axis=1)\n",
    "# Put the target variable in y\n",
    "y=df_copy[\"Attrition\"]"
   ]
  },
  {
   "cell_type": "markdown",
   "metadata": {
    "id": "say6J66Bh9mo"
   },
   "source": [
    "### **3.3 Split the data** <font color=\"red\">[3 Marks]</font>"
   ]
  },
  {
   "cell_type": "code",
   "execution_count": 822,
   "metadata": {
    "id": "zghEvbRUbzFH"
   },
   "outputs": [],
   "source": [
    "# Split the data into 70% train data and 30% validation data\n",
    "X_train , X_test ,  y_train, y_test=train_test_split(X , y , train_size=70 , test_size=30 , random_state=100)"
   ]
  },
  {
   "cell_type": "markdown",
   "metadata": {
    "id": "ldKNxCXogIz2"
   },
   "source": [
    "## **4. EDA on training data** <font color = red>[20 marks]</font>"
   ]
  },
  {
   "cell_type": "markdown",
   "metadata": {
    "id": "CGyYCt8-ZBR1"
   },
   "source": [
    "### **4.1 Perform univariate analysis** <font color = red>[6 marks]</font>"
   ]
  },
  {
   "cell_type": "markdown",
   "metadata": {
    "id": "YTdmWrZ1gjmv"
   },
   "source": [
    "Perform univariate analysis on training data for all the numerical columns.\n",
    "\n",
    "\n"
   ]
  },
  {
   "cell_type": "markdown",
   "metadata": {
    "id": "hDDjpMUcZPrp"
   },
   "source": [
    "4.1.1 Select numerical columns from training data <font color = \"red\">[1 Mark]</font>"
   ]
  },
  {
   "cell_type": "code",
   "execution_count": 824,
   "metadata": {
    "id": "ilQNUm3ugqEb"
   },
   "outputs": [
    {
     "data": {
      "text/html": [
       "<div>\n",
       "<style scoped>\n",
       "    .dataframe tbody tr th:only-of-type {\n",
       "        vertical-align: middle;\n",
       "    }\n",
       "\n",
       "    .dataframe tbody tr th {\n",
       "        vertical-align: top;\n",
       "    }\n",
       "\n",
       "    .dataframe thead th {\n",
       "        text-align: right;\n",
       "    }\n",
       "</style>\n",
       "<table border=\"1\" class=\"dataframe\">\n",
       "  <thead>\n",
       "    <tr style=\"text-align: right;\">\n",
       "      <th></th>\n",
       "      <th>Age</th>\n",
       "      <th>Years at Company</th>\n",
       "      <th>Monthly Income</th>\n",
       "      <th>Number of Promotions</th>\n",
       "      <th>Distance from Home</th>\n",
       "      <th>Number of Dependents</th>\n",
       "      <th>Company Tenure (In Months)</th>\n",
       "    </tr>\n",
       "  </thead>\n",
       "  <tbody>\n",
       "    <tr>\n",
       "      <th>32761</th>\n",
       "      <td>45</td>\n",
       "      <td>31</td>\n",
       "      <td>7054</td>\n",
       "      <td>3</td>\n",
       "      <td>43.0</td>\n",
       "      <td>0</td>\n",
       "      <td>110.0</td>\n",
       "    </tr>\n",
       "    <tr>\n",
       "      <th>24626</th>\n",
       "      <td>59</td>\n",
       "      <td>8</td>\n",
       "      <td>6831</td>\n",
       "      <td>0</td>\n",
       "      <td>22.0</td>\n",
       "      <td>1</td>\n",
       "      <td>29.0</td>\n",
       "    </tr>\n",
       "    <tr>\n",
       "      <th>23110</th>\n",
       "      <td>46</td>\n",
       "      <td>37</td>\n",
       "      <td>5366</td>\n",
       "      <td>1</td>\n",
       "      <td>46.0</td>\n",
       "      <td>0</td>\n",
       "      <td>90.0</td>\n",
       "    </tr>\n",
       "    <tr>\n",
       "      <th>12461</th>\n",
       "      <td>44</td>\n",
       "      <td>20</td>\n",
       "      <td>8266</td>\n",
       "      <td>0</td>\n",
       "      <td>1.0</td>\n",
       "      <td>1</td>\n",
       "      <td>51.0</td>\n",
       "    </tr>\n",
       "    <tr>\n",
       "      <th>2120</th>\n",
       "      <td>44</td>\n",
       "      <td>22</td>\n",
       "      <td>8325</td>\n",
       "      <td>0</td>\n",
       "      <td>35.0</td>\n",
       "      <td>0</td>\n",
       "      <td>56.0</td>\n",
       "    </tr>\n",
       "  </tbody>\n",
       "</table>\n",
       "</div>"
      ],
      "text/plain": [
       "       Age  Years at Company  Monthly Income  Number of Promotions  \\\n",
       "32761   45                31            7054                     3   \n",
       "24626   59                 8            6831                     0   \n",
       "23110   46                37            5366                     1   \n",
       "12461   44                20            8266                     0   \n",
       "2120    44                22            8325                     0   \n",
       "\n",
       "       Distance from Home  Number of Dependents  Company Tenure (In Months)  \n",
       "32761                43.0                     0                       110.0  \n",
       "24626                22.0                     1                        29.0  \n",
       "23110                46.0                     0                        90.0  \n",
       "12461                 1.0                     1                        51.0  \n",
       "2120                 35.0                     0                        56.0  "
      ]
     },
     "execution_count": 824,
     "metadata": {},
     "output_type": "execute_result"
    }
   ],
   "source": [
    "# Select numerical columns\n",
    "X_train.select_dtypes(include=\"number\").head()\n"
   ]
  },
  {
   "cell_type": "code",
   "execution_count": 875,
   "metadata": {},
   "outputs": [],
   "source": [
    "num=[\"Age\" , \"Years at Company\" , \"Monthly Income\" , \"Number of Promotions\" , \t\"Distance from Home\" , \t\"Number of Dependents\" , \t\n",
    "         \"Company Tenure (In Months)\" ]"
   ]
  },
  {
   "cell_type": "code",
   "execution_count": 877,
   "metadata": {},
   "outputs": [
    {
     "data": {
      "text/html": [
       "<div>\n",
       "<style scoped>\n",
       "    .dataframe tbody tr th:only-of-type {\n",
       "        vertical-align: middle;\n",
       "    }\n",
       "\n",
       "    .dataframe tbody tr th {\n",
       "        vertical-align: top;\n",
       "    }\n",
       "\n",
       "    .dataframe thead th {\n",
       "        text-align: right;\n",
       "    }\n",
       "</style>\n",
       "<table border=\"1\" class=\"dataframe\">\n",
       "  <thead>\n",
       "    <tr style=\"text-align: right;\">\n",
       "      <th></th>\n",
       "      <th>Age</th>\n",
       "      <th>Years at Company</th>\n",
       "      <th>Monthly Income</th>\n",
       "      <th>Number of Promotions</th>\n",
       "      <th>Distance from Home</th>\n",
       "      <th>Number of Dependents</th>\n",
       "      <th>Company Tenure (In Months)</th>\n",
       "    </tr>\n",
       "  </thead>\n",
       "  <tbody>\n",
       "    <tr>\n",
       "      <th>32761</th>\n",
       "      <td>45</td>\n",
       "      <td>31</td>\n",
       "      <td>7054</td>\n",
       "      <td>3</td>\n",
       "      <td>43.0</td>\n",
       "      <td>0</td>\n",
       "      <td>110.0</td>\n",
       "    </tr>\n",
       "    <tr>\n",
       "      <th>24626</th>\n",
       "      <td>59</td>\n",
       "      <td>8</td>\n",
       "      <td>6831</td>\n",
       "      <td>0</td>\n",
       "      <td>22.0</td>\n",
       "      <td>1</td>\n",
       "      <td>29.0</td>\n",
       "    </tr>\n",
       "    <tr>\n",
       "      <th>23110</th>\n",
       "      <td>46</td>\n",
       "      <td>37</td>\n",
       "      <td>5366</td>\n",
       "      <td>1</td>\n",
       "      <td>46.0</td>\n",
       "      <td>0</td>\n",
       "      <td>90.0</td>\n",
       "    </tr>\n",
       "    <tr>\n",
       "      <th>12461</th>\n",
       "      <td>44</td>\n",
       "      <td>20</td>\n",
       "      <td>8266</td>\n",
       "      <td>0</td>\n",
       "      <td>1.0</td>\n",
       "      <td>1</td>\n",
       "      <td>51.0</td>\n",
       "    </tr>\n",
       "    <tr>\n",
       "      <th>2120</th>\n",
       "      <td>44</td>\n",
       "      <td>22</td>\n",
       "      <td>8325</td>\n",
       "      <td>0</td>\n",
       "      <td>35.0</td>\n",
       "      <td>0</td>\n",
       "      <td>56.0</td>\n",
       "    </tr>\n",
       "    <tr>\n",
       "      <th>...</th>\n",
       "      <td>...</td>\n",
       "      <td>...</td>\n",
       "      <td>...</td>\n",
       "      <td>...</td>\n",
       "      <td>...</td>\n",
       "      <td>...</td>\n",
       "      <td>...</td>\n",
       "    </tr>\n",
       "    <tr>\n",
       "      <th>3972</th>\n",
       "      <td>27</td>\n",
       "      <td>13</td>\n",
       "      <td>6275</td>\n",
       "      <td>3</td>\n",
       "      <td>34.0</td>\n",
       "      <td>3</td>\n",
       "      <td>29.0</td>\n",
       "    </tr>\n",
       "    <tr>\n",
       "      <th>5381</th>\n",
       "      <td>46</td>\n",
       "      <td>4</td>\n",
       "      <td>6895</td>\n",
       "      <td>0</td>\n",
       "      <td>95.0</td>\n",
       "      <td>1</td>\n",
       "      <td>78.0</td>\n",
       "    </tr>\n",
       "    <tr>\n",
       "      <th>66505</th>\n",
       "      <td>28</td>\n",
       "      <td>2</td>\n",
       "      <td>7847</td>\n",
       "      <td>1</td>\n",
       "      <td>35.0</td>\n",
       "      <td>3</td>\n",
       "      <td>46.0</td>\n",
       "    </tr>\n",
       "    <tr>\n",
       "      <th>46116</th>\n",
       "      <td>38</td>\n",
       "      <td>1</td>\n",
       "      <td>10455</td>\n",
       "      <td>3</td>\n",
       "      <td>52.0</td>\n",
       "      <td>0</td>\n",
       "      <td>13.0</td>\n",
       "    </tr>\n",
       "    <tr>\n",
       "      <th>35435</th>\n",
       "      <td>50</td>\n",
       "      <td>38</td>\n",
       "      <td>10629</td>\n",
       "      <td>1</td>\n",
       "      <td>66.0</td>\n",
       "      <td>0</td>\n",
       "      <td>81.0</td>\n",
       "    </tr>\n",
       "  </tbody>\n",
       "</table>\n",
       "<p>70 rows × 7 columns</p>\n",
       "</div>"
      ],
      "text/plain": [
       "       Age  Years at Company  Monthly Income  Number of Promotions  \\\n",
       "32761   45                31            7054                     3   \n",
       "24626   59                 8            6831                     0   \n",
       "23110   46                37            5366                     1   \n",
       "12461   44                20            8266                     0   \n",
       "2120    44                22            8325                     0   \n",
       "...    ...               ...             ...                   ...   \n",
       "3972    27                13            6275                     3   \n",
       "5381    46                 4            6895                     0   \n",
       "66505   28                 2            7847                     1   \n",
       "46116   38                 1           10455                     3   \n",
       "35435   50                38           10629                     1   \n",
       "\n",
       "       Distance from Home  Number of Dependents  Company Tenure (In Months)  \n",
       "32761                43.0                     0                       110.0  \n",
       "24626                22.0                     1                        29.0  \n",
       "23110                46.0                     0                        90.0  \n",
       "12461                 1.0                     1                        51.0  \n",
       "2120                 35.0                     0                        56.0  \n",
       "...                   ...                   ...                         ...  \n",
       "3972                 34.0                     3                        29.0  \n",
       "5381                 95.0                     1                        78.0  \n",
       "66505                35.0                     3                        46.0  \n",
       "46116                52.0                     0                        13.0  \n",
       "35435                66.0                     0                        81.0  \n",
       "\n",
       "[70 rows x 7 columns]"
      ]
     },
     "execution_count": 877,
     "metadata": {},
     "output_type": "execute_result"
    }
   ],
   "source": [
    "X_train[num]"
   ]
  },
  {
   "cell_type": "markdown",
   "metadata": {
    "id": "kx8SQw19ZfXw"
   },
   "source": [
    "4.1.2 Plot distribution of numerical columns <font color = \"red\">[5 Marks]</font>"
   ]
  },
  {
   "cell_type": "code",
   "execution_count": 895,
   "metadata": {
    "id": "zH5WGU_tgxnL",
    "scrolled": true
   },
   "outputs": [
    {
     "data": {
      "image/png": "[encoded data removed]",
      "text/plain": [
       "<Figure size 800x400 with 1 Axes>"
      ]
     },
     "metadata": {},
     "output_type": "display_data"
    },
    {
     "data": {
      "image/png": "[encoded data removed]",
      "text/plain": [
       "<Figure size 800x400 with 1 Axes>"
      ]
     },
     "metadata": {},
     "output_type": "display_data"
    },
    {
     "data": {
      "image/png": "[encoded data removed]",
      "text/plain": [
       "<Figure size 800x400 with 1 Axes>"
      ]
     },
     "metadata": {},
     "output_type": "display_data"
    },
    {
     "data": {
      "image/png": "[encoded data removed]",
      "text/plain": [
       "<Figure size 800x400 with 1 Axes>"
      ]
     },
     "metadata": {},
     "output_type": "display_data"
    },
    {
     "data": {
      "image/png": "[encoded data removed]",
      "text/plain": [
       "<Figure size 800x400 with 1 Axes>"
      ]
     },
     "metadata": {},
     "output_type": "display_data"
    },
    {
     "data": {
      "image/png": "[encoded data removed]",
      "text/plain": [
       "<Figure size 800x400 with 1 Axes>"
      ]
     },
     "metadata": {},
     "output_type": "display_data"
    },
    {
     "data": {
      "image/png": "[encoded data removed]",
      "text/plain": [
       "<Figure size 800x400 with 1 Axes>"
      ]
     },
     "metadata": {},
     "output_type": "display_data"
    }
   ],
   "source": [
    "\n",
    "# Plot all the numerical columns to understand their distribution\n",
    "import seaborn as sns\n",
    "import matplotlib.pyplot as plt\n",
    "for i in num:\n",
    "    plt.figure(figsize=(8,4))\n",
    "    sns.boxplot(y=X_train[i])\n",
    "    plt.show()\n",
    "\n"
   ]
  },
  {
   "cell_type": "code",
   "execution_count": 897,
   "metadata": {},
   "outputs": [
    {
     "data": {
      "text/html": [
       "<div>\n",
       "<style scoped>\n",
       "    .dataframe tbody tr th:only-of-type {\n",
       "        vertical-align: middle;\n",
       "    }\n",
       "\n",
       "    .dataframe tbody tr th {\n",
       "        vertical-align: top;\n",
       "    }\n",
       "\n",
       "    .dataframe thead th {\n",
       "        text-align: right;\n",
       "    }\n",
       "</style>\n",
       "<table border=\"1\" class=\"dataframe\">\n",
       "  <thead>\n",
       "    <tr style=\"text-align: right;\">\n",
       "      <th></th>\n",
       "      <th>Age</th>\n",
       "      <th>Years at Company</th>\n",
       "      <th>Monthly Income</th>\n",
       "      <th>Number of Promotions</th>\n",
       "      <th>Distance from Home</th>\n",
       "      <th>Number of Dependents</th>\n",
       "      <th>Company Tenure (In Months)</th>\n",
       "    </tr>\n",
       "  </thead>\n",
       "  <tbody>\n",
       "    <tr>\n",
       "      <th>count</th>\n",
       "      <td>70.000000</td>\n",
       "      <td>70.000000</td>\n",
       "      <td>70.000000</td>\n",
       "      <td>70.000000</td>\n",
       "      <td>70.000000</td>\n",
       "      <td>70.000000</td>\n",
       "      <td>70.000000</td>\n",
       "    </tr>\n",
       "    <tr>\n",
       "      <th>mean</th>\n",
       "      <td>40.328571</td>\n",
       "      <td>17.614286</td>\n",
       "      <td>7557.842857</td>\n",
       "      <td>0.871429</td>\n",
       "      <td>54.371429</td>\n",
       "      <td>1.857143</td>\n",
       "      <td>55.100000</td>\n",
       "    </tr>\n",
       "    <tr>\n",
       "      <th>std</th>\n",
       "      <td>11.360651</td>\n",
       "      <td>11.113763</td>\n",
       "      <td>2192.184462</td>\n",
       "      <td>1.128311</td>\n",
       "      <td>26.692110</td>\n",
       "      <td>1.828008</td>\n",
       "      <td>24.435155</td>\n",
       "    </tr>\n",
       "    <tr>\n",
       "      <th>min</th>\n",
       "      <td>18.000000</td>\n",
       "      <td>1.000000</td>\n",
       "      <td>3357.000000</td>\n",
       "      <td>0.000000</td>\n",
       "      <td>1.000000</td>\n",
       "      <td>0.000000</td>\n",
       "      <td>10.000000</td>\n",
       "    </tr>\n",
       "    <tr>\n",
       "      <th>25%</th>\n",
       "      <td>29.250000</td>\n",
       "      <td>8.250000</td>\n",
       "      <td>5816.250000</td>\n",
       "      <td>0.000000</td>\n",
       "      <td>36.000000</td>\n",
       "      <td>0.000000</td>\n",
       "      <td>36.000000</td>\n",
       "    </tr>\n",
       "    <tr>\n",
       "      <th>50%</th>\n",
       "      <td>42.500000</td>\n",
       "      <td>14.000000</td>\n",
       "      <td>7373.500000</td>\n",
       "      <td>0.000000</td>\n",
       "      <td>52.500000</td>\n",
       "      <td>1.000000</td>\n",
       "      <td>56.500000</td>\n",
       "    </tr>\n",
       "    <tr>\n",
       "      <th>75%</th>\n",
       "      <td>49.000000</td>\n",
       "      <td>27.750000</td>\n",
       "      <td>8978.000000</td>\n",
       "      <td>1.750000</td>\n",
       "      <td>74.500000</td>\n",
       "      <td>4.000000</td>\n",
       "      <td>74.000000</td>\n",
       "    </tr>\n",
       "    <tr>\n",
       "      <th>max</th>\n",
       "      <td>59.000000</td>\n",
       "      <td>40.000000</td>\n",
       "      <td>11963.000000</td>\n",
       "      <td>4.000000</td>\n",
       "      <td>96.000000</td>\n",
       "      <td>6.000000</td>\n",
       "      <td>110.000000</td>\n",
       "    </tr>\n",
       "  </tbody>\n",
       "</table>\n",
       "</div>"
      ],
      "text/plain": [
       "             Age  Years at Company  Monthly Income  Number of Promotions  \\\n",
       "count  70.000000         70.000000       70.000000             70.000000   \n",
       "mean   40.328571         17.614286     7557.842857              0.871429   \n",
       "std    11.360651         11.113763     2192.184462              1.128311   \n",
       "min    18.000000          1.000000     3357.000000              0.000000   \n",
       "25%    29.250000          8.250000     5816.250000              0.000000   \n",
       "50%    42.500000         14.000000     7373.500000              0.000000   \n",
       "75%    49.000000         27.750000     8978.000000              1.750000   \n",
       "max    59.000000         40.000000    11963.000000              4.000000   \n",
       "\n",
       "       Distance from Home  Number of Dependents  Company Tenure (In Months)  \n",
       "count           70.000000             70.000000                   70.000000  \n",
       "mean            54.371429              1.857143                   55.100000  \n",
       "std             26.692110              1.828008                   24.435155  \n",
       "min              1.000000              0.000000                   10.000000  \n",
       "25%             36.000000              0.000000                   36.000000  \n",
       "50%             52.500000              1.000000                   56.500000  \n",
       "75%             74.500000              4.000000                   74.000000  \n",
       "max             96.000000              6.000000                  110.000000  "
      ]
     },
     "execution_count": 897,
     "metadata": {},
     "output_type": "execute_result"
    }
   ],
   "source": [
    "X_train[num].describe()"
   ]
  },
  {
   "cell_type": "markdown",
   "metadata": {
    "id": "ZwJQGBQuZwnC"
   },
   "source": [
    "### **4.2 Perform correlation analysis** <font color=\"red\">[4 Marks]</font>"
   ]
  },
  {
   "cell_type": "markdown",
   "metadata": {
    "id": "RN3ENFP6oRjq"
   },
   "source": [
    "Check the correlation among different numerical variables."
   ]
  },
  {
   "cell_type": "code",
   "execution_count": 899,
   "metadata": {
    "id": "qPFKI4vZoXXw"
   },
   "outputs": [
    {
     "data": {
      "image/png": "[encoded data removed]",
      "text/plain": [
       "<Figure size 640x480 with 2 Axes>"
      ]
     },
     "metadata": {},
     "output_type": "display_data"
    }
   ],
   "source": [
    "# Create correlation matrix for numerical columns\n",
    "corr_mat=X_train[num].corr()\n",
    "# Plot Heatmap of the correlation matrix\n",
    "\n",
    "sns.heatmap(corr_mat , annot=True  , cmap=\"Blues\")\n",
    "plt.show()\n",
    "# this shows that income and age are inversely proprotional to each other also years of comapny and age are highl cpreelated to each other "
   ]
  },
  {
   "cell_type": "markdown",
   "metadata": {
    "id": "g6YQGm9HaKA7"
   },
   "source": [
    "### **4.3 Check class balance** <font color=\"red\">[2 Marks]</font>"
   ]
  },
  {
   "cell_type": "markdown",
   "metadata": {
    "id": "_--fA2Dcpjml"
   },
   "source": [
    "Check the distribution of target variable in training set to check class balance."
   ]
  },
  {
   "cell_type": "code",
   "execution_count": 916,
   "metadata": {},
   "outputs": [],
   "source": [
    "df_copy=df"
   ]
  },
  {
   "cell_type": "code",
   "execution_count": 918,
   "metadata": {},
   "outputs": [
    {
     "data": {
      "text/plain": [
       "Employee ID                   0\n",
       "Age                           0\n",
       "Gender                        0\n",
       "Years at Company              0\n",
       "Job Role                      0\n",
       "Monthly Income                0\n",
       "Work-Life Balance             0\n",
       "Job Satisfaction              0\n",
       "Performance Rating            0\n",
       "Number of Promotions          0\n",
       "Overtime                      0\n",
       "Distance from Home            0\n",
       "Education Level               0\n",
       "Marital Status                0\n",
       "Number of Dependents          0\n",
       "Job Level                     0\n",
       "Company Size                  0\n",
       "Company Tenure (In Months)    0\n",
       "Remote Work                   0\n",
       "Leadership Opportunities      0\n",
       "Innovation Opportunities      0\n",
       "Company Reputation            0\n",
       "Employee Recognition          0\n",
       "Attrition                     0\n",
       "dtype: int64"
      ]
     },
     "execution_count": 918,
     "metadata": {},
     "output_type": "execute_result"
    }
   ],
   "source": [
    "df_copy.isnull().sum()"
   ]
  },
  {
   "cell_type": "code",
   "execution_count": 914,
   "metadata": {
    "id": "Lp-suUWKpn8h"
   },
   "outputs": [
    {
     "data": {
      "image/png": "[encoded data removed]",
      "text/plain": [
       "<Figure size 640x480 with 1 Axes>"
      ]
     },
     "metadata": {},
     "output_type": "display_data"
    },
    {
     "data": {
      "image/png": "[encoded data removed]",
      "text/plain": [
       "<Figure size 640x480 with 1 Axes>"
      ]
     },
     "metadata": {},
     "output_type": "display_data"
    },
    {
     "data": {
      "image/png": "[encoded data removed]",
      "text/plain": [
       "<Figure size 640x480 with 1 Axes>"
      ]
     },
     "metadata": {},
     "output_type": "display_data"
    },
    {
     "data": {
      "image/png": "[encoded data removed]",
      "text/plain": [
       "<Figure size 640x480 with 1 Axes>"
      ]
     },
     "metadata": {},
     "output_type": "display_data"
    },
    {
     "data": {
      "image/png": "[encoded data removed]",
      "text/plain": [
       "<Figure size 640x480 with 1 Axes>"
      ]
     },
     "metadata": {},
     "output_type": "display_data"
    },
    {
     "data": {
      "image/png": "[encoded data removed]",
      "text/plain": [
       "<Figure size 640x480 with 1 Axes>"
      ]
     },
     "metadata": {},
     "output_type": "display_data"
    },
    {
     "data": {
      "image/png": "[encoded data removed]",
      "text/plain": [
       "<Figure size 640x480 with 1 Axes>"
      ]
     },
     "metadata": {},
     "output_type": "display_data"
    }
   ],
   "source": [
    "# Plot a bar chart to check class balance\n",
    "for i in num:\n",
    "    sns.barplot(data=df , x=\"Attrition\" , y=i , ci=None)\n",
    "    plt.show()"
   ]
  },
  {
   "cell_type": "markdown",
   "metadata": {
    "id": "lZ-lppqAaeZM"
   },
   "source": [
    "### **4.4 Perform bivariate analysis** <font color=\"red\">[8 Marks]</font>"
   ]
  },
  {
   "cell_type": "markdown",
   "metadata": {
    "id": "i4JjkVzja1kA"
   },
   "source": [
    "Perform bivariate analysis on training data between all the categorical columns and target variable to  analyse how the categorical variables influence the target variable."
   ]
  },
  {
   "cell_type": "code",
   "execution_count": 920,
   "metadata": {},
   "outputs": [
    {
     "data": {
      "text/html": [
       "<div>\n",
       "<style scoped>\n",
       "    .dataframe tbody tr th:only-of-type {\n",
       "        vertical-align: middle;\n",
       "    }\n",
       "\n",
       "    .dataframe tbody tr th {\n",
       "        vertical-align: top;\n",
       "    }\n",
       "\n",
       "    .dataframe thead th {\n",
       "        text-align: right;\n",
       "    }\n",
       "</style>\n",
       "<table border=\"1\" class=\"dataframe\">\n",
       "  <thead>\n",
       "    <tr style=\"text-align: right;\">\n",
       "      <th></th>\n",
       "      <th>Gender</th>\n",
       "      <th>Job Role</th>\n",
       "      <th>Work-Life Balance</th>\n",
       "      <th>Job Satisfaction</th>\n",
       "      <th>Performance Rating</th>\n",
       "      <th>Overtime</th>\n",
       "      <th>Education Level</th>\n",
       "      <th>Marital Status</th>\n",
       "      <th>Job Level</th>\n",
       "      <th>Company Size</th>\n",
       "      <th>Remote Work</th>\n",
       "      <th>Leadership Opportunities</th>\n",
       "      <th>Innovation Opportunities</th>\n",
       "      <th>Company Reputation</th>\n",
       "      <th>Employee Recognition</th>\n",
       "    </tr>\n",
       "  </thead>\n",
       "  <tbody>\n",
       "    <tr>\n",
       "      <th>32761</th>\n",
       "      <td>Male</td>\n",
       "      <td>Finance</td>\n",
       "      <td>Excellent</td>\n",
       "      <td>Very High</td>\n",
       "      <td>Below Average</td>\n",
       "      <td>No</td>\n",
       "      <td>Bachelorâ€™s Degree</td>\n",
       "      <td>Single</td>\n",
       "      <td>Entry</td>\n",
       "      <td>Medium</td>\n",
       "      <td>No</td>\n",
       "      <td>No</td>\n",
       "      <td>No</td>\n",
       "      <td>Good</td>\n",
       "      <td>Medium</td>\n",
       "    </tr>\n",
       "    <tr>\n",
       "      <th>24626</th>\n",
       "      <td>Male</td>\n",
       "      <td>Media</td>\n",
       "      <td>Fair</td>\n",
       "      <td>High</td>\n",
       "      <td>Below Average</td>\n",
       "      <td>No</td>\n",
       "      <td>High School</td>\n",
       "      <td>Single</td>\n",
       "      <td>Senior</td>\n",
       "      <td>Small</td>\n",
       "      <td>No</td>\n",
       "      <td>No</td>\n",
       "      <td>No</td>\n",
       "      <td>Fair</td>\n",
       "      <td>Low</td>\n",
       "    </tr>\n",
       "    <tr>\n",
       "      <th>23110</th>\n",
       "      <td>Male</td>\n",
       "      <td>Media</td>\n",
       "      <td>Poor</td>\n",
       "      <td>High</td>\n",
       "      <td>High</td>\n",
       "      <td>No</td>\n",
       "      <td>High School</td>\n",
       "      <td>Married</td>\n",
       "      <td>Entry</td>\n",
       "      <td>Medium</td>\n",
       "      <td>No</td>\n",
       "      <td>No</td>\n",
       "      <td>Yes</td>\n",
       "      <td>Good</td>\n",
       "      <td>Low</td>\n",
       "    </tr>\n",
       "    <tr>\n",
       "      <th>12461</th>\n",
       "      <td>Female</td>\n",
       "      <td>Healthcare</td>\n",
       "      <td>Poor</td>\n",
       "      <td>Very High</td>\n",
       "      <td>Average</td>\n",
       "      <td>No</td>\n",
       "      <td>High School</td>\n",
       "      <td>Married</td>\n",
       "      <td>Entry</td>\n",
       "      <td>Medium</td>\n",
       "      <td>No</td>\n",
       "      <td>No</td>\n",
       "      <td>No</td>\n",
       "      <td>Fair</td>\n",
       "      <td>Medium</td>\n",
       "    </tr>\n",
       "    <tr>\n",
       "      <th>2120</th>\n",
       "      <td>Male</td>\n",
       "      <td>Healthcare</td>\n",
       "      <td>Good</td>\n",
       "      <td>Low</td>\n",
       "      <td>Average</td>\n",
       "      <td>No</td>\n",
       "      <td>Associate Degree</td>\n",
       "      <td>Single</td>\n",
       "      <td>Senior</td>\n",
       "      <td>Medium</td>\n",
       "      <td>Yes</td>\n",
       "      <td>Yes</td>\n",
       "      <td>No</td>\n",
       "      <td>Fair</td>\n",
       "      <td>Low</td>\n",
       "    </tr>\n",
       "  </tbody>\n",
       "</table>\n",
       "</div>"
      ],
      "text/plain": [
       "       Gender    Job Role Work-Life Balance Job Satisfaction  \\\n",
       "32761    Male     Finance         Excellent        Very High   \n",
       "24626    Male       Media              Fair             High   \n",
       "23110    Male       Media              Poor             High   \n",
       "12461  Female  Healthcare              Poor        Very High   \n",
       "2120     Male  Healthcare              Good              Low   \n",
       "\n",
       "      Performance Rating Overtime      Education Level Marital Status  \\\n",
       "32761      Below Average       No  Bachelorâ€™s Degree         Single   \n",
       "24626      Below Average       No          High School         Single   \n",
       "23110               High       No          High School        Married   \n",
       "12461            Average       No          High School        Married   \n",
       "2120             Average       No     Associate Degree         Single   \n",
       "\n",
       "      Job Level Company Size Remote Work Leadership Opportunities  \\\n",
       "32761     Entry       Medium          No                       No   \n",
       "24626    Senior        Small          No                       No   \n",
       "23110     Entry       Medium          No                       No   \n",
       "12461     Entry       Medium          No                       No   \n",
       "2120     Senior       Medium         Yes                      Yes   \n",
       "\n",
       "      Innovation Opportunities Company Reputation Employee Recognition  \n",
       "32761                       No               Good               Medium  \n",
       "24626                       No               Fair                  Low  \n",
       "23110                      Yes               Good                  Low  \n",
       "12461                       No               Fair               Medium  \n",
       "2120                        No               Fair                  Low  "
      ]
     },
     "execution_count": 920,
     "metadata": {},
     "output_type": "execute_result"
    }
   ],
   "source": [
    "X_train.select_dtypes(include=\"object\").head()"
   ]
  },
  {
   "cell_type": "code",
   "execution_count": 926,
   "metadata": {
    "id": "3-rK15xjsv6f",
    "jupyter": {
     "source_hidden": true
    }
   },
   "outputs": [],
   "source": [
    "# Plot distribution for each categorical column with target variable\n",
    "\n",
    "\n",
    "cat=[\"Gender\" , \"Job Role\" , \"Work-Life Balance\", \"Job Satisfaction\" ,\"Performance Rating\" ,  \"Education Level\", \"Marital Status\" , \"Job Level\" , \"Company Size\" ,  \"Company Reputation\" , \"Employee Recognition\"]"
   ]
  },
  {
   "cell_type": "code",
   "execution_count": 934,
   "metadata": {},
   "outputs": [],
   "source": [
    "df_copy[\"Attrition\"]=df_copy[\"Attrition\"].map({\"Stayed\" : 1 , \"Left\":0})"
   ]
  },
  {
   "cell_type": "code",
   "execution_count": 936,
   "metadata": {},
   "outputs": [
    {
     "data": {
      "image/png": "[encoded data removed]",
      "text/plain": [
       "<Figure size 500x300 with 1 Axes>"
      ]
     },
     "metadata": {},
     "output_type": "display_data"
    },
    {
     "data": {
      "image/png": "[encoded data removed]",
      "text/plain": [
       "<Figure size 500x300 with 1 Axes>"
      ]
     },
     "metadata": {},
     "output_type": "display_data"
    },
    {
     "data": {
      "image/png": "[encoded data removed]",
      "text/plain": [
       "<Figure size 500x300 with 1 Axes>"
      ]
     },
     "metadata": {},
     "output_type": "display_data"
    },
    {
     "data": {
      "image/png": "[encoded data removed]",
      "text/plain": [
       "<Figure size 500x300 with 1 Axes>"
      ]
     },
     "metadata": {},
     "output_type": "display_data"
    },
    {
     "data": {
      "image/png": "[encoded data removed]",
      "text/plain": [
       "<Figure size 500x300 with 1 Axes>"
      ]
     },
     "metadata": {},
     "output_type": "display_data"
    },
    {
     "data": {
      "image/png": "[encoded data removed]",
      "text/plain": [
       "<Figure size 500x300 with 1 Axes>"
      ]
     },
     "metadata": {},
     "output_type": "display_data"
    },
    {
     "data": {
      "image/png": "[encoded data removed]",
      "text/plain": [
       "<Figure size 500x300 with 1 Axes>"
      ]
     },
     "metadata": {},
     "output_type": "display_data"
    },
    {
     "data": {
      "image/png": "[encoded data removed]",
      "text/plain": [
       "<Figure size 500x300 with 1 Axes>"
      ]
     },
     "metadata": {},
     "output_type": "display_data"
    },
    {
     "data": {
      "image/png": "[encoded data removed]",
      "text/plain": [
       "<Figure size 500x300 with 1 Axes>"
      ]
     },
     "metadata": {},
     "output_type": "display_data"
    },
    {
     "data": {
      "image/png": "[encoded data removed]",
      "text/plain": [
       "<Figure size 500x300 with 1 Axes>"
      ]
     },
     "metadata": {},
     "output_type": "display_data"
    },
    {
     "data": {
      "image/png": "[encoded data removed]",
      "text/plain": [
       "<Figure size 500x300 with 1 Axes>"
      ]
     },
     "metadata": {},
     "output_type": "display_data"
    }
   ],
   "source": [
    "for i in cat:\n",
    "    plt.figure(figsize=(5, 3))\n",
    "    sns.barplot(data=df_copy ,x=i  , y=\"Attrition\" ,  ci=None)\n",
    "    plt.show()"
   ]
  },
  {
   "cell_type": "markdown",
   "metadata": {
    "id": "nqRcfQ4avArz"
   },
   "source": [
    "## **5. EDA on validation data** <font color = red>[OPTIONAL]</font>"
   ]
  },
  {
   "cell_type": "markdown",
   "metadata": {
    "id": "I9Iq1uvfa7ro"
   },
   "source": [
    "### **5.1 Perform univariate analysis**"
   ]
  },
  {
   "cell_type": "markdown",
   "metadata": {
    "id": "EScWfXFNvAr3"
   },
   "source": [
    "Perform univariate analysis on validation data for all the numerical columns.\n"
   ]
  },
  {
   "cell_type": "markdown",
   "metadata": {
    "id": "ofFfSSPSa0sD"
   },
   "source": [
    "5.1.1 Select numerical columns from validation data"
   ]
  },
  {
   "cell_type": "code",
   "execution_count": null,
   "metadata": {
    "id": "BpkHJm8BvAr3"
   },
   "outputs": [],
   "source": [
    "# Select numerical columns\n"
   ]
  },
  {
   "cell_type": "markdown",
   "metadata": {
    "id": "vZbQ8HzRbDPP"
   },
   "source": [
    "5.1.2 Plot distribution of numerical columns"
   ]
  },
  {
   "cell_type": "code",
   "execution_count": null,
   "metadata": {
    "id": "VoNtrdrUvAr4"
   },
   "outputs": [],
   "source": [
    "# Plot all the numerical columns to understand their distribution\n"
   ]
  },
  {
   "cell_type": "markdown",
   "metadata": {
    "id": "85zpsiHUvAr4"
   },
   "source": [
    "### **5.2 Perform correlation analysis**"
   ]
  },
  {
   "cell_type": "markdown",
   "metadata": {
    "id": "5TcmX7ywaWuo"
   },
   "source": [
    "Check the correlation among different numerical variables."
   ]
  },
  {
   "cell_type": "code",
   "execution_count": null,
   "metadata": {
    "id": "ylnfMmNqvAr4"
   },
   "outputs": [],
   "source": [
    "# Create correlation matrix for numerical columns\n",
    "\n",
    "# Plot Heatmap of the correlation matrix\n"
   ]
  },
  {
   "cell_type": "markdown",
   "metadata": {
    "id": "1fcm5Q1vvAr5"
   },
   "source": [
    "### **5.3 Check class balance**"
   ]
  },
  {
   "cell_type": "markdown",
   "metadata": {
    "id": "qz6Ewijyaa9h"
   },
   "source": [
    "Check the distribution of target variable in validation data to check class balance."
   ]
  },
  {
   "cell_type": "code",
   "execution_count": null,
   "metadata": {
    "id": "ZiHsUZnkvAr5"
   },
   "outputs": [],
   "source": [
    "# Plot a bar chart to check class balance\n"
   ]
  },
  {
   "cell_type": "markdown",
   "metadata": {
    "id": "YQAoo6aKbcWz"
   },
   "source": [
    "### **5.4 Perform bivariate analysis**"
   ]
  },
  {
   "cell_type": "markdown",
   "metadata": {
    "id": "14-qNV44djPP"
   },
   "source": [
    "Perform bivariate analysis on validation data between all the categorical columns and target variable to analyse how the categorical variables influence the target variable."
   ]
  },
  {
   "cell_type": "code",
   "execution_count": null,
   "metadata": {
    "id": "0EO4qSIovAr6"
   },
   "outputs": [],
   "source": [
    "# Plot distribution for each categorical column with target variable\n"
   ]
  },
  {
   "cell_type": "markdown",
   "metadata": {
    "id": "0DGrycx6wKmN"
   },
   "source": [
    "## **6. Feature Engineering** <font color = red>[20 marks]</font>"
   ]
  },
  {
   "cell_type": "markdown",
   "metadata": {
    "id": "xzdF2TmEbzFD"
   },
   "source": [
    "### **6.1 Dummy variable creation** <font color = red>[15 marks]</font>\n",
    "\n",
    "\n",
    "The next step is to deal with the categorical variables present in the data."
   ]
  },
  {
   "cell_type": "markdown",
   "metadata": {
    "id": "_vG9HZkVe3Lk"
   },
   "source": [
    "6.1.1 Identify categorical columns where dummy variables are required <font color=\"red\">[1 Mark]</font>"
   ]
  },
  {
   "cell_type": "code",
   "execution_count": 938,
   "metadata": {
    "id": "7dUFEFVGbzFD"
   },
   "outputs": [
    {
     "data": {
      "text/html": [
       "<div>\n",
       "<style scoped>\n",
       "    .dataframe tbody tr th:only-of-type {\n",
       "        vertical-align: middle;\n",
       "    }\n",
       "\n",
       "    .dataframe tbody tr th {\n",
       "        vertical-align: top;\n",
       "    }\n",
       "\n",
       "    .dataframe thead th {\n",
       "        text-align: right;\n",
       "    }\n",
       "</style>\n",
       "<table border=\"1\" class=\"dataframe\">\n",
       "  <thead>\n",
       "    <tr style=\"text-align: right;\">\n",
       "      <th></th>\n",
       "      <th>Gender</th>\n",
       "      <th>Job Role</th>\n",
       "      <th>Work-Life Balance</th>\n",
       "      <th>Job Satisfaction</th>\n",
       "      <th>Performance Rating</th>\n",
       "      <th>Overtime</th>\n",
       "      <th>Education Level</th>\n",
       "      <th>Marital Status</th>\n",
       "      <th>Job Level</th>\n",
       "      <th>Company Size</th>\n",
       "      <th>Remote Work</th>\n",
       "      <th>Leadership Opportunities</th>\n",
       "      <th>Innovation Opportunities</th>\n",
       "      <th>Company Reputation</th>\n",
       "      <th>Employee Recognition</th>\n",
       "    </tr>\n",
       "  </thead>\n",
       "  <tbody>\n",
       "    <tr>\n",
       "      <th>32761</th>\n",
       "      <td>Male</td>\n",
       "      <td>Finance</td>\n",
       "      <td>Excellent</td>\n",
       "      <td>Very High</td>\n",
       "      <td>Below Average</td>\n",
       "      <td>No</td>\n",
       "      <td>Bachelorâ€™s Degree</td>\n",
       "      <td>Single</td>\n",
       "      <td>Entry</td>\n",
       "      <td>Medium</td>\n",
       "      <td>No</td>\n",
       "      <td>No</td>\n",
       "      <td>No</td>\n",
       "      <td>Good</td>\n",
       "      <td>Medium</td>\n",
       "    </tr>\n",
       "    <tr>\n",
       "      <th>24626</th>\n",
       "      <td>Male</td>\n",
       "      <td>Media</td>\n",
       "      <td>Fair</td>\n",
       "      <td>High</td>\n",
       "      <td>Below Average</td>\n",
       "      <td>No</td>\n",
       "      <td>High School</td>\n",
       "      <td>Single</td>\n",
       "      <td>Senior</td>\n",
       "      <td>Small</td>\n",
       "      <td>No</td>\n",
       "      <td>No</td>\n",
       "      <td>No</td>\n",
       "      <td>Fair</td>\n",
       "      <td>Low</td>\n",
       "    </tr>\n",
       "    <tr>\n",
       "      <th>23110</th>\n",
       "      <td>Male</td>\n",
       "      <td>Media</td>\n",
       "      <td>Poor</td>\n",
       "      <td>High</td>\n",
       "      <td>High</td>\n",
       "      <td>No</td>\n",
       "      <td>High School</td>\n",
       "      <td>Married</td>\n",
       "      <td>Entry</td>\n",
       "      <td>Medium</td>\n",
       "      <td>No</td>\n",
       "      <td>No</td>\n",
       "      <td>Yes</td>\n",
       "      <td>Good</td>\n",
       "      <td>Low</td>\n",
       "    </tr>\n",
       "    <tr>\n",
       "      <th>12461</th>\n",
       "      <td>Female</td>\n",
       "      <td>Healthcare</td>\n",
       "      <td>Poor</td>\n",
       "      <td>Very High</td>\n",
       "      <td>Average</td>\n",
       "      <td>No</td>\n",
       "      <td>High School</td>\n",
       "      <td>Married</td>\n",
       "      <td>Entry</td>\n",
       "      <td>Medium</td>\n",
       "      <td>No</td>\n",
       "      <td>No</td>\n",
       "      <td>No</td>\n",
       "      <td>Fair</td>\n",
       "      <td>Medium</td>\n",
       "    </tr>\n",
       "    <tr>\n",
       "      <th>2120</th>\n",
       "      <td>Male</td>\n",
       "      <td>Healthcare</td>\n",
       "      <td>Good</td>\n",
       "      <td>Low</td>\n",
       "      <td>Average</td>\n",
       "      <td>No</td>\n",
       "      <td>Associate Degree</td>\n",
       "      <td>Single</td>\n",
       "      <td>Senior</td>\n",
       "      <td>Medium</td>\n",
       "      <td>Yes</td>\n",
       "      <td>Yes</td>\n",
       "      <td>No</td>\n",
       "      <td>Fair</td>\n",
       "      <td>Low</td>\n",
       "    </tr>\n",
       "  </tbody>\n",
       "</table>\n",
       "</div>"
      ],
      "text/plain": [
       "       Gender    Job Role Work-Life Balance Job Satisfaction  \\\n",
       "32761    Male     Finance         Excellent        Very High   \n",
       "24626    Male       Media              Fair             High   \n",
       "23110    Male       Media              Poor             High   \n",
       "12461  Female  Healthcare              Poor        Very High   \n",
       "2120     Male  Healthcare              Good              Low   \n",
       "\n",
       "      Performance Rating Overtime      Education Level Marital Status  \\\n",
       "32761      Below Average       No  Bachelorâ€™s Degree         Single   \n",
       "24626      Below Average       No          High School         Single   \n",
       "23110               High       No          High School        Married   \n",
       "12461            Average       No          High School        Married   \n",
       "2120             Average       No     Associate Degree         Single   \n",
       "\n",
       "      Job Level Company Size Remote Work Leadership Opportunities  \\\n",
       "32761     Entry       Medium          No                       No   \n",
       "24626    Senior        Small          No                       No   \n",
       "23110     Entry       Medium          No                       No   \n",
       "12461     Entry       Medium          No                       No   \n",
       "2120     Senior       Medium         Yes                      Yes   \n",
       "\n",
       "      Innovation Opportunities Company Reputation Employee Recognition  \n",
       "32761                       No               Good               Medium  \n",
       "24626                       No               Fair                  Low  \n",
       "23110                      Yes               Good                  Low  \n",
       "12461                       No               Fair               Medium  \n",
       "2120                        No               Fair                  Low  "
      ]
     },
     "execution_count": 938,
     "metadata": {},
     "output_type": "execute_result"
    }
   ],
   "source": [
    "# Check the categorical columns\n",
    "X_train.select_dtypes(include=\"object\").head()"
   ]
  },
  {
   "cell_type": "code",
   "execution_count": 940,
   "metadata": {},
   "outputs": [],
   "source": [
    "#converted the columsn where dummay was not applicable into binary format\n",
    "var=[\"Overtime\" , \"Remote Work\" , \"Leadership Opportunities\" , \"Innovation Opportunities\" ]\n",
    "def binary(x):\n",
    "    return x.map({\"Yes\":1 , \"No\": 0})\n",
    "    "
   ]
  },
  {
   "cell_type": "code",
   "execution_count": 942,
   "metadata": {},
   "outputs": [],
   "source": [
    "X_train[var]=X_train[var].apply(binary)"
   ]
  },
  {
   "cell_type": "code",
   "execution_count": 944,
   "metadata": {},
   "outputs": [],
   "source": [
    "X_train[\"Gender\"]=X_train[\"Gender\"].map({\"Male\" :1 , \"Female\" :0})"
   ]
  },
  {
   "cell_type": "markdown",
   "metadata": {
    "id": "dLpmkPp6e-1j"
   },
   "source": [
    "6.1.2 Create dummy variables for independent columns in training set <font color=\"red\">[3 Marks]</font>"
   ]
  },
  {
   "cell_type": "code",
   "execution_count": 946,
   "metadata": {
    "id": "x5vk968HbzFE"
   },
   "outputs": [],
   "source": [
    "# Create dummy variables using the 'get_dummies' for independent columns\n",
    "\n",
    "dummy1=pd.get_dummies(X_train[[\"Job Role\" , \"Marital Status\"  , \"Company Size\"]] , drop_first=True  , \n",
    "              dtype=int)\n",
    "# Add the results to the master DataFrame\n",
    "\n",
    "X_train=pd.concat([X_train , dummy1] , axis=1)"
   ]
  },
  {
   "cell_type": "code",
   "execution_count": 948,
   "metadata": {
    "scrolled": true
   },
   "outputs": [],
   "source": [
    "X_train=X_train.drop([\"Job Role\" , \"Marital Status\"  , \"Company Size\"] , axis=1)\n",
    "# havevadded up the columns "
   ]
  },
  {
   "cell_type": "markdown",
   "metadata": {
    "id": "xJFSbVR9uYjT"
   },
   "source": [
    "Now, drop the original categorical columns and check the DataFrame"
   ]
  },
  {
   "cell_type": "code",
   "execution_count": 950,
   "metadata": {
    "id": "m-U8OPvKyOs-"
   },
   "outputs": [
    {
     "data": {
      "text/html": [
       "<div>\n",
       "<style scoped>\n",
       "    .dataframe tbody tr th:only-of-type {\n",
       "        vertical-align: middle;\n",
       "    }\n",
       "\n",
       "    .dataframe tbody tr th {\n",
       "        vertical-align: top;\n",
       "    }\n",
       "\n",
       "    .dataframe thead th {\n",
       "        text-align: right;\n",
       "    }\n",
       "</style>\n",
       "<table border=\"1\" class=\"dataframe\">\n",
       "  <thead>\n",
       "    <tr style=\"text-align: right;\">\n",
       "      <th></th>\n",
       "      <th>Age</th>\n",
       "      <th>Gender</th>\n",
       "      <th>Years at Company</th>\n",
       "      <th>Monthly Income</th>\n",
       "      <th>Work-Life Balance</th>\n",
       "      <th>Job Satisfaction</th>\n",
       "      <th>Performance Rating</th>\n",
       "      <th>Number of Promotions</th>\n",
       "      <th>Overtime</th>\n",
       "      <th>Distance from Home</th>\n",
       "      <th>...</th>\n",
       "      <th>Company Reputation</th>\n",
       "      <th>Employee Recognition</th>\n",
       "      <th>Job Role_Finance</th>\n",
       "      <th>Job Role_Healthcare</th>\n",
       "      <th>Job Role_Media</th>\n",
       "      <th>Job Role_Technology</th>\n",
       "      <th>Marital Status_Married</th>\n",
       "      <th>Marital Status_Single</th>\n",
       "      <th>Company Size_Medium</th>\n",
       "      <th>Company Size_Small</th>\n",
       "    </tr>\n",
       "  </thead>\n",
       "  <tbody>\n",
       "    <tr>\n",
       "      <th>32761</th>\n",
       "      <td>45</td>\n",
       "      <td>1</td>\n",
       "      <td>31</td>\n",
       "      <td>7054</td>\n",
       "      <td>Excellent</td>\n",
       "      <td>Very High</td>\n",
       "      <td>Below Average</td>\n",
       "      <td>3</td>\n",
       "      <td>0</td>\n",
       "      <td>43.0</td>\n",
       "      <td>...</td>\n",
       "      <td>Good</td>\n",
       "      <td>Medium</td>\n",
       "      <td>1</td>\n",
       "      <td>0</td>\n",
       "      <td>0</td>\n",
       "      <td>0</td>\n",
       "      <td>0</td>\n",
       "      <td>1</td>\n",
       "      <td>1</td>\n",
       "      <td>0</td>\n",
       "    </tr>\n",
       "    <tr>\n",
       "      <th>24626</th>\n",
       "      <td>59</td>\n",
       "      <td>1</td>\n",
       "      <td>8</td>\n",
       "      <td>6831</td>\n",
       "      <td>Fair</td>\n",
       "      <td>High</td>\n",
       "      <td>Below Average</td>\n",
       "      <td>0</td>\n",
       "      <td>0</td>\n",
       "      <td>22.0</td>\n",
       "      <td>...</td>\n",
       "      <td>Fair</td>\n",
       "      <td>Low</td>\n",
       "      <td>0</td>\n",
       "      <td>0</td>\n",
       "      <td>1</td>\n",
       "      <td>0</td>\n",
       "      <td>0</td>\n",
       "      <td>1</td>\n",
       "      <td>0</td>\n",
       "      <td>1</td>\n",
       "    </tr>\n",
       "    <tr>\n",
       "      <th>23110</th>\n",
       "      <td>46</td>\n",
       "      <td>1</td>\n",
       "      <td>37</td>\n",
       "      <td>5366</td>\n",
       "      <td>Poor</td>\n",
       "      <td>High</td>\n",
       "      <td>High</td>\n",
       "      <td>1</td>\n",
       "      <td>0</td>\n",
       "      <td>46.0</td>\n",
       "      <td>...</td>\n",
       "      <td>Good</td>\n",
       "      <td>Low</td>\n",
       "      <td>0</td>\n",
       "      <td>0</td>\n",
       "      <td>1</td>\n",
       "      <td>0</td>\n",
       "      <td>1</td>\n",
       "      <td>0</td>\n",
       "      <td>1</td>\n",
       "      <td>0</td>\n",
       "    </tr>\n",
       "    <tr>\n",
       "      <th>12461</th>\n",
       "      <td>44</td>\n",
       "      <td>0</td>\n",
       "      <td>20</td>\n",
       "      <td>8266</td>\n",
       "      <td>Poor</td>\n",
       "      <td>Very High</td>\n",
       "      <td>Average</td>\n",
       "      <td>0</td>\n",
       "      <td>0</td>\n",
       "      <td>1.0</td>\n",
       "      <td>...</td>\n",
       "      <td>Fair</td>\n",
       "      <td>Medium</td>\n",
       "      <td>0</td>\n",
       "      <td>1</td>\n",
       "      <td>0</td>\n",
       "      <td>0</td>\n",
       "      <td>1</td>\n",
       "      <td>0</td>\n",
       "      <td>1</td>\n",
       "      <td>0</td>\n",
       "    </tr>\n",
       "    <tr>\n",
       "      <th>2120</th>\n",
       "      <td>44</td>\n",
       "      <td>1</td>\n",
       "      <td>22</td>\n",
       "      <td>8325</td>\n",
       "      <td>Good</td>\n",
       "      <td>Low</td>\n",
       "      <td>Average</td>\n",
       "      <td>0</td>\n",
       "      <td>0</td>\n",
       "      <td>35.0</td>\n",
       "      <td>...</td>\n",
       "      <td>Fair</td>\n",
       "      <td>Low</td>\n",
       "      <td>0</td>\n",
       "      <td>1</td>\n",
       "      <td>0</td>\n",
       "      <td>0</td>\n",
       "      <td>0</td>\n",
       "      <td>1</td>\n",
       "      <td>1</td>\n",
       "      <td>0</td>\n",
       "    </tr>\n",
       "  </tbody>\n",
       "</table>\n",
       "<p>5 rows × 27 columns</p>\n",
       "</div>"
      ],
      "text/plain": [
       "       Age  Gender  Years at Company  Monthly Income Work-Life Balance  \\\n",
       "32761   45       1                31            7054         Excellent   \n",
       "24626   59       1                 8            6831              Fair   \n",
       "23110   46       1                37            5366              Poor   \n",
       "12461   44       0                20            8266              Poor   \n",
       "2120    44       1                22            8325              Good   \n",
       "\n",
       "      Job Satisfaction Performance Rating  Number of Promotions  Overtime  \\\n",
       "32761        Very High      Below Average                     3         0   \n",
       "24626             High      Below Average                     0         0   \n",
       "23110             High               High                     1         0   \n",
       "12461        Very High            Average                     0         0   \n",
       "2120               Low            Average                     0         0   \n",
       "\n",
       "       Distance from Home  ... Company Reputation  Employee Recognition  \\\n",
       "32761                43.0  ...               Good                Medium   \n",
       "24626                22.0  ...               Fair                   Low   \n",
       "23110                46.0  ...               Good                   Low   \n",
       "12461                 1.0  ...               Fair                Medium   \n",
       "2120                 35.0  ...               Fair                   Low   \n",
       "\n",
       "      Job Role_Finance  Job Role_Healthcare  Job Role_Media  \\\n",
       "32761                1                    0               0   \n",
       "24626                0                    0               1   \n",
       "23110                0                    0               1   \n",
       "12461                0                    1               0   \n",
       "2120                 0                    1               0   \n",
       "\n",
       "       Job Role_Technology  Marital Status_Married Marital Status_Single  \\\n",
       "32761                    0                       0                     1   \n",
       "24626                    0                       0                     1   \n",
       "23110                    0                       1                     0   \n",
       "12461                    0                       1                     0   \n",
       "2120                     0                       0                     1   \n",
       "\n",
       "      Company Size_Medium  Company Size_Small  \n",
       "32761                   1                   0  \n",
       "24626                   0                   1  \n",
       "23110                   1                   0  \n",
       "12461                   1                   0  \n",
       "2120                    1                   0  \n",
       "\n",
       "[5 rows x 27 columns]"
      ]
     },
     "execution_count": 950,
     "metadata": {},
     "output_type": "execute_result"
    }
   ],
   "source": [
    "# Drop the original categorical columns and check the DataFrame\n",
    "#have dropped job role , marital status and comapny size successfully\n",
    "X_train.head()"
   ]
  },
  {
   "cell_type": "markdown",
   "metadata": {
    "id": "kqMXYxpowQc6"
   },
   "source": [
    "6.1.3 Create dummy variables for independent columns in validation set <font color=\"red\">[3 Marks]</font>"
   ]
  },
  {
   "cell_type": "code",
   "execution_count": 952,
   "metadata": {
    "id": "Ib8Zdq6Ruuj_"
   },
   "outputs": [],
   "source": [
    "# Create dummy variables using the 'get_dummies' for independent columns\n",
    "dummy2=pd.get_dummies(X_train[[\"Work-Life Balance\" , \"Job Satisfaction\" , \"Performance Rating\" , \"Company Reputation\" , \"Employee Recognition\" , \n",
    "                              \"Education Level\" , \"Job Level\"]] , drop_first=True\n",
    "                       , dtype=int)\n",
    "# Add the results to the master DataFrame\n",
    "X_train=pd.concat([X_train , dummy2] , axis=1)"
   ]
  },
  {
   "cell_type": "markdown",
   "metadata": {
    "id": "9RDKGX9N4qLq"
   },
   "source": [
    "Now, drop the original categorical columns and check the DataFrame"
   ]
  },
  {
   "cell_type": "code",
   "execution_count": 954,
   "metadata": {
    "id": "Dh6Mk_JvyUkz"
   },
   "outputs": [],
   "source": [
    "# Drop categorical columns and check the DataFrame\n",
    "X_train=X_train.drop([\"Work-Life Balance\" , \"Job Satisfaction\" , \"Performance Rating\" , \"Company Reputation\" , \"Employee Recognition\" , \"Education Level\" , \"Job Level\"] , axis=1)"
   ]
  },
  {
   "cell_type": "code",
   "execution_count": 956,
   "metadata": {},
   "outputs": [
    {
     "name": "stdout",
     "output_type": "stream",
     "text": [
      "<class 'pandas.core.frame.DataFrame'>\n",
      "Index: 70 entries, 32761 to 35435\n",
      "Data columns (total 41 columns):\n",
      " #   Column                               Non-Null Count  Dtype  \n",
      "---  ------                               --------------  -----  \n",
      " 0   Age                                  70 non-null     int64  \n",
      " 1   Gender                               70 non-null     int64  \n",
      " 2   Years at Company                     70 non-null     int64  \n",
      " 3   Monthly Income                       70 non-null     int64  \n",
      " 4   Number of Promotions                 70 non-null     int64  \n",
      " 5   Overtime                             70 non-null     int64  \n",
      " 6   Distance from Home                   70 non-null     float64\n",
      " 7   Number of Dependents                 70 non-null     int64  \n",
      " 8   Company Tenure (In Months)           70 non-null     float64\n",
      " 9   Remote Work                          70 non-null     int64  \n",
      " 10  Leadership Opportunities             70 non-null     int64  \n",
      " 11  Innovation Opportunities             70 non-null     int64  \n",
      " 12  Job Role_Finance                     70 non-null     int32  \n",
      " 13  Job Role_Healthcare                  70 non-null     int32  \n",
      " 14  Job Role_Media                       70 non-null     int32  \n",
      " 15  Job Role_Technology                  70 non-null     int32  \n",
      " 16  Marital Status_Married               70 non-null     int32  \n",
      " 17  Marital Status_Single                70 non-null     int32  \n",
      " 18  Company Size_Medium                  70 non-null     int32  \n",
      " 19  Company Size_Small                   70 non-null     int32  \n",
      " 20  Work-Life Balance_Fair               70 non-null     int32  \n",
      " 21  Work-Life Balance_Good               70 non-null     int32  \n",
      " 22  Work-Life Balance_Poor               70 non-null     int32  \n",
      " 23  Job Satisfaction_Low                 70 non-null     int32  \n",
      " 24  Job Satisfaction_Medium              70 non-null     int32  \n",
      " 25  Job Satisfaction_Very High           70 non-null     int32  \n",
      " 26  Performance Rating_Below Average     70 non-null     int32  \n",
      " 27  Performance Rating_High              70 non-null     int32  \n",
      " 28  Performance Rating_Low               70 non-null     int32  \n",
      " 29  Company Reputation_Fair              70 non-null     int32  \n",
      " 30  Company Reputation_Good              70 non-null     int32  \n",
      " 31  Company Reputation_Poor              70 non-null     int32  \n",
      " 32  Employee Recognition_Low             70 non-null     int32  \n",
      " 33  Employee Recognition_Medium          70 non-null     int32  \n",
      " 34  Employee Recognition_Very High       70 non-null     int32  \n",
      " 35  Education Level_Bachelorâ€™s Degree  70 non-null     int32  \n",
      " 36  Education Level_High School          70 non-null     int32  \n",
      " 37  Education Level_Masterâ€™s Degree    70 non-null     int32  \n",
      " 38  Education Level_PhD                  70 non-null     int32  \n",
      " 39  Job Level_Mid                        70 non-null     int32  \n",
      " 40  Job Level_Senior                     70 non-null     int32  \n",
      "dtypes: float64(2), int32(29), int64(10)\n",
      "memory usage: 15.0 KB\n"
     ]
    }
   ],
   "source": [
    "# allthe aove columsn are now in numerial format we are good to go\n",
    "X_train.info()"
   ]
  },
  {
   "cell_type": "markdown",
   "metadata": {
    "id": "zesgvCjzPHba"
   },
   "source": [
    "6.1.4 Create DataFrame for dependent column in both training and validation set <font color = \"red\">[1 Mark]</font>"
   ]
  },
  {
   "cell_type": "code",
   "execution_count": 958,
   "metadata": {
    "id": "e2JTJRaa-qem"
   },
   "outputs": [
    {
     "data": {
      "text/plain": [
       "32761    0\n",
       "24626    0\n",
       "23110    0\n",
       "12461    1\n",
       "2120     0\n",
       "Name: Attrition, dtype: int64"
      ]
     },
     "execution_count": 958,
     "metadata": {},
     "output_type": "execute_result"
    }
   ],
   "source": [
    "# Convert y_train and y_validation to DataFrame to create dummy variables\n",
    "y_train.head()"
   ]
  },
  {
   "cell_type": "markdown",
   "metadata": {
    "id": "2QN-k-IHPX5s"
   },
   "source": [
    "6.1.5 Create dummy variables for dependent column in training set <font color=\"red\">[3 Marks]</font>"
   ]
  },
  {
   "cell_type": "markdown",
   "metadata": {
    "id": "8p_zQEx4w-OU"
   },
   "source": [
    "6.1.6 Create dummy variable for dependent column in validation set <font color = \"red\">[3 Marks]</font>"
   ]
  },
  {
   "cell_type": "code",
   "execution_count": 960,
   "metadata": {
    "id": "5mWed8j5xOS7"
   },
   "outputs": [],
   "source": [
    "# Create dummy variables using the 'get_dummies' for dependent columnX_test\n",
    "X_test[var]=X_test[var].apply(binary)\n",
    "# have sucessfuly converted the  bbinar columns into numrical "
   ]
  },
  {
   "cell_type": "code",
   "execution_count": 964,
   "metadata": {},
   "outputs": [],
   "source": [
    "dummy3=pd.get_dummies(X_test[[\"Work-Life Balance\" , \"Job Satisfaction\" , \"Performance Rating\" , \"Company Reputation\" , \"Employee Recognition\" , \n",
    "                              \"Education Level\" , \"Job Level\" , \"Job Role\" , \"Marital Status\"  , \"Company Size\"]] , drop_first=True\n",
    "                       , dtype=int)\n",
    "X_test=pd.concat([dummy3 , X_test] , axis=1)"
   ]
  },
  {
   "cell_type": "markdown",
   "metadata": {
    "id": "-ej5eSB4PiCx"
   },
   "source": [
    "6.1.7 Drop redundant columns <font color=\"red\">[1 Mark]</font>"
   ]
  },
  {
   "cell_type": "code",
   "execution_count": 966,
   "metadata": {
    "id": "WxYmaNE5Aoas"
   },
   "outputs": [],
   "source": [
    "# Drop redundant columns from both train and validation\n",
    "X_test=X_test.drop([\"Job Role\" , \"Work-Life Balance\"  , \"Job Satisfaction\" , \"Performance Rating\" , \"Marital Status\" , \"Job Level\" , \"Company Size\" ,\n",
    "\"Company Reputation\" , \"Employee Recognition\" , \"Education Level\" , \"Job Role\" , \"Marital Status\"  , \"Company Size\"] , axis=1)"
   ]
  },
  {
   "cell_type": "code",
   "execution_count": 968,
   "metadata": {
    "scrolled": true
   },
   "outputs": [],
   "source": [
    "X_test[\"Gender\"]=X_test[\"Gender\"].map({\"Male\":1 , \"Female\":0})"
   ]
  },
  {
   "cell_type": "code",
   "execution_count": 1004,
   "metadata": {},
   "outputs": [
    {
     "data": {
      "text/plain": [
       "(70, 40)"
      ]
     },
     "execution_count": 1004,
     "metadata": {},
     "output_type": "execute_result"
    }
   ],
   "source": [
    "X_train.shape"
   ]
  },
  {
   "cell_type": "code",
   "execution_count": 1002,
   "metadata": {},
   "outputs": [
    {
     "data": {
      "text/plain": [
       "(30, 40)"
      ]
     },
     "execution_count": 1002,
     "metadata": {},
     "output_type": "execute_result"
    }
   ],
   "source": [
    "X_test.shape"
   ]
  },
  {
   "cell_type": "code",
   "execution_count": 1006,
   "metadata": {},
   "outputs": [],
   "source": [
    "test=set(X_test.columns)\n",
    "trial=set(X_train.columns)"
   ]
  },
  {
   "cell_type": "code",
   "execution_count": 1008,
   "metadata": {},
   "outputs": [
    {
     "data": {
      "text/plain": [
       "set()"
      ]
     },
     "execution_count": 1008,
     "metadata": {},
     "output_type": "execute_result"
    }
   ],
   "source": [
    "trial-test # doin this as there was an extra column\n"
   ]
  },
  {
   "cell_type": "code",
   "execution_count": 1000,
   "metadata": {},
   "outputs": [],
   "source": [
    "X_train=X_train.drop('Education Level_PhD' , axis=1)"
   ]
  },
  {
   "cell_type": "markdown",
   "metadata": {
    "id": "8zL0XwIAbzFH"
   },
   "source": [
    "### **6.2 Feature scaling** <font color = red>[5 marks]</font>\n",
    "\n",
    "Apply feature scaling to the numeric columns to bring them to a common range and ensure consistent scaling."
   ]
  },
  {
   "cell_type": "markdown",
   "metadata": {
    "id": "x2Di6iSjU41j"
   },
   "source": [
    "6.2.1 Import required libraries <font color=\"red\">[1 Mark]</font>"
   ]
  },
  {
   "cell_type": "code",
   "execution_count": 1010,
   "metadata": {
    "id": "AhsJWDc4bzFH"
   },
   "outputs": [],
   "source": [
    "from sklearn.preprocessing import MinMaxScaler\n",
    "from sklearn.preprocessing import StandardScaler\n",
    "from sklearn.preprocessing import RobustScaler"
   ]
  },
  {
   "cell_type": "markdown",
   "metadata": {
    "id": "-RE9MEgQVAg8"
   },
   "source": [
    "6.2.2 Scale the numerical features <font color=\"red\">[4 Marks]</font>"
   ]
  },
  {
   "cell_type": "code",
   "execution_count": 1012,
   "metadata": {
    "id": "WCV2mKErbzFH"
   },
   "outputs": [],
   "source": [
    "# Scale the numeric features present in the training set\n",
    "num_col=['Age', 'Years at Company', 'Monthly Income', 'Distance from Home',\n",
    "            'Number of Promotions', 'Number of Dependents', 'Company Tenure (In Months)']\n",
    "# Scale the numerical features present in the validation set\n",
    "scaler=StandardScaler()\n",
    "X_train[num_col]=scaler.fit_transform(X_train[num_col])"
   ]
  },
  {
   "cell_type": "markdown",
   "metadata": {
    "id": "BFIOMdJqBRyw"
   },
   "source": [
    "## **7. Model Building** <font color = red>[40 marks]</font>"
   ]
  },
  {
   "cell_type": "markdown",
   "metadata": {
    "id": "5VrBY3MpbzFI"
   },
   "source": [
    "### **7.1 Feature selection** <font color = red>[5 marks]</font>\n",
    "\n",
    "As there are a lot of variables present in the data, Recursive Feature Elimination (RFE) will be used to select the most influential features for building the model."
   ]
  },
  {
   "cell_type": "markdown",
   "metadata": {
    "id": "927evRo1VO4e"
   },
   "source": [
    "7.1.1 Import required libraries <font color=\"red\">[1 Mark]</font>"
   ]
  },
  {
   "cell_type": "code",
   "execution_count": 656,
   "metadata": {
    "id": "V1uKag9gbzFI"
   },
   "outputs": [],
   "source": [
    "# Import 'LogisticRegression' and create a LogisticRegression object\n",
    "from sklearn.linear_model import LinearRegression\n",
    "from sklearn.linear_model import LogisticRegression \n"
   ]
  },
  {
   "cell_type": "markdown",
   "metadata": {
    "id": "M_flTl2qVS1t"
   },
   "source": [
    "7.1.2 Import RFE  and select 15 variables <font color=\"red\">[3 Mark]</font>"
   ]
  },
  {
   "cell_type": "code",
   "execution_count": 1025,
   "metadata": {
    "id": "JMAKjGQAbzFI"
   },
   "outputs": [],
   "source": [
    "# Import RFE and select 15 variables\n",
    "from sklearn.feature_selection import RFE\n",
    "rfe=RFE(estimator=model , n_features_to_select=15)\n",
    "rfe=rfe.fit(X_train , y_train)"
   ]
  },
  {
   "cell_type": "code",
   "execution_count": 1027,
   "metadata": {
    "id": "znuj-wmubzFJ"
   },
   "outputs": [
    {
     "data": {
      "text/plain": [
       "Index(['Number of Promotions', 'Overtime', 'Number of Dependents',\n",
       "       'Remote Work', 'Job Role_Finance', 'Job Role_Media',\n",
       "       'Marital Status_Single', 'Performance Rating_High',\n",
       "       'Company Reputation_Good', 'Company Reputation_Poor',\n",
       "       'Employee Recognition_Medium', 'Education Level_Bachelorâ€™s Degree',\n",
       "       'Education Level_Masterâ€™s Degree', 'Job Level_Mid',\n",
       "       'Job Level_Senior'],\n",
       "      dtype='object')"
      ]
     },
     "execution_count": 1027,
     "metadata": {},
     "output_type": "execute_result"
    }
   ],
   "source": [
    "# Display the features selected by RFE\n",
    "X_train.columns[rfe.support_]"
   ]
  },
  {
   "cell_type": "markdown",
   "metadata": {
    "id": "AfSLJwIFbzFJ"
   },
   "source": [
    "7.1.3 Store the selected features <font color=\"red\">[1 Mark]</font>\n",
    "\n",
    "\n"
   ]
  },
  {
   "cell_type": "code",
   "execution_count": 1029,
   "metadata": {
    "id": "CblOqMSzbzFJ"
   },
   "outputs": [],
   "source": [
    "# Put columns selected by RFE into variable 'col'\n",
    "col=X_train.columns[rfe.support_]"
   ]
  },
  {
   "cell_type": "markdown",
   "metadata": {
    "id": "wMGvl2H1bzFJ"
   },
   "source": [
    "### **7.2 Building Logistic Regression Model** <font color = red>[20 marks]</font>\n",
    "\n",
    "Now that you have selected the variables through RFE, use these features to build a logistic regression model with statsmodels. This will allow you to assess the statistical aspects, such as p-values and VIFs, which are important for checking multicollinearity and ensuring that the predictors are not highly correlated with each other, as this could distort the model's coefficients."
   ]
  },
  {
   "cell_type": "markdown",
   "metadata": {
    "id": "X9t-NQ2KjHv6"
   },
   "source": [
    "7.2.1 Select relevant columns on training set <font color=\"red\">[1 Mark]</font>"
   ]
  },
  {
   "cell_type": "code",
   "execution_count": 1031,
   "metadata": {
    "id": "HLHDHKfSbzFJ"
   },
   "outputs": [
    {
     "data": {
      "text/html": [
       "<div>\n",
       "<style scoped>\n",
       "    .dataframe tbody tr th:only-of-type {\n",
       "        vertical-align: middle;\n",
       "    }\n",
       "\n",
       "    .dataframe tbody tr th {\n",
       "        vertical-align: top;\n",
       "    }\n",
       "\n",
       "    .dataframe thead th {\n",
       "        text-align: right;\n",
       "    }\n",
       "</style>\n",
       "<table border=\"1\" class=\"dataframe\">\n",
       "  <thead>\n",
       "    <tr style=\"text-align: right;\">\n",
       "      <th></th>\n",
       "      <th>Number of Promotions</th>\n",
       "      <th>Overtime</th>\n",
       "      <th>Number of Dependents</th>\n",
       "      <th>Remote Work</th>\n",
       "      <th>Job Role_Finance</th>\n",
       "      <th>Job Role_Media</th>\n",
       "      <th>Marital Status_Single</th>\n",
       "      <th>Performance Rating_High</th>\n",
       "      <th>Company Reputation_Good</th>\n",
       "      <th>Company Reputation_Poor</th>\n",
       "      <th>Employee Recognition_Medium</th>\n",
       "      <th>Education Level_Bachelorâ€™s Degree</th>\n",
       "      <th>Education Level_Masterâ€™s Degree</th>\n",
       "      <th>Job Level_Mid</th>\n",
       "      <th>Job Level_Senior</th>\n",
       "    </tr>\n",
       "  </thead>\n",
       "  <tbody>\n",
       "    <tr>\n",
       "      <th>32761</th>\n",
       "      <td>1.900133</td>\n",
       "      <td>0</td>\n",
       "      <td>-1.023273</td>\n",
       "      <td>0</td>\n",
       "      <td>1</td>\n",
       "      <td>0</td>\n",
       "      <td>1</td>\n",
       "      <td>0</td>\n",
       "      <td>1</td>\n",
       "      <td>0</td>\n",
       "      <td>1</td>\n",
       "      <td>1</td>\n",
       "      <td>0</td>\n",
       "      <td>0</td>\n",
       "      <td>0</td>\n",
       "    </tr>\n",
       "    <tr>\n",
       "      <th>24626</th>\n",
       "      <td>-0.777907</td>\n",
       "      <td>0</td>\n",
       "      <td>-0.472280</td>\n",
       "      <td>0</td>\n",
       "      <td>0</td>\n",
       "      <td>1</td>\n",
       "      <td>1</td>\n",
       "      <td>0</td>\n",
       "      <td>0</td>\n",
       "      <td>0</td>\n",
       "      <td>0</td>\n",
       "      <td>0</td>\n",
       "      <td>0</td>\n",
       "      <td>0</td>\n",
       "      <td>1</td>\n",
       "    </tr>\n",
       "    <tr>\n",
       "      <th>23110</th>\n",
       "      <td>0.114773</td>\n",
       "      <td>0</td>\n",
       "      <td>-1.023273</td>\n",
       "      <td>0</td>\n",
       "      <td>0</td>\n",
       "      <td>1</td>\n",
       "      <td>0</td>\n",
       "      <td>1</td>\n",
       "      <td>1</td>\n",
       "      <td>0</td>\n",
       "      <td>0</td>\n",
       "      <td>0</td>\n",
       "      <td>0</td>\n",
       "      <td>0</td>\n",
       "      <td>0</td>\n",
       "    </tr>\n",
       "    <tr>\n",
       "      <th>12461</th>\n",
       "      <td>-0.777907</td>\n",
       "      <td>0</td>\n",
       "      <td>-0.472280</td>\n",
       "      <td>0</td>\n",
       "      <td>0</td>\n",
       "      <td>0</td>\n",
       "      <td>0</td>\n",
       "      <td>0</td>\n",
       "      <td>0</td>\n",
       "      <td>0</td>\n",
       "      <td>1</td>\n",
       "      <td>0</td>\n",
       "      <td>0</td>\n",
       "      <td>0</td>\n",
       "      <td>0</td>\n",
       "    </tr>\n",
       "    <tr>\n",
       "      <th>2120</th>\n",
       "      <td>-0.777907</td>\n",
       "      <td>0</td>\n",
       "      <td>-1.023273</td>\n",
       "      <td>1</td>\n",
       "      <td>0</td>\n",
       "      <td>0</td>\n",
       "      <td>1</td>\n",
       "      <td>0</td>\n",
       "      <td>0</td>\n",
       "      <td>0</td>\n",
       "      <td>0</td>\n",
       "      <td>0</td>\n",
       "      <td>0</td>\n",
       "      <td>0</td>\n",
       "      <td>1</td>\n",
       "    </tr>\n",
       "    <tr>\n",
       "      <th>...</th>\n",
       "      <td>...</td>\n",
       "      <td>...</td>\n",
       "      <td>...</td>\n",
       "      <td>...</td>\n",
       "      <td>...</td>\n",
       "      <td>...</td>\n",
       "      <td>...</td>\n",
       "      <td>...</td>\n",
       "      <td>...</td>\n",
       "      <td>...</td>\n",
       "      <td>...</td>\n",
       "      <td>...</td>\n",
       "      <td>...</td>\n",
       "      <td>...</td>\n",
       "      <td>...</td>\n",
       "    </tr>\n",
       "    <tr>\n",
       "      <th>3972</th>\n",
       "      <td>1.900133</td>\n",
       "      <td>0</td>\n",
       "      <td>0.629707</td>\n",
       "      <td>0</td>\n",
       "      <td>1</td>\n",
       "      <td>0</td>\n",
       "      <td>1</td>\n",
       "      <td>1</td>\n",
       "      <td>0</td>\n",
       "      <td>1</td>\n",
       "      <td>0</td>\n",
       "      <td>1</td>\n",
       "      <td>0</td>\n",
       "      <td>0</td>\n",
       "      <td>0</td>\n",
       "    </tr>\n",
       "    <tr>\n",
       "      <th>5381</th>\n",
       "      <td>-0.777907</td>\n",
       "      <td>1</td>\n",
       "      <td>-0.472280</td>\n",
       "      <td>0</td>\n",
       "      <td>0</td>\n",
       "      <td>0</td>\n",
       "      <td>0</td>\n",
       "      <td>0</td>\n",
       "      <td>0</td>\n",
       "      <td>0</td>\n",
       "      <td>1</td>\n",
       "      <td>1</td>\n",
       "      <td>0</td>\n",
       "      <td>0</td>\n",
       "      <td>0</td>\n",
       "    </tr>\n",
       "    <tr>\n",
       "      <th>66505</th>\n",
       "      <td>0.114773</td>\n",
       "      <td>1</td>\n",
       "      <td>0.629707</td>\n",
       "      <td>0</td>\n",
       "      <td>1</td>\n",
       "      <td>0</td>\n",
       "      <td>0</td>\n",
       "      <td>0</td>\n",
       "      <td>1</td>\n",
       "      <td>0</td>\n",
       "      <td>1</td>\n",
       "      <td>0</td>\n",
       "      <td>0</td>\n",
       "      <td>1</td>\n",
       "      <td>0</td>\n",
       "    </tr>\n",
       "    <tr>\n",
       "      <th>46116</th>\n",
       "      <td>1.900133</td>\n",
       "      <td>1</td>\n",
       "      <td>-1.023273</td>\n",
       "      <td>0</td>\n",
       "      <td>0</td>\n",
       "      <td>0</td>\n",
       "      <td>0</td>\n",
       "      <td>0</td>\n",
       "      <td>1</td>\n",
       "      <td>0</td>\n",
       "      <td>0</td>\n",
       "      <td>0</td>\n",
       "      <td>0</td>\n",
       "      <td>0</td>\n",
       "      <td>0</td>\n",
       "    </tr>\n",
       "    <tr>\n",
       "      <th>35435</th>\n",
       "      <td>0.114773</td>\n",
       "      <td>0</td>\n",
       "      <td>-1.023273</td>\n",
       "      <td>0</td>\n",
       "      <td>0</td>\n",
       "      <td>0</td>\n",
       "      <td>0</td>\n",
       "      <td>1</td>\n",
       "      <td>1</td>\n",
       "      <td>0</td>\n",
       "      <td>1</td>\n",
       "      <td>0</td>\n",
       "      <td>0</td>\n",
       "      <td>1</td>\n",
       "      <td>0</td>\n",
       "    </tr>\n",
       "  </tbody>\n",
       "</table>\n",
       "<p>70 rows × 15 columns</p>\n",
       "</div>"
      ],
      "text/plain": [
       "       Number of Promotions  Overtime  Number of Dependents  Remote Work  \\\n",
       "32761              1.900133         0             -1.023273            0   \n",
       "24626             -0.777907         0             -0.472280            0   \n",
       "23110              0.114773         0             -1.023273            0   \n",
       "12461             -0.777907         0             -0.472280            0   \n",
       "2120              -0.777907         0             -1.023273            1   \n",
       "...                     ...       ...                   ...          ...   \n",
       "3972               1.900133         0              0.629707            0   \n",
       "5381              -0.777907         1             -0.472280            0   \n",
       "66505              0.114773         1              0.629707            0   \n",
       "46116              1.900133         1             -1.023273            0   \n",
       "35435              0.114773         0             -1.023273            0   \n",
       "\n",
       "       Job Role_Finance  Job Role_Media  Marital Status_Single  \\\n",
       "32761                 1               0                      1   \n",
       "24626                 0               1                      1   \n",
       "23110                 0               1                      0   \n",
       "12461                 0               0                      0   \n",
       "2120                  0               0                      1   \n",
       "...                 ...             ...                    ...   \n",
       "3972                  1               0                      1   \n",
       "5381                  0               0                      0   \n",
       "66505                 1               0                      0   \n",
       "46116                 0               0                      0   \n",
       "35435                 0               0                      0   \n",
       "\n",
       "       Performance Rating_High  Company Reputation_Good  \\\n",
       "32761                        0                        1   \n",
       "24626                        0                        0   \n",
       "23110                        1                        1   \n",
       "12461                        0                        0   \n",
       "2120                         0                        0   \n",
       "...                        ...                      ...   \n",
       "3972                         1                        0   \n",
       "5381                         0                        0   \n",
       "66505                        0                        1   \n",
       "46116                        0                        1   \n",
       "35435                        1                        1   \n",
       "\n",
       "       Company Reputation_Poor  Employee Recognition_Medium  \\\n",
       "32761                        0                            1   \n",
       "24626                        0                            0   \n",
       "23110                        0                            0   \n",
       "12461                        0                            1   \n",
       "2120                         0                            0   \n",
       "...                        ...                          ...   \n",
       "3972                         1                            0   \n",
       "5381                         0                            1   \n",
       "66505                        0                            1   \n",
       "46116                        0                            0   \n",
       "35435                        0                            1   \n",
       "\n",
       "       Education Level_Bachelorâ€™s Degree  Education Level_Masterâ€™s Degree  \\\n",
       "32761                                    1                                  0   \n",
       "24626                                    0                                  0   \n",
       "23110                                    0                                  0   \n",
       "12461                                    0                                  0   \n",
       "2120                                     0                                  0   \n",
       "...                                    ...                                ...   \n",
       "3972                                     1                                  0   \n",
       "5381                                     1                                  0   \n",
       "66505                                    0                                  0   \n",
       "46116                                    0                                  0   \n",
       "35435                                    0                                  0   \n",
       "\n",
       "       Job Level_Mid  Job Level_Senior  \n",
       "32761              0                 0  \n",
       "24626              0                 1  \n",
       "23110              0                 0  \n",
       "12461              0                 0  \n",
       "2120               0                 1  \n",
       "...              ...               ...  \n",
       "3972               0                 0  \n",
       "5381               0                 0  \n",
       "66505              1                 0  \n",
       "46116              0                 0  \n",
       "35435              1                 0  \n",
       "\n",
       "[70 rows x 15 columns]"
      ]
     },
     "execution_count": 1031,
     "metadata": {},
     "output_type": "execute_result"
    }
   ],
   "source": [
    "# Select only the columns selected by RFE\n",
    "\n",
    "X_train[col]"
   ]
  },
  {
   "cell_type": "code",
   "execution_count": 1033,
   "metadata": {
    "id": "DLukEfebbzFJ"
   },
   "outputs": [
    {
     "data": {
      "text/html": [
       "<div>\n",
       "<style scoped>\n",
       "    .dataframe tbody tr th:only-of-type {\n",
       "        vertical-align: middle;\n",
       "    }\n",
       "\n",
       "    .dataframe tbody tr th {\n",
       "        vertical-align: top;\n",
       "    }\n",
       "\n",
       "    .dataframe thead th {\n",
       "        text-align: right;\n",
       "    }\n",
       "</style>\n",
       "<table border=\"1\" class=\"dataframe\">\n",
       "  <thead>\n",
       "    <tr style=\"text-align: right;\">\n",
       "      <th></th>\n",
       "      <th>Number of Promotions</th>\n",
       "      <th>Overtime</th>\n",
       "      <th>Number of Dependents</th>\n",
       "      <th>Remote Work</th>\n",
       "      <th>Job Role_Finance</th>\n",
       "      <th>Job Role_Media</th>\n",
       "      <th>Marital Status_Single</th>\n",
       "      <th>Performance Rating_High</th>\n",
       "      <th>Company Reputation_Good</th>\n",
       "      <th>Company Reputation_Poor</th>\n",
       "      <th>Employee Recognition_Medium</th>\n",
       "      <th>Education Level_Bachelorâ€™s Degree</th>\n",
       "      <th>Education Level_Masterâ€™s Degree</th>\n",
       "      <th>Job Level_Mid</th>\n",
       "      <th>Job Level_Senior</th>\n",
       "    </tr>\n",
       "  </thead>\n",
       "  <tbody>\n",
       "    <tr>\n",
       "      <th>32761</th>\n",
       "      <td>1.900133</td>\n",
       "      <td>0</td>\n",
       "      <td>-1.023273</td>\n",
       "      <td>0</td>\n",
       "      <td>1</td>\n",
       "      <td>0</td>\n",
       "      <td>1</td>\n",
       "      <td>0</td>\n",
       "      <td>1</td>\n",
       "      <td>0</td>\n",
       "      <td>1</td>\n",
       "      <td>1</td>\n",
       "      <td>0</td>\n",
       "      <td>0</td>\n",
       "      <td>0</td>\n",
       "    </tr>\n",
       "    <tr>\n",
       "      <th>24626</th>\n",
       "      <td>-0.777907</td>\n",
       "      <td>0</td>\n",
       "      <td>-0.472280</td>\n",
       "      <td>0</td>\n",
       "      <td>0</td>\n",
       "      <td>1</td>\n",
       "      <td>1</td>\n",
       "      <td>0</td>\n",
       "      <td>0</td>\n",
       "      <td>0</td>\n",
       "      <td>0</td>\n",
       "      <td>0</td>\n",
       "      <td>0</td>\n",
       "      <td>0</td>\n",
       "      <td>1</td>\n",
       "    </tr>\n",
       "    <tr>\n",
       "      <th>23110</th>\n",
       "      <td>0.114773</td>\n",
       "      <td>0</td>\n",
       "      <td>-1.023273</td>\n",
       "      <td>0</td>\n",
       "      <td>0</td>\n",
       "      <td>1</td>\n",
       "      <td>0</td>\n",
       "      <td>1</td>\n",
       "      <td>1</td>\n",
       "      <td>0</td>\n",
       "      <td>0</td>\n",
       "      <td>0</td>\n",
       "      <td>0</td>\n",
       "      <td>0</td>\n",
       "      <td>0</td>\n",
       "    </tr>\n",
       "    <tr>\n",
       "      <th>12461</th>\n",
       "      <td>-0.777907</td>\n",
       "      <td>0</td>\n",
       "      <td>-0.472280</td>\n",
       "      <td>0</td>\n",
       "      <td>0</td>\n",
       "      <td>0</td>\n",
       "      <td>0</td>\n",
       "      <td>0</td>\n",
       "      <td>0</td>\n",
       "      <td>0</td>\n",
       "      <td>1</td>\n",
       "      <td>0</td>\n",
       "      <td>0</td>\n",
       "      <td>0</td>\n",
       "      <td>0</td>\n",
       "    </tr>\n",
       "    <tr>\n",
       "      <th>2120</th>\n",
       "      <td>-0.777907</td>\n",
       "      <td>0</td>\n",
       "      <td>-1.023273</td>\n",
       "      <td>1</td>\n",
       "      <td>0</td>\n",
       "      <td>0</td>\n",
       "      <td>1</td>\n",
       "      <td>0</td>\n",
       "      <td>0</td>\n",
       "      <td>0</td>\n",
       "      <td>0</td>\n",
       "      <td>0</td>\n",
       "      <td>0</td>\n",
       "      <td>0</td>\n",
       "      <td>1</td>\n",
       "    </tr>\n",
       "  </tbody>\n",
       "</table>\n",
       "</div>"
      ],
      "text/plain": [
       "       Number of Promotions  Overtime  Number of Dependents  Remote Work  \\\n",
       "32761              1.900133         0             -1.023273            0   \n",
       "24626             -0.777907         0             -0.472280            0   \n",
       "23110              0.114773         0             -1.023273            0   \n",
       "12461             -0.777907         0             -0.472280            0   \n",
       "2120              -0.777907         0             -1.023273            1   \n",
       "\n",
       "       Job Role_Finance  Job Role_Media  Marital Status_Single  \\\n",
       "32761                 1               0                      1   \n",
       "24626                 0               1                      1   \n",
       "23110                 0               1                      0   \n",
       "12461                 0               0                      0   \n",
       "2120                  0               0                      1   \n",
       "\n",
       "       Performance Rating_High  Company Reputation_Good  \\\n",
       "32761                        0                        1   \n",
       "24626                        0                        0   \n",
       "23110                        1                        1   \n",
       "12461                        0                        0   \n",
       "2120                         0                        0   \n",
       "\n",
       "       Company Reputation_Poor  Employee Recognition_Medium  \\\n",
       "32761                        0                            1   \n",
       "24626                        0                            0   \n",
       "23110                        0                            0   \n",
       "12461                        0                            1   \n",
       "2120                         0                            0   \n",
       "\n",
       "       Education Level_Bachelorâ€™s Degree  Education Level_Masterâ€™s Degree  \\\n",
       "32761                                    1                                  0   \n",
       "24626                                    0                                  0   \n",
       "23110                                    0                                  0   \n",
       "12461                                    0                                  0   \n",
       "2120                                     0                                  0   \n",
       "\n",
       "       Job Level_Mid  Job Level_Senior  \n",
       "32761              0                 0  \n",
       "24626              0                 1  \n",
       "23110              0                 0  \n",
       "12461              0                 0  \n",
       "2120               0                 1  "
      ]
     },
     "execution_count": 1033,
     "metadata": {},
     "output_type": "execute_result"
    }
   ],
   "source": [
    "# View the training data\n",
    "X_train[col].head()"
   ]
  },
  {
   "cell_type": "markdown",
   "metadata": {
    "id": "Ikq-mNcWjZ7u"
   },
   "source": [
    "7.2.2 Add constant to training set <font color = \"red\">[1 Mark]</font>"
   ]
  },
  {
   "cell_type": "code",
   "execution_count": 1037,
   "metadata": {
    "id": "QNcomiZdbzFK"
   },
   "outputs": [],
   "source": [
    "# Import statsmodels and add constant to training set\n",
    "import statsmodels.api as sm\n",
    "X_train_sm=sm.add_constant(X_train[col])"
   ]
  },
  {
   "cell_type": "markdown",
   "metadata": {
    "id": "XbOjP0UJjmJr"
   },
   "source": [
    "7.2.3 Fit logistic regression model <font color=\"red\">[3 Marks]</font>"
   ]
  },
  {
   "cell_type": "code",
   "execution_count": 1039,
   "metadata": {
    "id": "ZTQHS0e7bzFK"
   },
   "outputs": [
    {
     "name": "stdout",
     "output_type": "stream",
     "text": [
      "Optimization terminated successfully.\n",
      "         Current function value: 0.193824\n",
      "         Iterations 11\n"
     ]
    }
   ],
   "source": [
    "# Fit a logistic regression model on X_train after adding a constant and output the summary\n",
    "logit_model = sm.Logit(y_train, X_train_sm)\n",
    "result = logit_model.fit()"
   ]
  },
  {
   "cell_type": "code",
   "execution_count": 1041,
   "metadata": {
    "scrolled": true
   },
   "outputs": [
    {
     "data": {
      "text/html": [
       "<table class=\"simpletable\">\n",
       "<caption>Logit Regression Results</caption>\n",
       "<tr>\n",
       "  <th>Dep. Variable:</th>       <td>Attrition</td>    <th>  No. Observations:  </th>  <td>    70</td>  \n",
       "</tr>\n",
       "<tr>\n",
       "  <th>Model:</th>                 <td>Logit</td>      <th>  Df Residuals:      </th>  <td>    54</td>  \n",
       "</tr>\n",
       "<tr>\n",
       "  <th>Method:</th>                 <td>MLE</td>       <th>  Df Model:          </th>  <td>    15</td>  \n",
       "</tr>\n",
       "<tr>\n",
       "  <th>Date:</th>            <td>Sat, 19 Apr 2025</td> <th>  Pseudo R-squ.:     </th>  <td>0.7177</td>  \n",
       "</tr>\n",
       "<tr>\n",
       "  <th>Time:</th>                <td>02:40:44</td>     <th>  Log-Likelihood:    </th> <td> -13.568</td> \n",
       "</tr>\n",
       "<tr>\n",
       "  <th>converged:</th>             <td>True</td>       <th>  LL-Null:           </th> <td> -48.062</td> \n",
       "</tr>\n",
       "<tr>\n",
       "  <th>Covariance Type:</th>     <td>nonrobust</td>    <th>  LLR p-value:       </th> <td>6.758e-09</td>\n",
       "</tr>\n",
       "</table>\n",
       "<table class=\"simpletable\">\n",
       "<tr>\n",
       "                   <td></td>                      <th>coef</th>     <th>std err</th>      <th>z</th>      <th>P>|z|</th>  <th>[0.025</th>    <th>0.975]</th>  \n",
       "</tr>\n",
       "<tr>\n",
       "  <th>const</th>                               <td>    2.8723</td> <td>    2.367</td> <td>    1.213</td> <td> 0.225</td> <td>   -1.767</td> <td>    7.511</td>\n",
       "</tr>\n",
       "<tr>\n",
       "  <th>Number of Promotions</th>                <td>   -2.6859</td> <td>    1.538</td> <td>   -1.746</td> <td> 0.081</td> <td>   -5.701</td> <td>    0.329</td>\n",
       "</tr>\n",
       "<tr>\n",
       "  <th>Overtime</th>                            <td>    4.1713</td> <td>    2.360</td> <td>    1.767</td> <td> 0.077</td> <td>   -0.455</td> <td>    8.798</td>\n",
       "</tr>\n",
       "<tr>\n",
       "  <th>Number of Dependents</th>                <td>   -4.2805</td> <td>    2.178</td> <td>   -1.966</td> <td> 0.049</td> <td>   -8.549</td> <td>   -0.012</td>\n",
       "</tr>\n",
       "<tr>\n",
       "  <th>Remote Work</th>                         <td>   -4.1437</td> <td>    2.127</td> <td>   -1.948</td> <td> 0.051</td> <td>   -8.312</td> <td>    0.025</td>\n",
       "</tr>\n",
       "<tr>\n",
       "  <th>Job Role_Finance</th>                    <td>   -8.5372</td> <td>    3.691</td> <td>   -2.313</td> <td> 0.021</td> <td>  -15.772</td> <td>   -1.302</td>\n",
       "</tr>\n",
       "<tr>\n",
       "  <th>Job Role_Media</th>                      <td>   -7.5176</td> <td>    4.053</td> <td>   -1.855</td> <td> 0.064</td> <td>  -15.461</td> <td>    0.426</td>\n",
       "</tr>\n",
       "<tr>\n",
       "  <th>Marital Status_Single</th>               <td>    3.9056</td> <td>    2.240</td> <td>    1.743</td> <td> 0.081</td> <td>   -0.485</td> <td>    8.297</td>\n",
       "</tr>\n",
       "<tr>\n",
       "  <th>Performance Rating_High</th>             <td>    3.6465</td> <td>    2.084</td> <td>    1.749</td> <td> 0.080</td> <td>   -0.439</td> <td>    7.732</td>\n",
       "</tr>\n",
       "<tr>\n",
       "  <th>Company Reputation_Good</th>             <td>   -5.3400</td> <td>    2.769</td> <td>   -1.929</td> <td> 0.054</td> <td>  -10.766</td> <td>    0.087</td>\n",
       "</tr>\n",
       "<tr>\n",
       "  <th>Company Reputation_Poor</th>             <td>    0.9542</td> <td>    1.883</td> <td>    0.507</td> <td> 0.612</td> <td>   -2.736</td> <td>    4.644</td>\n",
       "</tr>\n",
       "<tr>\n",
       "  <th>Employee Recognition_Medium</th>         <td>    5.1837</td> <td>    2.221</td> <td>    2.334</td> <td> 0.020</td> <td>    0.832</td> <td>    9.536</td>\n",
       "</tr>\n",
       "<tr>\n",
       "  <th>Education Level_Bachelorâ€™s Degree</th> <td>    4.1273</td> <td>    2.473</td> <td>    1.669</td> <td> 0.095</td> <td>   -0.720</td> <td>    8.975</td>\n",
       "</tr>\n",
       "<tr>\n",
       "  <th>Education Level_Masterâ€™s Degree</th>   <td>   -7.8066</td> <td>    3.225</td> <td>   -2.421</td> <td> 0.015</td> <td>  -14.127</td> <td>   -1.487</td>\n",
       "</tr>\n",
       "<tr>\n",
       "  <th>Job Level_Mid</th>                       <td>   -8.8311</td> <td>    4.131</td> <td>   -2.138</td> <td> 0.033</td> <td>  -16.927</td> <td>   -0.735</td>\n",
       "</tr>\n",
       "<tr>\n",
       "  <th>Job Level_Senior</th>                    <td>   -9.3320</td> <td>    4.817</td> <td>   -1.937</td> <td> 0.053</td> <td>  -18.774</td> <td>    0.110</td>\n",
       "</tr>\n",
       "</table><br/><br/>Possibly complete quasi-separation: A fraction 0.31 of observations can be<br/>perfectly predicted. This might indicate that there is complete<br/>quasi-separation. In this case some parameters will not be identified."
      ],
      "text/latex": [
       "\\begin{center}\n",
       "\\begin{tabular}{lclc}\n",
       "\\toprule\n",
       "\\textbf{Dep. Variable:}                       &    Attrition     & \\textbf{  No. Observations:  } &       70    \\\\\n",
       "\\textbf{Model:}                               &      Logit       & \\textbf{  Df Residuals:      } &       54    \\\\\n",
       "\\textbf{Method:}                              &       MLE        & \\textbf{  Df Model:          } &       15    \\\\\n",
       "\\textbf{Date:}                                & Sat, 19 Apr 2025 & \\textbf{  Pseudo R-squ.:     } &   0.7177    \\\\\n",
       "\\textbf{Time:}                                &     02:40:44     & \\textbf{  Log-Likelihood:    } &   -13.568   \\\\\n",
       "\\textbf{converged:}                           &       True       & \\textbf{  LL-Null:           } &   -48.062   \\\\\n",
       "\\textbf{Covariance Type:}                     &    nonrobust     & \\textbf{  LLR p-value:       } & 6.758e-09   \\\\\n",
       "\\bottomrule\n",
       "\\end{tabular}\n",
       "\\begin{tabular}{lcccccc}\n",
       "                                              & \\textbf{coef} & \\textbf{std err} & \\textbf{z} & \\textbf{P$> |$z$|$} & \\textbf{[0.025} & \\textbf{0.975]}  \\\\\n",
       "\\midrule\n",
       "\\textbf{const}                                &       2.8723  &        2.367     &     1.213  &         0.225        &       -1.767    &        7.511     \\\\\n",
       "\\textbf{Number of Promotions}                 &      -2.6859  &        1.538     &    -1.746  &         0.081        &       -5.701    &        0.329     \\\\\n",
       "\\textbf{Overtime}                             &       4.1713  &        2.360     &     1.767  &         0.077        &       -0.455    &        8.798     \\\\\n",
       "\\textbf{Number of Dependents}                 &      -4.2805  &        2.178     &    -1.966  &         0.049        &       -8.549    &       -0.012     \\\\\n",
       "\\textbf{Remote Work}                          &      -4.1437  &        2.127     &    -1.948  &         0.051        &       -8.312    &        0.025     \\\\\n",
       "\\textbf{Job Role\\_Finance}                    &      -8.5372  &        3.691     &    -2.313  &         0.021        &      -15.772    &       -1.302     \\\\\n",
       "\\textbf{Job Role\\_Media}                      &      -7.5176  &        4.053     &    -1.855  &         0.064        &      -15.461    &        0.426     \\\\\n",
       "\\textbf{Marital Status\\_Single}               &       3.9056  &        2.240     &     1.743  &         0.081        &       -0.485    &        8.297     \\\\\n",
       "\\textbf{Performance Rating\\_High}             &       3.6465  &        2.084     &     1.749  &         0.080        &       -0.439    &        7.732     \\\\\n",
       "\\textbf{Company Reputation\\_Good}             &      -5.3400  &        2.769     &    -1.929  &         0.054        &      -10.766    &        0.087     \\\\\n",
       "\\textbf{Company Reputation\\_Poor}             &       0.9542  &        1.883     &     0.507  &         0.612        &       -2.736    &        4.644     \\\\\n",
       "\\textbf{Employee Recognition\\_Medium}         &       5.1837  &        2.221     &     2.334  &         0.020        &        0.832    &        9.536     \\\\\n",
       "\\textbf{Education Level\\_Bachelorâ€™s Degree} &       4.1273  &        2.473     &     1.669  &         0.095        &       -0.720    &        8.975     \\\\\n",
       "\\textbf{Education Level\\_Masterâ€™s Degree}   &      -7.8066  &        3.225     &    -2.421  &         0.015        &      -14.127    &       -1.487     \\\\\n",
       "\\textbf{Job Level\\_Mid}                       &      -8.8311  &        4.131     &    -2.138  &         0.033        &      -16.927    &       -0.735     \\\\\n",
       "\\textbf{Job Level\\_Senior}                    &      -9.3320  &        4.817     &    -1.937  &         0.053        &      -18.774    &        0.110     \\\\\n",
       "\\bottomrule\n",
       "\\end{tabular}\n",
       "%\\caption{Logit Regression Results}\n",
       "\\end{center}\n",
       "\n",
       "Possibly complete quasi-separation: A fraction 0.31 of observations can be \\newline\n",
       " perfectly predicted. This might indicate that there is complete \\newline\n",
       " quasi-separation. In this case some parameters will not be identified."
      ],
      "text/plain": [
       "<class 'statsmodels.iolib.summary.Summary'>\n",
       "\"\"\"\n",
       "                           Logit Regression Results                           \n",
       "==============================================================================\n",
       "Dep. Variable:              Attrition   No. Observations:                   70\n",
       "Model:                          Logit   Df Residuals:                       54\n",
       "Method:                           MLE   Df Model:                           15\n",
       "Date:                Sat, 19 Apr 2025   Pseudo R-squ.:                  0.7177\n",
       "Time:                        02:40:44   Log-Likelihood:                -13.568\n",
       "converged:                       True   LL-Null:                       -48.062\n",
       "Covariance Type:            nonrobust   LLR p-value:                 6.758e-09\n",
       "=======================================================================================================\n",
       "                                          coef    std err          z      P>|z|      [0.025      0.975]\n",
       "-------------------------------------------------------------------------------------------------------\n",
       "const                                   2.8723      2.367      1.213      0.225      -1.767       7.511\n",
       "Number of Promotions                   -2.6859      1.538     -1.746      0.081      -5.701       0.329\n",
       "Overtime                                4.1713      2.360      1.767      0.077      -0.455       8.798\n",
       "Number of Dependents                   -4.2805      2.178     -1.966      0.049      -8.549      -0.012\n",
       "Remote Work                            -4.1437      2.127     -1.948      0.051      -8.312       0.025\n",
       "Job Role_Finance                       -8.5372      3.691     -2.313      0.021     -15.772      -1.302\n",
       "Job Role_Media                         -7.5176      4.053     -1.855      0.064     -15.461       0.426\n",
       "Marital Status_Single                   3.9056      2.240      1.743      0.081      -0.485       8.297\n",
       "Performance Rating_High                 3.6465      2.084      1.749      0.080      -0.439       7.732\n",
       "Company Reputation_Good                -5.3400      2.769     -1.929      0.054     -10.766       0.087\n",
       "Company Reputation_Poor                 0.9542      1.883      0.507      0.612      -2.736       4.644\n",
       "Employee Recognition_Medium             5.1837      2.221      2.334      0.020       0.832       9.536\n",
       "Education Level_Bachelorâ€™s Degree     4.1273      2.473      1.669      0.095      -0.720       8.975\n",
       "Education Level_Masterâ€™s Degree      -7.8066      3.225     -2.421      0.015     -14.127      -1.487\n",
       "Job Level_Mid                          -8.8311      4.131     -2.138      0.033     -16.927      -0.735\n",
       "Job Level_Senior                       -9.3320      4.817     -1.937      0.053     -18.774       0.110\n",
       "=======================================================================================================\n",
       "\n",
       "Possibly complete quasi-separation: A fraction 0.31 of observations can be\n",
       "perfectly predicted. This might indicate that there is complete\n",
       "quasi-separation. In this case some parameters will not be identified.\n",
       "\"\"\""
      ]
     },
     "execution_count": 1041,
     "metadata": {},
     "output_type": "execute_result"
    }
   ],
   "source": [
    "result.summary()"
   ]
  },
  {
   "cell_type": "markdown",
   "metadata": {
    "id": "xyLcup7xbzFK"
   },
   "source": [
    "**Model Interpretation**\n",
    "\n",
    "The output summary table  will provide the features used for building model along with coefficient of each of the feature and their p-value. The p-value in a logistic regression model is used to assess the statistical significance of each coefficient. Lesser the p-value, more significant the feature is in the model.\n",
    "\n",
    "A positive coefficient will indicate that an increase in the value of feature would increase the odds of the event occurring. On the other hand, a negative coefficient means the opposite, i.e,  an increase in the value of feature would decrease the odds of the event occurring.\n",
    "\n"
   ]
  },
  {
   "cell_type": "code",
   "execution_count": 1110,
   "metadata": {},
   "outputs": [
    {
     "data": {
      "text/plain": [
       "Index(['Number of Promotions', 'Overtime', 'Number of Dependents',\n",
       "       'Remote Work', 'Job Role_Finance', 'Job Role_Media',\n",
       "       'Marital Status_Single', 'Performance Rating_High',\n",
       "       'Company Reputation_Good', 'Employee Recognition_Medium',\n",
       "       'Education Level_Bachelorâ€™s Degree',\n",
       "       'Education Level_Masterâ€™s Degree', 'Job Level_Mid',\n",
       "       'Job Level_Senior'],\n",
       "      dtype='object')"
      ]
     },
     "execution_count": 1110,
     "metadata": {},
     "output_type": "execute_result"
    }
   ],
   "source": [
    "col\n"
   ]
  },
  {
   "cell_type": "markdown",
   "metadata": {
    "id": "LICa4vdcj0nP"
   },
   "source": [
    "7.2.4 Evaluate VIF of features <font color=\"red\">[3 Marks]</font>"
   ]
  },
  {
   "cell_type": "code",
   "execution_count": 1043,
   "metadata": {
    "id": "HCHI-Z-UbzFK"
   },
   "outputs": [],
   "source": [
    "# Import 'variance_inflation_factor'\n",
    "from statsmodels.stats.outliers_influence import variance_inflation_factor"
   ]
  },
  {
   "cell_type": "code",
   "execution_count": 1045,
   "metadata": {
    "id": "ute-cXihbzFL"
   },
   "outputs": [
    {
     "data": {
      "text/html": [
       "<div>\n",
       "<style scoped>\n",
       "    .dataframe tbody tr th:only-of-type {\n",
       "        vertical-align: middle;\n",
       "    }\n",
       "\n",
       "    .dataframe tbody tr th {\n",
       "        vertical-align: top;\n",
       "    }\n",
       "\n",
       "    .dataframe thead th {\n",
       "        text-align: right;\n",
       "    }\n",
       "</style>\n",
       "<table border=\"1\" class=\"dataframe\">\n",
       "  <thead>\n",
       "    <tr style=\"text-align: right;\">\n",
       "      <th></th>\n",
       "      <th>Features</th>\n",
       "      <th>VIF</th>\n",
       "    </tr>\n",
       "  </thead>\n",
       "  <tbody>\n",
       "    <tr>\n",
       "      <th>8</th>\n",
       "      <td>Company Reputation_Good</td>\n",
       "      <td>2.10</td>\n",
       "    </tr>\n",
       "    <tr>\n",
       "      <th>6</th>\n",
       "      <td>Marital Status_Single</td>\n",
       "      <td>2.06</td>\n",
       "    </tr>\n",
       "    <tr>\n",
       "      <th>9</th>\n",
       "      <td>Company Reputation_Poor</td>\n",
       "      <td>1.71</td>\n",
       "    </tr>\n",
       "    <tr>\n",
       "      <th>1</th>\n",
       "      <td>Overtime</td>\n",
       "      <td>1.64</td>\n",
       "    </tr>\n",
       "    <tr>\n",
       "      <th>14</th>\n",
       "      <td>Job Level_Senior</td>\n",
       "      <td>1.60</td>\n",
       "    </tr>\n",
       "    <tr>\n",
       "      <th>13</th>\n",
       "      <td>Job Level_Mid</td>\n",
       "      <td>1.55</td>\n",
       "    </tr>\n",
       "    <tr>\n",
       "      <th>7</th>\n",
       "      <td>Performance Rating_High</td>\n",
       "      <td>1.52</td>\n",
       "    </tr>\n",
       "    <tr>\n",
       "      <th>3</th>\n",
       "      <td>Remote Work</td>\n",
       "      <td>1.40</td>\n",
       "    </tr>\n",
       "    <tr>\n",
       "      <th>11</th>\n",
       "      <td>Education Level_Bachelorâ€™s Degree</td>\n",
       "      <td>1.40</td>\n",
       "    </tr>\n",
       "    <tr>\n",
       "      <th>12</th>\n",
       "      <td>Education Level_Masterâ€™s Degree</td>\n",
       "      <td>1.33</td>\n",
       "    </tr>\n",
       "    <tr>\n",
       "      <th>5</th>\n",
       "      <td>Job Role_Media</td>\n",
       "      <td>1.31</td>\n",
       "    </tr>\n",
       "    <tr>\n",
       "      <th>10</th>\n",
       "      <td>Employee Recognition_Medium</td>\n",
       "      <td>1.31</td>\n",
       "    </tr>\n",
       "    <tr>\n",
       "      <th>4</th>\n",
       "      <td>Job Role_Finance</td>\n",
       "      <td>1.25</td>\n",
       "    </tr>\n",
       "    <tr>\n",
       "      <th>2</th>\n",
       "      <td>Number of Dependents</td>\n",
       "      <td>1.09</td>\n",
       "    </tr>\n",
       "    <tr>\n",
       "      <th>0</th>\n",
       "      <td>Number of Promotions</td>\n",
       "      <td>1.08</td>\n",
       "    </tr>\n",
       "  </tbody>\n",
       "</table>\n",
       "</div>"
      ],
      "text/plain": [
       "                               Features   VIF\n",
       "8               Company Reputation_Good  2.10\n",
       "6                 Marital Status_Single  2.06\n",
       "9               Company Reputation_Poor  1.71\n",
       "1                              Overtime  1.64\n",
       "14                     Job Level_Senior  1.60\n",
       "13                        Job Level_Mid  1.55\n",
       "7               Performance Rating_High  1.52\n",
       "3                           Remote Work  1.40\n",
       "11  Education Level_Bachelorâ€™s Degree  1.40\n",
       "12    Education Level_Masterâ€™s Degree  1.33\n",
       "5                        Job Role_Media  1.31\n",
       "10          Employee Recognition_Medium  1.31\n",
       "4                      Job Role_Finance  1.25\n",
       "2                  Number of Dependents  1.09\n",
       "0                  Number of Promotions  1.08"
      ]
     },
     "execution_count": 1045,
     "metadata": {},
     "output_type": "execute_result"
    }
   ],
   "source": [
    "# Make a VIF DataFrame for all the variables present\n",
    "vif = pd.DataFrame()\n",
    "vif['Features'] = X_train[col].columns\n",
    "vif['VIF'] = [variance_inflation_factor(X_train[col].values, i) for i in range(X_train[col].shape[1])]\n",
    "vif['VIF'] = round(vif['VIF'], 2)\n",
    "vif = vif.sort_values(by = \"VIF\", ascending = False)\n",
    "vif"
   ]
  },
  {
   "cell_type": "code",
   "execution_count": null,
   "metadata": {},
   "outputs": [],
   "source": [
    "#everything seem to be great in vif as all the values are less than 5 , sinve vif is correct we will remove vsiable depending upon p valyes "
   ]
  },
  {
   "cell_type": "markdown",
   "metadata": {
    "id": "1iDznUNbbzFL"
   },
   "source": [
    "Proceed to the next step if p-values and VIFs are within acceptable ranges.  If you observe high p-values or VIFs, create new cells to drop the features and retrain the model."
   ]
  },
  {
   "cell_type": "markdown",
   "metadata": {
    "id": "uVrg9XDGkC1p"
   },
   "source": [
    "7.2.5 Make predictions on training set <font color = \"red\">[2 Marks]</font>"
   ]
  },
  {
   "cell_type": "code",
   "execution_count": 1047,
   "metadata": {
    "id": "bq545BKdbzFL"
   },
   "outputs": [
    {
     "data": {
      "text/plain": [
       "32761    0.815836\n",
       "24626    0.002571\n",
       "23110    0.093900\n",
       "12461    0.999995\n",
       "2120     0.443144\n",
       "57632    0.011428\n",
       "37028    0.995908\n",
       "38446    0.999576\n",
       "24822    0.986214\n",
       "19230    0.982045\n",
       "dtype: float64"
      ]
     },
     "execution_count": 1047,
     "metadata": {},
     "output_type": "execute_result"
    }
   ],
   "source": [
    "# Predict the probabilities on the training set\n",
    "y_train_pred = result.predict(X_train_sm)\n",
    "y_train_pred[:10]"
   ]
  },
  {
   "cell_type": "markdown",
   "metadata": {
    "id": "M7M8kndokRo3"
   },
   "source": [
    "7.2.6 Format the prediction output <font color=\"red\">[1 Mark]</font>"
   ]
  },
  {
   "cell_type": "code",
   "execution_count": 1051,
   "metadata": {
    "id": "tqSLANvybzFL"
   },
   "outputs": [
    {
     "data": {
      "text/plain": [
       "array([0.81583577, 0.00257112, 0.09389989, 0.9999948 , 0.44314353,\n",
       "       0.01142844, 0.99590781, 0.99957552, 0.98621407, 0.98204544])"
      ]
     },
     "execution_count": 1051,
     "metadata": {},
     "output_type": "execute_result"
    }
   ],
   "source": [
    "# Reshape it into an array\n",
    "y_train_pred=y_train_pred.values.reshape(-1)\n",
    "y_train_pred[:10]"
   ]
  },
  {
   "cell_type": "code",
   "execution_count": 1057,
   "metadata": {},
   "outputs": [
    {
     "data": {
      "text/plain": [
       "Index([32761, 24626, 23110, 12461,  2120, 57632, 37028, 38446, 24822, 19230,\n",
       "       60750, 56189, 44395, 58891,  7725, 11815, 32737, 49063, 11714, 22203,\n",
       "        8271, 23179, 66319, 35926, 17528,  3911,  5678, 22557, 56588, 62225,\n",
       "       66841, 21658, 23799, 72475, 60901, 43576, 39310,  2508, 10291,  6415,\n",
       "       28674, 74378, 40631,  7855, 27440, 15402, 26882, 62301, 27098, 58384,\n",
       "       49769,  7757, 17175, 23410, 27006, 24145, 29528,  9648, 41558, 64649,\n",
       "       73115,  1215,  5462, 53769, 57283,  3972,  5381, 66505, 46116, 35435],\n",
       "      dtype='int64')"
      ]
     },
     "execution_count": 1057,
     "metadata": {},
     "output_type": "execute_result"
    }
   ],
   "source": [
    "y_train.index"
   ]
  },
  {
   "cell_type": "markdown",
   "metadata": {
    "id": "B__pQ9mBbzFM"
   },
   "source": [
    "7.2.7 Create a DataFrame with the actual stayed flag and the predicted probabilities <font color=\"red\">[1 Mark]</font>"
   ]
  },
  {
   "cell_type": "code",
   "execution_count": 1061,
   "metadata": {
    "id": "-YcNu7FEbzFM"
   },
   "outputs": [
    {
     "data": {
      "text/html": [
       "<div>\n",
       "<style scoped>\n",
       "    .dataframe tbody tr th:only-of-type {\n",
       "        vertical-align: middle;\n",
       "    }\n",
       "\n",
       "    .dataframe tbody tr th {\n",
       "        vertical-align: top;\n",
       "    }\n",
       "\n",
       "    .dataframe thead th {\n",
       "        text-align: right;\n",
       "    }\n",
       "</style>\n",
       "<table border=\"1\" class=\"dataframe\">\n",
       "  <thead>\n",
       "    <tr style=\"text-align: right;\">\n",
       "      <th></th>\n",
       "      <th>Left</th>\n",
       "      <th>left_Prob</th>\n",
       "      <th>EmplyID</th>\n",
       "    </tr>\n",
       "  </thead>\n",
       "  <tbody>\n",
       "    <tr>\n",
       "      <th>0</th>\n",
       "      <td>0</td>\n",
       "      <td>0.815836</td>\n",
       "      <td>32761</td>\n",
       "    </tr>\n",
       "    <tr>\n",
       "      <th>1</th>\n",
       "      <td>0</td>\n",
       "      <td>0.002571</td>\n",
       "      <td>24626</td>\n",
       "    </tr>\n",
       "    <tr>\n",
       "      <th>2</th>\n",
       "      <td>0</td>\n",
       "      <td>0.093900</td>\n",
       "      <td>23110</td>\n",
       "    </tr>\n",
       "    <tr>\n",
       "      <th>3</th>\n",
       "      <td>1</td>\n",
       "      <td>0.999995</td>\n",
       "      <td>12461</td>\n",
       "    </tr>\n",
       "    <tr>\n",
       "      <th>4</th>\n",
       "      <td>0</td>\n",
       "      <td>0.443144</td>\n",
       "      <td>2120</td>\n",
       "    </tr>\n",
       "  </tbody>\n",
       "</table>\n",
       "</div>"
      ],
      "text/plain": [
       "   Left  left_Prob  EmplyID\n",
       "0     0   0.815836    32761\n",
       "1     0   0.002571    24626\n",
       "2     0   0.093900    23110\n",
       "3     1   0.999995    12461\n",
       "4     0   0.443144     2120"
      ]
     },
     "execution_count": 1061,
     "metadata": {},
     "output_type": "execute_result"
    }
   ],
   "source": [
    "# Create a new DataFrame containing the actual stayed flag and the probabilities predicted by the model\n",
    "y_train_pred_final = pd.DataFrame({'Left':y_train.values, 'left_Prob':y_train_pred})\n",
    "y_train_pred_final['EmplyID'] = y_train.index\n",
    "y_train_pred_final.head()"
   ]
  },
  {
   "cell_type": "markdown",
   "metadata": {
    "id": "ShtZ7a30bzFM"
   },
   "source": [
    "7.2.8 Create a new column 'Predicted' with 1 if predicted probabilities are greater than 0.5 else 0 <font color = \"red\">[1 Mark]</font>"
   ]
  },
  {
   "cell_type": "code",
   "execution_count": 1065,
   "metadata": {
    "id": "_V3Pq0k4bzFM"
   },
   "outputs": [
    {
     "data": {
      "text/html": [
       "<div>\n",
       "<style scoped>\n",
       "    .dataframe tbody tr th:only-of-type {\n",
       "        vertical-align: middle;\n",
       "    }\n",
       "\n",
       "    .dataframe tbody tr th {\n",
       "        vertical-align: top;\n",
       "    }\n",
       "\n",
       "    .dataframe thead th {\n",
       "        text-align: right;\n",
       "    }\n",
       "</style>\n",
       "<table border=\"1\" class=\"dataframe\">\n",
       "  <thead>\n",
       "    <tr style=\"text-align: right;\">\n",
       "      <th></th>\n",
       "      <th>Left</th>\n",
       "      <th>left_Prob</th>\n",
       "      <th>EmplyID</th>\n",
       "      <th>Predicted</th>\n",
       "    </tr>\n",
       "  </thead>\n",
       "  <tbody>\n",
       "    <tr>\n",
       "      <th>0</th>\n",
       "      <td>0</td>\n",
       "      <td>0.815836</td>\n",
       "      <td>32761</td>\n",
       "      <td>1</td>\n",
       "    </tr>\n",
       "    <tr>\n",
       "      <th>1</th>\n",
       "      <td>0</td>\n",
       "      <td>0.002571</td>\n",
       "      <td>24626</td>\n",
       "      <td>0</td>\n",
       "    </tr>\n",
       "    <tr>\n",
       "      <th>2</th>\n",
       "      <td>0</td>\n",
       "      <td>0.093900</td>\n",
       "      <td>23110</td>\n",
       "      <td>0</td>\n",
       "    </tr>\n",
       "    <tr>\n",
       "      <th>3</th>\n",
       "      <td>1</td>\n",
       "      <td>0.999995</td>\n",
       "      <td>12461</td>\n",
       "      <td>1</td>\n",
       "    </tr>\n",
       "    <tr>\n",
       "      <th>4</th>\n",
       "      <td>0</td>\n",
       "      <td>0.443144</td>\n",
       "      <td>2120</td>\n",
       "      <td>0</td>\n",
       "    </tr>\n",
       "  </tbody>\n",
       "</table>\n",
       "</div>"
      ],
      "text/plain": [
       "   Left  left_Prob  EmplyID  Predicted\n",
       "0     0   0.815836    32761          1\n",
       "1     0   0.002571    24626          0\n",
       "2     0   0.093900    23110          0\n",
       "3     1   0.999995    12461          1\n",
       "4     0   0.443144     2120          0"
      ]
     },
     "execution_count": 1065,
     "metadata": {},
     "output_type": "execute_result"
    }
   ],
   "source": [
    "# Create a new column 'Predicted' with 1 if predicted probabilities are greater than 0.5 else 0\n",
    "y_train_pred_final[\"Predicted\"]=y_train_pred_final.left_Prob.map(lambda x: 1 if x > 0.5 else 0)\n",
    "y_train_pred_final.head()"
   ]
  },
  {
   "cell_type": "markdown",
   "metadata": {
    "id": "e6mNG69ybzFL"
   },
   "source": [
    "**Evaluation of performance of Model**\n",
    "\n",
    "Evaluate the performance of the model based on the predictions made on the training set.\n"
   ]
  },
  {
   "cell_type": "markdown",
   "metadata": {
    "id": "Kl_XslnfbzFM"
   },
   "source": [
    "7.2.9 Check the accuracy of the model based on the predictions made on the training set <font color = \"red\">[1 Mark]</font>"
   ]
  },
  {
   "cell_type": "code",
   "execution_count": 1071,
   "metadata": {
    "id": "jhA1kq_dbzFM"
   },
   "outputs": [
    {
     "data": {
      "text/plain": [
       "0.8857142857142857"
      ]
     },
     "execution_count": 1071,
     "metadata": {},
     "output_type": "execute_result"
    }
   ],
   "source": [
    "# Import metrics from sklearn for evaluation\n",
    "from sklearn import metrics\n",
    "from sklearn.metrics import accuracy_score, precision_score, recall_score, f1_score, confusion_matrix, classification_report, roc_auc_score, roc_curve\n",
    "\n",
    "# Check the overall accuracy\n",
    "metrics.accuracy_score(y_train_pred_final.Left, y_train_pred_final.Predicted)\n"
   ]
  },
  {
   "cell_type": "markdown",
   "metadata": {
    "id": "JIo_9vjSbzFM"
   },
   "source": [
    "7.2.10 Create a confusion matrix based on the predictions made on the training set <font color=\"red\">[1 mark]</font>"
   ]
  },
  {
   "cell_type": "code",
   "execution_count": 1075,
   "metadata": {
    "id": "L_1DsDkjbzFN"
   },
   "outputs": [
    {
     "data": {
      "text/plain": [
       "array([[35,  4],\n",
       "       [ 4, 27]], dtype=int64)"
      ]
     },
     "execution_count": 1075,
     "metadata": {},
     "output_type": "execute_result"
    }
   ],
   "source": [
    "# Create confusion matrix\n",
    "metrics.confusion_matrix(y_train_pred_final.Left, y_train_pred_final.Predicted)\n"
   ]
  },
  {
   "cell_type": "markdown",
   "metadata": {
    "id": "LhUC-9xrpv1L"
   },
   "source": [
    "7.2.11 Create variables for true positive, true negative, false positive and false negative <font color=\"red\">[1 Mark]</font>"
   ]
  },
  {
   "cell_type": "code",
   "execution_count": 1084,
   "metadata": {
    "id": "lK9ZbfjIbzFN"
   },
   "outputs": [],
   "source": [
    "# Create variables for true positive, true negative, false positive and false negative\n",
    "TP=35\n",
    "TN=27\n",
    "FP=4\n",
    "FN=4"
   ]
  },
  {
   "cell_type": "markdown",
   "metadata": {
    "id": "teRSbuOSbzFN"
   },
   "source": [
    "7.2.12 Calculate sensitivity and specificity of model  <font color=\"red\">[2 Marks]</font>"
   ]
  },
  {
   "cell_type": "code",
   "execution_count": 1086,
   "metadata": {
    "id": "-G-5XVNJbzFN"
   },
   "outputs": [
    {
     "data": {
      "text/plain": [
       "0.8974358974358975"
      ]
     },
     "execution_count": 1086,
     "metadata": {},
     "output_type": "execute_result"
    }
   ],
   "source": [
    "# Calculate sensitivity\n",
    "TP/float(TP+FN)"
   ]
  },
  {
   "cell_type": "code",
   "execution_count": 1088,
   "metadata": {
    "id": "A24XTKXnEFYH"
   },
   "outputs": [
    {
     "data": {
      "text/plain": [
       "0.8709677419354839"
      ]
     },
     "execution_count": 1088,
     "metadata": {},
     "output_type": "execute_result"
    }
   ],
   "source": [
    "# Calculate specificity\n",
    "TN/float(TN+FP)"
   ]
  },
  {
   "cell_type": "markdown",
   "metadata": {
    "id": "lDuRAKYgbzFO"
   },
   "source": [
    "7.2.13 Calculate precision and recall of model <font color=\"red\">[2 Marks]</font>"
   ]
  },
  {
   "cell_type": "code",
   "execution_count": 1077,
   "metadata": {
    "id": "SwzXNQqYbzFO"
   },
   "outputs": [
    {
     "data": {
      "text/plain": [
       "0.8709677419354839"
      ]
     },
     "execution_count": 1077,
     "metadata": {},
     "output_type": "execute_result"
    }
   ],
   "source": [
    "# Calculate precision\n",
    "metrics.precision_score(y_train_pred_final.Left, y_train_pred_final.Predicted)\n"
   ]
  },
  {
   "cell_type": "code",
   "execution_count": 1081,
   "metadata": {
    "id": "kCNnfrQIbzFO"
   },
   "outputs": [
    {
     "data": {
      "text/plain": [
       "0.8709677419354839"
      ]
     },
     "execution_count": 1081,
     "metadata": {},
     "output_type": "execute_result"
    }
   ],
   "source": [
    "# Calculate recall\n",
    "metrics.recall_score(y_train_pred_final.Left, y_train_pred_final.Predicted)\n"
   ]
  },
  {
   "cell_type": "code",
   "execution_count": null,
   "metadata": {},
   "outputs": [],
   "source": [
    "# after droppoing company reputation we are once again ecvaluating teh model\n"
   ]
  },
  {
   "cell_type": "code",
   "execution_count": 1112,
   "metadata": {},
   "outputs": [],
   "source": [
    "import statsmodels.api as sm\n",
    "X_train_sm=sm.add_constant(X_train[col])"
   ]
  },
  {
   "cell_type": "code",
   "execution_count": 1114,
   "metadata": {},
   "outputs": [
    {
     "name": "stdout",
     "output_type": "stream",
     "text": [
      "Optimization terminated successfully.\n",
      "         Current function value: 0.195683\n",
      "         Iterations 11\n"
     ]
    }
   ],
   "source": [
    "logit_model = sm.Logit(y_train, X_train_sm)\n",
    "result = logit_model.fit()"
   ]
  },
  {
   "cell_type": "code",
   "execution_count": 1116,
   "metadata": {},
   "outputs": [
    {
     "data": {
      "text/html": [
       "<table class=\"simpletable\">\n",
       "<caption>Logit Regression Results</caption>\n",
       "<tr>\n",
       "  <th>Dep. Variable:</th>       <td>Attrition</td>    <th>  No. Observations:  </th>  <td>    70</td>  \n",
       "</tr>\n",
       "<tr>\n",
       "  <th>Model:</th>                 <td>Logit</td>      <th>  Df Residuals:      </th>  <td>    55</td>  \n",
       "</tr>\n",
       "<tr>\n",
       "  <th>Method:</th>                 <td>MLE</td>       <th>  Df Model:          </th>  <td>    14</td>  \n",
       "</tr>\n",
       "<tr>\n",
       "  <th>Date:</th>            <td>Sun, 20 Apr 2025</td> <th>  Pseudo R-squ.:     </th>  <td>0.7150</td>  \n",
       "</tr>\n",
       "<tr>\n",
       "  <th>Time:</th>                <td>01:15:07</td>     <th>  Log-Likelihood:    </th> <td> -13.698</td> \n",
       "</tr>\n",
       "<tr>\n",
       "  <th>converged:</th>             <td>True</td>       <th>  LL-Null:           </th> <td> -48.062</td> \n",
       "</tr>\n",
       "<tr>\n",
       "  <th>Covariance Type:</th>     <td>nonrobust</td>    <th>  LLR p-value:       </th> <td>3.277e-09</td>\n",
       "</tr>\n",
       "</table>\n",
       "<table class=\"simpletable\">\n",
       "<tr>\n",
       "                   <td></td>                      <th>coef</th>     <th>std err</th>      <th>z</th>      <th>P>|z|</th>  <th>[0.025</th>    <th>0.975]</th>  \n",
       "</tr>\n",
       "<tr>\n",
       "  <th>const</th>                               <td>    3.5669</td> <td>    2.026</td> <td>    1.761</td> <td> 0.078</td> <td>   -0.404</td> <td>    7.538</td>\n",
       "</tr>\n",
       "<tr>\n",
       "  <th>Number of Promotions</th>                <td>   -2.7056</td> <td>    1.596</td> <td>   -1.695</td> <td> 0.090</td> <td>   -5.834</td> <td>    0.423</td>\n",
       "</tr>\n",
       "<tr>\n",
       "  <th>Overtime</th>                            <td>    4.2955</td> <td>    2.405</td> <td>    1.786</td> <td> 0.074</td> <td>   -0.418</td> <td>    9.008</td>\n",
       "</tr>\n",
       "<tr>\n",
       "  <th>Number of Dependents</th>                <td>   -4.0912</td> <td>    2.150</td> <td>   -1.903</td> <td> 0.057</td> <td>   -8.305</td> <td>    0.123</td>\n",
       "</tr>\n",
       "<tr>\n",
       "  <th>Remote Work</th>                         <td>   -4.3157</td> <td>    2.118</td> <td>   -2.038</td> <td> 0.042</td> <td>   -8.466</td> <td>   -0.165</td>\n",
       "</tr>\n",
       "<tr>\n",
       "  <th>Job Role_Finance</th>                    <td>   -8.3142</td> <td>    3.654</td> <td>   -2.276</td> <td> 0.023</td> <td>  -15.475</td> <td>   -1.153</td>\n",
       "</tr>\n",
       "<tr>\n",
       "  <th>Job Role_Media</th>                      <td>   -7.4469</td> <td>    3.915</td> <td>   -1.902</td> <td> 0.057</td> <td>  -15.120</td> <td>    0.226</td>\n",
       "</tr>\n",
       "<tr>\n",
       "  <th>Marital Status_Single</th>               <td>    3.9474</td> <td>    2.307</td> <td>    1.711</td> <td> 0.087</td> <td>   -0.575</td> <td>    8.469</td>\n",
       "</tr>\n",
       "<tr>\n",
       "  <th>Performance Rating_High</th>             <td>    3.6314</td> <td>    2.065</td> <td>    1.758</td> <td> 0.079</td> <td>   -0.417</td> <td>    7.679</td>\n",
       "</tr>\n",
       "<tr>\n",
       "  <th>Company Reputation_Good</th>             <td>   -5.8047</td> <td>    2.698</td> <td>   -2.151</td> <td> 0.031</td> <td>  -11.094</td> <td>   -0.516</td>\n",
       "</tr>\n",
       "<tr>\n",
       "  <th>Employee Recognition_Medium</th>         <td>    4.8461</td> <td>    2.053</td> <td>    2.361</td> <td> 0.018</td> <td>    0.823</td> <td>    8.869</td>\n",
       "</tr>\n",
       "<tr>\n",
       "  <th>Education Level_Bachelorâ€™s Degree</th> <td>    3.8720</td> <td>    2.427</td> <td>    1.595</td> <td> 0.111</td> <td>   -0.886</td> <td>    8.630</td>\n",
       "</tr>\n",
       "<tr>\n",
       "  <th>Education Level_Masterâ€™s Degree</th>   <td>   -7.7390</td> <td>    3.274</td> <td>   -2.364</td> <td> 0.018</td> <td>  -14.155</td> <td>   -1.323</td>\n",
       "</tr>\n",
       "<tr>\n",
       "  <th>Job Level_Mid</th>                       <td>   -8.7549</td> <td>    4.205</td> <td>   -2.082</td> <td> 0.037</td> <td>  -16.997</td> <td>   -0.513</td>\n",
       "</tr>\n",
       "<tr>\n",
       "  <th>Job Level_Senior</th>                    <td>   -9.4569</td> <td>    4.984</td> <td>   -1.897</td> <td> 0.058</td> <td>  -19.226</td> <td>    0.312</td>\n",
       "</tr>\n",
       "</table><br/><br/>Possibly complete quasi-separation: A fraction 0.29 of observations can be<br/>perfectly predicted. This might indicate that there is complete<br/>quasi-separation. In this case some parameters will not be identified."
      ],
      "text/latex": [
       "\\begin{center}\n",
       "\\begin{tabular}{lclc}\n",
       "\\toprule\n",
       "\\textbf{Dep. Variable:}                       &    Attrition     & \\textbf{  No. Observations:  } &       70    \\\\\n",
       "\\textbf{Model:}                               &      Logit       & \\textbf{  Df Residuals:      } &       55    \\\\\n",
       "\\textbf{Method:}                              &       MLE        & \\textbf{  Df Model:          } &       14    \\\\\n",
       "\\textbf{Date:}                                & Sun, 20 Apr 2025 & \\textbf{  Pseudo R-squ.:     } &   0.7150    \\\\\n",
       "\\textbf{Time:}                                &     01:15:07     & \\textbf{  Log-Likelihood:    } &   -13.698   \\\\\n",
       "\\textbf{converged:}                           &       True       & \\textbf{  LL-Null:           } &   -48.062   \\\\\n",
       "\\textbf{Covariance Type:}                     &    nonrobust     & \\textbf{  LLR p-value:       } & 3.277e-09   \\\\\n",
       "\\bottomrule\n",
       "\\end{tabular}\n",
       "\\begin{tabular}{lcccccc}\n",
       "                                              & \\textbf{coef} & \\textbf{std err} & \\textbf{z} & \\textbf{P$> |$z$|$} & \\textbf{[0.025} & \\textbf{0.975]}  \\\\\n",
       "\\midrule\n",
       "\\textbf{const}                                &       3.5669  &        2.026     &     1.761  &         0.078        &       -0.404    &        7.538     \\\\\n",
       "\\textbf{Number of Promotions}                 &      -2.7056  &        1.596     &    -1.695  &         0.090        &       -5.834    &        0.423     \\\\\n",
       "\\textbf{Overtime}                             &       4.2955  &        2.405     &     1.786  &         0.074        &       -0.418    &        9.008     \\\\\n",
       "\\textbf{Number of Dependents}                 &      -4.0912  &        2.150     &    -1.903  &         0.057        &       -8.305    &        0.123     \\\\\n",
       "\\textbf{Remote Work}                          &      -4.3157  &        2.118     &    -2.038  &         0.042        &       -8.466    &       -0.165     \\\\\n",
       "\\textbf{Job Role\\_Finance}                    &      -8.3142  &        3.654     &    -2.276  &         0.023        &      -15.475    &       -1.153     \\\\\n",
       "\\textbf{Job Role\\_Media}                      &      -7.4469  &        3.915     &    -1.902  &         0.057        &      -15.120    &        0.226     \\\\\n",
       "\\textbf{Marital Status\\_Single}               &       3.9474  &        2.307     &     1.711  &         0.087        &       -0.575    &        8.469     \\\\\n",
       "\\textbf{Performance Rating\\_High}             &       3.6314  &        2.065     &     1.758  &         0.079        &       -0.417    &        7.679     \\\\\n",
       "\\textbf{Company Reputation\\_Good}             &      -5.8047  &        2.698     &    -2.151  &         0.031        &      -11.094    &       -0.516     \\\\\n",
       "\\textbf{Employee Recognition\\_Medium}         &       4.8461  &        2.053     &     2.361  &         0.018        &        0.823    &        8.869     \\\\\n",
       "\\textbf{Education Level\\_Bachelorâ€™s Degree} &       3.8720  &        2.427     &     1.595  &         0.111        &       -0.886    &        8.630     \\\\\n",
       "\\textbf{Education Level\\_Masterâ€™s Degree}   &      -7.7390  &        3.274     &    -2.364  &         0.018        &      -14.155    &       -1.323     \\\\\n",
       "\\textbf{Job Level\\_Mid}                       &      -8.7549  &        4.205     &    -2.082  &         0.037        &      -16.997    &       -0.513     \\\\\n",
       "\\textbf{Job Level\\_Senior}                    &      -9.4569  &        4.984     &    -1.897  &         0.058        &      -19.226    &        0.312     \\\\\n",
       "\\bottomrule\n",
       "\\end{tabular}\n",
       "%\\caption{Logit Regression Results}\n",
       "\\end{center}\n",
       "\n",
       "Possibly complete quasi-separation: A fraction 0.29 of observations can be \\newline\n",
       " perfectly predicted. This might indicate that there is complete \\newline\n",
       " quasi-separation. In this case some parameters will not be identified."
      ],
      "text/plain": [
       "<class 'statsmodels.iolib.summary.Summary'>\n",
       "\"\"\"\n",
       "                           Logit Regression Results                           \n",
       "==============================================================================\n",
       "Dep. Variable:              Attrition   No. Observations:                   70\n",
       "Model:                          Logit   Df Residuals:                       55\n",
       "Method:                           MLE   Df Model:                           14\n",
       "Date:                Sun, 20 Apr 2025   Pseudo R-squ.:                  0.7150\n",
       "Time:                        01:15:07   Log-Likelihood:                -13.698\n",
       "converged:                       True   LL-Null:                       -48.062\n",
       "Covariance Type:            nonrobust   LLR p-value:                 3.277e-09\n",
       "=======================================================================================================\n",
       "                                          coef    std err          z      P>|z|      [0.025      0.975]\n",
       "-------------------------------------------------------------------------------------------------------\n",
       "const                                   3.5669      2.026      1.761      0.078      -0.404       7.538\n",
       "Number of Promotions                   -2.7056      1.596     -1.695      0.090      -5.834       0.423\n",
       "Overtime                                4.2955      2.405      1.786      0.074      -0.418       9.008\n",
       "Number of Dependents                   -4.0912      2.150     -1.903      0.057      -8.305       0.123\n",
       "Remote Work                            -4.3157      2.118     -2.038      0.042      -8.466      -0.165\n",
       "Job Role_Finance                       -8.3142      3.654     -2.276      0.023     -15.475      -1.153\n",
       "Job Role_Media                         -7.4469      3.915     -1.902      0.057     -15.120       0.226\n",
       "Marital Status_Single                   3.9474      2.307      1.711      0.087      -0.575       8.469\n",
       "Performance Rating_High                 3.6314      2.065      1.758      0.079      -0.417       7.679\n",
       "Company Reputation_Good                -5.8047      2.698     -2.151      0.031     -11.094      -0.516\n",
       "Employee Recognition_Medium             4.8461      2.053      2.361      0.018       0.823       8.869\n",
       "Education Level_Bachelorâ€™s Degree     3.8720      2.427      1.595      0.111      -0.886       8.630\n",
       "Education Level_Masterâ€™s Degree      -7.7390      3.274     -2.364      0.018     -14.155      -1.323\n",
       "Job Level_Mid                          -8.7549      4.205     -2.082      0.037     -16.997      -0.513\n",
       "Job Level_Senior                       -9.4569      4.984     -1.897      0.058     -19.226       0.312\n",
       "=======================================================================================================\n",
       "\n",
       "Possibly complete quasi-separation: A fraction 0.29 of observations can be\n",
       "perfectly predicted. This might indicate that there is complete\n",
       "quasi-separation. In this case some parameters will not be identified.\n",
       "\"\"\""
      ]
     },
     "execution_count": 1116,
     "metadata": {},
     "output_type": "execute_result"
    }
   ],
   "source": [
    "result.summary()"
   ]
  },
  {
   "cell_type": "code",
   "execution_count": 1118,
   "metadata": {},
   "outputs": [
    {
     "data": {
      "text/html": [
       "<div>\n",
       "<style scoped>\n",
       "    .dataframe tbody tr th:only-of-type {\n",
       "        vertical-align: middle;\n",
       "    }\n",
       "\n",
       "    .dataframe tbody tr th {\n",
       "        vertical-align: top;\n",
       "    }\n",
       "\n",
       "    .dataframe thead th {\n",
       "        text-align: right;\n",
       "    }\n",
       "</style>\n",
       "<table border=\"1\" class=\"dataframe\">\n",
       "  <thead>\n",
       "    <tr style=\"text-align: right;\">\n",
       "      <th></th>\n",
       "      <th>Features</th>\n",
       "      <th>VIF</th>\n",
       "    </tr>\n",
       "  </thead>\n",
       "  <tbody>\n",
       "    <tr>\n",
       "      <th>6</th>\n",
       "      <td>Marital Status_Single</td>\n",
       "      <td>2.06</td>\n",
       "    </tr>\n",
       "    <tr>\n",
       "      <th>8</th>\n",
       "      <td>Company Reputation_Good</td>\n",
       "      <td>1.77</td>\n",
       "    </tr>\n",
       "    <tr>\n",
       "      <th>1</th>\n",
       "      <td>Overtime</td>\n",
       "      <td>1.61</td>\n",
       "    </tr>\n",
       "    <tr>\n",
       "      <th>13</th>\n",
       "      <td>Job Level_Senior</td>\n",
       "      <td>1.59</td>\n",
       "    </tr>\n",
       "    <tr>\n",
       "      <th>12</th>\n",
       "      <td>Job Level_Mid</td>\n",
       "      <td>1.46</td>\n",
       "    </tr>\n",
       "    <tr>\n",
       "      <th>10</th>\n",
       "      <td>Education Level_Bachelorâ€™s Degree</td>\n",
       "      <td>1.36</td>\n",
       "    </tr>\n",
       "    <tr>\n",
       "      <th>7</th>\n",
       "      <td>Performance Rating_High</td>\n",
       "      <td>1.33</td>\n",
       "    </tr>\n",
       "    <tr>\n",
       "      <th>3</th>\n",
       "      <td>Remote Work</td>\n",
       "      <td>1.31</td>\n",
       "    </tr>\n",
       "    <tr>\n",
       "      <th>5</th>\n",
       "      <td>Job Role_Media</td>\n",
       "      <td>1.31</td>\n",
       "    </tr>\n",
       "    <tr>\n",
       "      <th>9</th>\n",
       "      <td>Employee Recognition_Medium</td>\n",
       "      <td>1.31</td>\n",
       "    </tr>\n",
       "    <tr>\n",
       "      <th>11</th>\n",
       "      <td>Education Level_Masterâ€™s Degree</td>\n",
       "      <td>1.30</td>\n",
       "    </tr>\n",
       "    <tr>\n",
       "      <th>4</th>\n",
       "      <td>Job Role_Finance</td>\n",
       "      <td>1.25</td>\n",
       "    </tr>\n",
       "    <tr>\n",
       "      <th>2</th>\n",
       "      <td>Number of Dependents</td>\n",
       "      <td>1.09</td>\n",
       "    </tr>\n",
       "    <tr>\n",
       "      <th>0</th>\n",
       "      <td>Number of Promotions</td>\n",
       "      <td>1.08</td>\n",
       "    </tr>\n",
       "  </tbody>\n",
       "</table>\n",
       "</div>"
      ],
      "text/plain": [
       "                               Features   VIF\n",
       "6                 Marital Status_Single  2.06\n",
       "8               Company Reputation_Good  1.77\n",
       "1                              Overtime  1.61\n",
       "13                     Job Level_Senior  1.59\n",
       "12                        Job Level_Mid  1.46\n",
       "10  Education Level_Bachelorâ€™s Degree  1.36\n",
       "7               Performance Rating_High  1.33\n",
       "3                           Remote Work  1.31\n",
       "5                        Job Role_Media  1.31\n",
       "9           Employee Recognition_Medium  1.31\n",
       "11    Education Level_Masterâ€™s Degree  1.30\n",
       "4                      Job Role_Finance  1.25\n",
       "2                  Number of Dependents  1.09\n",
       "0                  Number of Promotions  1.08"
      ]
     },
     "execution_count": 1118,
     "metadata": {},
     "output_type": "execute_result"
    }
   ],
   "source": [
    "# importing vif \n",
    "vif = pd.DataFrame()\n",
    "vif['Features'] = X_train[col].columns\n",
    "vif['VIF'] = [variance_inflation_factor(X_train[col].values, i) for i in range(X_train[col].shape[1])]\n",
    "vif['VIF'] = round(vif['VIF'], 2)\n",
    "vif = vif.sort_values(by = \"VIF\", ascending = False)\n",
    "vif\n"
   ]
  },
  {
   "cell_type": "code",
   "execution_count": 1142,
   "metadata": {},
   "outputs": [
    {
     "data": {
      "text/plain": [
       "32761    0.761136\n",
       "24626    0.004714\n",
       "23110    0.101801\n",
       "12461    0.999996\n",
       "2120     0.508214\n",
       "57632    0.005342\n",
       "37028    0.993502\n",
       "38446    0.999758\n",
       "24822    0.983766\n",
       "19230    0.982932\n",
       "dtype: float64"
      ]
     },
     "execution_count": 1142,
     "metadata": {},
     "output_type": "execute_result"
    }
   ],
   "source": [
    "y_train_pred = result.predict(X_train_sm)\n",
    "y_train_pred[:10]"
   ]
  },
  {
   "cell_type": "code",
   "execution_count": 1144,
   "metadata": {},
   "outputs": [],
   "source": [
    "y_train_pred=y_train_pred.values.reshape(-1)\n"
   ]
  },
  {
   "cell_type": "code",
   "execution_count": 1146,
   "metadata": {},
   "outputs": [
    {
     "data": {
      "text/plain": [
       "array([0.76113633, 0.00471363, 0.10180084, 0.99999608, 0.5082138 ,\n",
       "       0.00534204, 0.99350189, 0.99975753, 0.98376596, 0.98293246])"
      ]
     },
     "execution_count": 1146,
     "metadata": {},
     "output_type": "execute_result"
    }
   ],
   "source": [
    "y_train_pred[:10]"
   ]
  },
  {
   "cell_type": "code",
   "execution_count": 1148,
   "metadata": {},
   "outputs": [
    {
     "data": {
      "text/html": [
       "<div>\n",
       "<style scoped>\n",
       "    .dataframe tbody tr th:only-of-type {\n",
       "        vertical-align: middle;\n",
       "    }\n",
       "\n",
       "    .dataframe tbody tr th {\n",
       "        vertical-align: top;\n",
       "    }\n",
       "\n",
       "    .dataframe thead th {\n",
       "        text-align: right;\n",
       "    }\n",
       "</style>\n",
       "<table border=\"1\" class=\"dataframe\">\n",
       "  <thead>\n",
       "    <tr style=\"text-align: right;\">\n",
       "      <th></th>\n",
       "      <th>Left</th>\n",
       "      <th>left_Prob</th>\n",
       "      <th>EmplyID</th>\n",
       "    </tr>\n",
       "  </thead>\n",
       "  <tbody>\n",
       "    <tr>\n",
       "      <th>0</th>\n",
       "      <td>0</td>\n",
       "      <td>0.761136</td>\n",
       "      <td>32761</td>\n",
       "    </tr>\n",
       "    <tr>\n",
       "      <th>1</th>\n",
       "      <td>0</td>\n",
       "      <td>0.004714</td>\n",
       "      <td>24626</td>\n",
       "    </tr>\n",
       "    <tr>\n",
       "      <th>2</th>\n",
       "      <td>0</td>\n",
       "      <td>0.101801</td>\n",
       "      <td>23110</td>\n",
       "    </tr>\n",
       "    <tr>\n",
       "      <th>3</th>\n",
       "      <td>1</td>\n",
       "      <td>0.999996</td>\n",
       "      <td>12461</td>\n",
       "    </tr>\n",
       "    <tr>\n",
       "      <th>4</th>\n",
       "      <td>0</td>\n",
       "      <td>0.508214</td>\n",
       "      <td>2120</td>\n",
       "    </tr>\n",
       "  </tbody>\n",
       "</table>\n",
       "</div>"
      ],
      "text/plain": [
       "   Left  left_Prob  EmplyID\n",
       "0     0   0.761136    32761\n",
       "1     0   0.004714    24626\n",
       "2     0   0.101801    23110\n",
       "3     1   0.999996    12461\n",
       "4     0   0.508214     2120"
      ]
     },
     "execution_count": 1148,
     "metadata": {},
     "output_type": "execute_result"
    }
   ],
   "source": [
    "y_train_pred_final = pd.DataFrame({'Left':y_train.values, 'left_Prob':y_train_pred})\n",
    "y_train_pred_final['EmplyID'] = y_train.index\n",
    "y_train_pred_final.head()"
   ]
  },
  {
   "cell_type": "code",
   "execution_count": 1150,
   "metadata": {},
   "outputs": [],
   "source": [
    "y_train_pred_final['predicted'] = y_train_pred_final.left_Prob.map(lambda x: 1 if x > 0.5 else 0)\n"
   ]
  },
  {
   "cell_type": "code",
   "execution_count": 1152,
   "metadata": {
    "scrolled": true
   },
   "outputs": [
    {
     "data": {
      "text/html": [
       "<div>\n",
       "<style scoped>\n",
       "    .dataframe tbody tr th:only-of-type {\n",
       "        vertical-align: middle;\n",
       "    }\n",
       "\n",
       "    .dataframe tbody tr th {\n",
       "        vertical-align: top;\n",
       "    }\n",
       "\n",
       "    .dataframe thead th {\n",
       "        text-align: right;\n",
       "    }\n",
       "</style>\n",
       "<table border=\"1\" class=\"dataframe\">\n",
       "  <thead>\n",
       "    <tr style=\"text-align: right;\">\n",
       "      <th></th>\n",
       "      <th>Left</th>\n",
       "      <th>left_Prob</th>\n",
       "      <th>EmplyID</th>\n",
       "      <th>predicted</th>\n",
       "    </tr>\n",
       "  </thead>\n",
       "  <tbody>\n",
       "    <tr>\n",
       "      <th>0</th>\n",
       "      <td>0</td>\n",
       "      <td>0.761136</td>\n",
       "      <td>32761</td>\n",
       "      <td>1</td>\n",
       "    </tr>\n",
       "    <tr>\n",
       "      <th>1</th>\n",
       "      <td>0</td>\n",
       "      <td>0.004714</td>\n",
       "      <td>24626</td>\n",
       "      <td>0</td>\n",
       "    </tr>\n",
       "    <tr>\n",
       "      <th>2</th>\n",
       "      <td>0</td>\n",
       "      <td>0.101801</td>\n",
       "      <td>23110</td>\n",
       "      <td>0</td>\n",
       "    </tr>\n",
       "    <tr>\n",
       "      <th>3</th>\n",
       "      <td>1</td>\n",
       "      <td>0.999996</td>\n",
       "      <td>12461</td>\n",
       "      <td>1</td>\n",
       "    </tr>\n",
       "    <tr>\n",
       "      <th>4</th>\n",
       "      <td>0</td>\n",
       "      <td>0.508214</td>\n",
       "      <td>2120</td>\n",
       "      <td>1</td>\n",
       "    </tr>\n",
       "  </tbody>\n",
       "</table>\n",
       "</div>"
      ],
      "text/plain": [
       "   Left  left_Prob  EmplyID  predicted\n",
       "0     0   0.761136    32761          1\n",
       "1     0   0.004714    24626          0\n",
       "2     0   0.101801    23110          0\n",
       "3     1   0.999996    12461          1\n",
       "4     0   0.508214     2120          1"
      ]
     },
     "execution_count": 1152,
     "metadata": {},
     "output_type": "execute_result"
    }
   ],
   "source": [
    "y_train_pred_final.head()"
   ]
  },
  {
   "cell_type": "code",
   "execution_count": 1154,
   "metadata": {},
   "outputs": [
    {
     "data": {
      "text/plain": [
       "array([[34,  5],\n",
       "       [ 4, 27]], dtype=int64)"
      ]
     },
     "execution_count": 1154,
     "metadata": {},
     "output_type": "execute_result"
    }
   ],
   "source": [
    "metrics.confusion_matrix(y_train_pred_final.Left , y_train_pred_final.predicted)"
   ]
  },
  {
   "cell_type": "code",
   "execution_count": 1156,
   "metadata": {},
   "outputs": [
    {
     "data": {
      "text/plain": [
       "0.8714285714285714"
      ]
     },
     "execution_count": 1156,
     "metadata": {},
     "output_type": "execute_result"
    }
   ],
   "source": [
    "metrics.accuracy_score(y_train_pred_final.Left , y_train_pred_final.predicted)"
   ]
  },
  {
   "cell_type": "code",
   "execution_count": 1158,
   "metadata": {},
   "outputs": [
    {
     "data": {
      "text/plain": [
       "0.84375"
      ]
     },
     "execution_count": 1158,
     "metadata": {},
     "output_type": "execute_result"
    }
   ],
   "source": [
    "precision_score(y_train_pred_final.Left , y_train_pred_final.predicted)"
   ]
  },
  {
   "cell_type": "code",
   "execution_count": 1160,
   "metadata": {},
   "outputs": [
    {
     "data": {
      "text/plain": [
       "0.8709677419354839"
      ]
     },
     "execution_count": 1160,
     "metadata": {},
     "output_type": "execute_result"
    }
   ],
   "source": [
    "recall_score(y_train_pred_final.Left , y_train_pred_final.predicted)"
   ]
  },
  {
   "cell_type": "code",
   "execution_count": null,
   "metadata": {},
   "outputs": [],
   "source": [
    "# still p values are not all significnat now we will drop bachoelrs degree with p at 0.111"
   ]
  },
  {
   "cell_type": "code",
   "execution_count": 1166,
   "metadata": {},
   "outputs": [],
   "source": [
    "col=col.drop(\"Education Level_Bachelorâ€™s Degree\")"
   ]
  },
  {
   "cell_type": "code",
   "execution_count": 1174,
   "metadata": {},
   "outputs": [
    {
     "data": {
      "text/plain": [
       "Index(['Number of Promotions', 'Overtime', 'Number of Dependents',\n",
       "       'Remote Work', 'Job Role_Finance', 'Job Role_Media',\n",
       "       'Marital Status_Single', 'Performance Rating_High',\n",
       "       'Company Reputation_Good', 'Employee Recognition_Medium',\n",
       "       'Education Level_Masterâ€™s Degree', 'Job Level_Mid',\n",
       "       'Job Level_Senior'],\n",
       "      dtype='object')"
      ]
     },
     "execution_count": 1174,
     "metadata": {},
     "output_type": "execute_result"
    }
   ],
   "source": [
    "col"
   ]
  },
  {
   "cell_type": "code",
   "execution_count": 1176,
   "metadata": {},
   "outputs": [],
   "source": [
    "import statsmodels.api as sm\n",
    "X_train_sm=sm.add_constant(X_train[col])"
   ]
  },
  {
   "cell_type": "code",
   "execution_count": 1178,
   "metadata": {},
   "outputs": [
    {
     "name": "stdout",
     "output_type": "stream",
     "text": [
      "Optimization terminated successfully.\n",
      "         Current function value: 0.227897\n",
      "         Iterations 9\n"
     ]
    }
   ],
   "source": [
    "logit_model = sm.Logit(y_train, X_train_sm)\n",
    "result = logit_model.fit()"
   ]
  },
  {
   "cell_type": "code",
   "execution_count": 1208,
   "metadata": {
    "scrolled": true
   },
   "outputs": [
    {
     "data": {
      "text/html": [
       "<table class=\"simpletable\">\n",
       "<caption>Logit Regression Results</caption>\n",
       "<tr>\n",
       "  <th>Dep. Variable:</th>       <td>Attrition</td>    <th>  No. Observations:  </th>  <td>    70</td>  \n",
       "</tr>\n",
       "<tr>\n",
       "  <th>Model:</th>                 <td>Logit</td>      <th>  Df Residuals:      </th>  <td>    56</td>  \n",
       "</tr>\n",
       "<tr>\n",
       "  <th>Method:</th>                 <td>MLE</td>       <th>  Df Model:          </th>  <td>    13</td>  \n",
       "</tr>\n",
       "<tr>\n",
       "  <th>Date:</th>            <td>Sun, 20 Apr 2025</td> <th>  Pseudo R-squ.:     </th>  <td>0.6681</td>  \n",
       "</tr>\n",
       "<tr>\n",
       "  <th>Time:</th>                <td>01:38:00</td>     <th>  Log-Likelihood:    </th> <td> -15.953</td> \n",
       "</tr>\n",
       "<tr>\n",
       "  <th>converged:</th>             <td>True</td>       <th>  LL-Null:           </th> <td> -48.062</td> \n",
       "</tr>\n",
       "<tr>\n",
       "  <th>Covariance Type:</th>     <td>nonrobust</td>    <th>  LLR p-value:       </th> <td>9.138e-09</td>\n",
       "</tr>\n",
       "</table>\n",
       "<table class=\"simpletable\">\n",
       "<tr>\n",
       "                  <td></td>                     <th>coef</th>     <th>std err</th>      <th>z</th>      <th>P>|z|</th>  <th>[0.025</th>    <th>0.975]</th>  \n",
       "</tr>\n",
       "<tr>\n",
       "  <th>const</th>                             <td>    3.9620</td> <td>    1.660</td> <td>    2.386</td> <td> 0.017</td> <td>    0.708</td> <td>    7.216</td>\n",
       "</tr>\n",
       "<tr>\n",
       "  <th>Number of Promotions</th>              <td>   -1.4380</td> <td>    0.697</td> <td>   -2.062</td> <td> 0.039</td> <td>   -2.805</td> <td>   -0.071</td>\n",
       "</tr>\n",
       "<tr>\n",
       "  <th>Overtime</th>                          <td>    2.3157</td> <td>    1.139</td> <td>    2.033</td> <td> 0.042</td> <td>    0.084</td> <td>    4.548</td>\n",
       "</tr>\n",
       "<tr>\n",
       "  <th>Number of Dependents</th>              <td>   -2.2543</td> <td>    0.785</td> <td>   -2.871</td> <td> 0.004</td> <td>   -3.793</td> <td>   -0.716</td>\n",
       "</tr>\n",
       "<tr>\n",
       "  <th>Remote Work</th>                       <td>   -3.3145</td> <td>    1.507</td> <td>   -2.199</td> <td> 0.028</td> <td>   -6.268</td> <td>   -0.361</td>\n",
       "</tr>\n",
       "<tr>\n",
       "  <th>Job Role_Finance</th>                  <td>   -5.3988</td> <td>    1.974</td> <td>   -2.735</td> <td> 0.006</td> <td>   -9.268</td> <td>   -1.530</td>\n",
       "</tr>\n",
       "<tr>\n",
       "  <th>Job Role_Media</th>                    <td>   -5.5712</td> <td>    2.207</td> <td>   -2.524</td> <td> 0.012</td> <td>   -9.898</td> <td>   -1.245</td>\n",
       "</tr>\n",
       "<tr>\n",
       "  <th>Marital Status_Single</th>             <td>    2.7682</td> <td>    1.417</td> <td>    1.953</td> <td> 0.051</td> <td>   -0.010</td> <td>    5.546</td>\n",
       "</tr>\n",
       "<tr>\n",
       "  <th>Performance Rating_High</th>           <td>    1.7485</td> <td>    1.059</td> <td>    1.651</td> <td> 0.099</td> <td>   -0.328</td> <td>    3.824</td>\n",
       "</tr>\n",
       "<tr>\n",
       "  <th>Company Reputation_Good</th>           <td>   -3.7049</td> <td>    1.307</td> <td>   -2.834</td> <td> 0.005</td> <td>   -6.267</td> <td>   -1.143</td>\n",
       "</tr>\n",
       "<tr>\n",
       "  <th>Employee Recognition_Medium</th>       <td>    2.9863</td> <td>    1.348</td> <td>    2.216</td> <td> 0.027</td> <td>    0.345</td> <td>    5.628</td>\n",
       "</tr>\n",
       "<tr>\n",
       "  <th>Education Level_Masterâ€™s Degree</th> <td>   -5.9485</td> <td>    2.110</td> <td>   -2.819</td> <td> 0.005</td> <td>  -10.085</td> <td>   -1.812</td>\n",
       "</tr>\n",
       "<tr>\n",
       "  <th>Job Level_Mid</th>                     <td>   -5.1756</td> <td>    1.768</td> <td>   -2.927</td> <td> 0.003</td> <td>   -8.642</td> <td>   -1.710</td>\n",
       "</tr>\n",
       "<tr>\n",
       "  <th>Job Level_Senior</th>                  <td>   -6.5968</td> <td>    2.047</td> <td>   -3.223</td> <td> 0.001</td> <td>  -10.608</td> <td>   -2.586</td>\n",
       "</tr>\n",
       "</table><br/><br/>Possibly complete quasi-separation: A fraction 0.14 of observations can be<br/>perfectly predicted. This might indicate that there is complete<br/>quasi-separation. In this case some parameters will not be identified."
      ],
      "text/latex": [
       "\\begin{center}\n",
       "\\begin{tabular}{lclc}\n",
       "\\toprule\n",
       "\\textbf{Dep. Variable:}                     &    Attrition     & \\textbf{  No. Observations:  } &       70    \\\\\n",
       "\\textbf{Model:}                             &      Logit       & \\textbf{  Df Residuals:      } &       56    \\\\\n",
       "\\textbf{Method:}                            &       MLE        & \\textbf{  Df Model:          } &       13    \\\\\n",
       "\\textbf{Date:}                              & Sun, 20 Apr 2025 & \\textbf{  Pseudo R-squ.:     } &   0.6681    \\\\\n",
       "\\textbf{Time:}                              &     01:38:00     & \\textbf{  Log-Likelihood:    } &   -15.953   \\\\\n",
       "\\textbf{converged:}                         &       True       & \\textbf{  LL-Null:           } &   -48.062   \\\\\n",
       "\\textbf{Covariance Type:}                   &    nonrobust     & \\textbf{  LLR p-value:       } & 9.138e-09   \\\\\n",
       "\\bottomrule\n",
       "\\end{tabular}\n",
       "\\begin{tabular}{lcccccc}\n",
       "                                            & \\textbf{coef} & \\textbf{std err} & \\textbf{z} & \\textbf{P$> |$z$|$} & \\textbf{[0.025} & \\textbf{0.975]}  \\\\\n",
       "\\midrule\n",
       "\\textbf{const}                              &       3.9620  &        1.660     &     2.386  &         0.017        &        0.708    &        7.216     \\\\\n",
       "\\textbf{Number of Promotions}               &      -1.4380  &        0.697     &    -2.062  &         0.039        &       -2.805    &       -0.071     \\\\\n",
       "\\textbf{Overtime}                           &       2.3157  &        1.139     &     2.033  &         0.042        &        0.084    &        4.548     \\\\\n",
       "\\textbf{Number of Dependents}               &      -2.2543  &        0.785     &    -2.871  &         0.004        &       -3.793    &       -0.716     \\\\\n",
       "\\textbf{Remote Work}                        &      -3.3145  &        1.507     &    -2.199  &         0.028        &       -6.268    &       -0.361     \\\\\n",
       "\\textbf{Job Role\\_Finance}                  &      -5.3988  &        1.974     &    -2.735  &         0.006        &       -9.268    &       -1.530     \\\\\n",
       "\\textbf{Job Role\\_Media}                    &      -5.5712  &        2.207     &    -2.524  &         0.012        &       -9.898    &       -1.245     \\\\\n",
       "\\textbf{Marital Status\\_Single}             &       2.7682  &        1.417     &     1.953  &         0.051        &       -0.010    &        5.546     \\\\\n",
       "\\textbf{Performance Rating\\_High}           &       1.7485  &        1.059     &     1.651  &         0.099        &       -0.328    &        3.824     \\\\\n",
       "\\textbf{Company Reputation\\_Good}           &      -3.7049  &        1.307     &    -2.834  &         0.005        &       -6.267    &       -1.143     \\\\\n",
       "\\textbf{Employee Recognition\\_Medium}       &       2.9863  &        1.348     &     2.216  &         0.027        &        0.345    &        5.628     \\\\\n",
       "\\textbf{Education Level\\_Masterâ€™s Degree} &      -5.9485  &        2.110     &    -2.819  &         0.005        &      -10.085    &       -1.812     \\\\\n",
       "\\textbf{Job Level\\_Mid}                     &      -5.1756  &        1.768     &    -2.927  &         0.003        &       -8.642    &       -1.710     \\\\\n",
       "\\textbf{Job Level\\_Senior}                  &      -6.5968  &        2.047     &    -3.223  &         0.001        &      -10.608    &       -2.586     \\\\\n",
       "\\bottomrule\n",
       "\\end{tabular}\n",
       "%\\caption{Logit Regression Results}\n",
       "\\end{center}\n",
       "\n",
       "Possibly complete quasi-separation: A fraction 0.14 of observations can be \\newline\n",
       " perfectly predicted. This might indicate that there is complete \\newline\n",
       " quasi-separation. In this case some parameters will not be identified."
      ],
      "text/plain": [
       "<class 'statsmodels.iolib.summary.Summary'>\n",
       "\"\"\"\n",
       "                           Logit Regression Results                           \n",
       "==============================================================================\n",
       "Dep. Variable:              Attrition   No. Observations:                   70\n",
       "Model:                          Logit   Df Residuals:                       56\n",
       "Method:                           MLE   Df Model:                           13\n",
       "Date:                Sun, 20 Apr 2025   Pseudo R-squ.:                  0.6681\n",
       "Time:                        01:38:00   Log-Likelihood:                -15.953\n",
       "converged:                       True   LL-Null:                       -48.062\n",
       "Covariance Type:            nonrobust   LLR p-value:                 9.138e-09\n",
       "=====================================================================================================\n",
       "                                        coef    std err          z      P>|z|      [0.025      0.975]\n",
       "-----------------------------------------------------------------------------------------------------\n",
       "const                                 3.9620      1.660      2.386      0.017       0.708       7.216\n",
       "Number of Promotions                 -1.4380      0.697     -2.062      0.039      -2.805      -0.071\n",
       "Overtime                              2.3157      1.139      2.033      0.042       0.084       4.548\n",
       "Number of Dependents                 -2.2543      0.785     -2.871      0.004      -3.793      -0.716\n",
       "Remote Work                          -3.3145      1.507     -2.199      0.028      -6.268      -0.361\n",
       "Job Role_Finance                     -5.3988      1.974     -2.735      0.006      -9.268      -1.530\n",
       "Job Role_Media                       -5.5712      2.207     -2.524      0.012      -9.898      -1.245\n",
       "Marital Status_Single                 2.7682      1.417      1.953      0.051      -0.010       5.546\n",
       "Performance Rating_High               1.7485      1.059      1.651      0.099      -0.328       3.824\n",
       "Company Reputation_Good              -3.7049      1.307     -2.834      0.005      -6.267      -1.143\n",
       "Employee Recognition_Medium           2.9863      1.348      2.216      0.027       0.345       5.628\n",
       "Education Level_Masterâ€™s Degree    -5.9485      2.110     -2.819      0.005     -10.085      -1.812\n",
       "Job Level_Mid                        -5.1756      1.768     -2.927      0.003      -8.642      -1.710\n",
       "Job Level_Senior                     -6.5968      2.047     -3.223      0.001     -10.608      -2.586\n",
       "=====================================================================================================\n",
       "\n",
       "Possibly complete quasi-separation: A fraction 0.14 of observations can be\n",
       "perfectly predicted. This might indicate that there is complete\n",
       "quasi-separation. In this case some parameters will not be identified.\n",
       "\"\"\""
      ]
     },
     "execution_count": 1208,
     "metadata": {},
     "output_type": "execute_result"
    }
   ],
   "source": [
    "result.summary()"
   ]
  },
  {
   "cell_type": "code",
   "execution_count": null,
   "metadata": {},
   "outputs": [],
   "source": [
    "# now dropping performnace rating high with p value f 0.99\n"
   ]
  },
  {
   "cell_type": "code",
   "execution_count": 1216,
   "metadata": {},
   "outputs": [],
   "source": [
    "col=col.drop(\"Performance Rating_High\")"
   ]
  },
  {
   "cell_type": "code",
   "execution_count": 1218,
   "metadata": {},
   "outputs": [
    {
     "data": {
      "text/plain": [
       "Index(['Number of Promotions', 'Overtime', 'Number of Dependents',\n",
       "       'Remote Work', 'Job Role_Finance', 'Job Role_Media',\n",
       "       'Marital Status_Single', 'Company Reputation_Good',\n",
       "       'Employee Recognition_Medium', 'Education Level_Masterâ€™s Degree',\n",
       "       'Job Level_Mid', 'Job Level_Senior'],\n",
       "      dtype='object')"
      ]
     },
     "execution_count": 1218,
     "metadata": {},
     "output_type": "execute_result"
    }
   ],
   "source": [
    "col"
   ]
  },
  {
   "cell_type": "code",
   "execution_count": 1220,
   "metadata": {},
   "outputs": [],
   "source": [
    "import statsmodels.api as sm\n",
    "X_train_sm=sm.add_constant(X_train[col])"
   ]
  },
  {
   "cell_type": "code",
   "execution_count": 1222,
   "metadata": {},
   "outputs": [
    {
     "name": "stdout",
     "output_type": "stream",
     "text": [
      "Optimization terminated successfully.\n",
      "         Current function value: 0.249993\n",
      "         Iterations 9\n"
     ]
    }
   ],
   "source": [
    "logit_model = sm.Logit(y_train, X_train_sm)\n",
    "result = logit_model.fit()"
   ]
  },
  {
   "cell_type": "code",
   "execution_count": 1224,
   "metadata": {},
   "outputs": [
    {
     "data": {
      "text/html": [
       "<table class=\"simpletable\">\n",
       "<caption>Logit Regression Results</caption>\n",
       "<tr>\n",
       "  <th>Dep. Variable:</th>       <td>Attrition</td>    <th>  No. Observations:  </th>  <td>    70</td>  \n",
       "</tr>\n",
       "<tr>\n",
       "  <th>Model:</th>                 <td>Logit</td>      <th>  Df Residuals:      </th>  <td>    57</td>  \n",
       "</tr>\n",
       "<tr>\n",
       "  <th>Method:</th>                 <td>MLE</td>       <th>  Df Model:          </th>  <td>    12</td>  \n",
       "</tr>\n",
       "<tr>\n",
       "  <th>Date:</th>            <td>Sun, 20 Apr 2025</td> <th>  Pseudo R-squ.:     </th>  <td>0.6359</td>  \n",
       "</tr>\n",
       "<tr>\n",
       "  <th>Time:</th>                <td>01:41:16</td>     <th>  Log-Likelihood:    </th> <td> -17.499</td> \n",
       "</tr>\n",
       "<tr>\n",
       "  <th>converged:</th>             <td>True</td>       <th>  LL-Null:           </th> <td> -48.062</td> \n",
       "</tr>\n",
       "<tr>\n",
       "  <th>Covariance Type:</th>     <td>nonrobust</td>    <th>  LLR p-value:       </th> <td>1.406e-08</td>\n",
       "</tr>\n",
       "</table>\n",
       "<table class=\"simpletable\">\n",
       "<tr>\n",
       "                  <td></td>                     <th>coef</th>     <th>std err</th>      <th>z</th>      <th>P>|z|</th>  <th>[0.025</th>    <th>0.975]</th>  \n",
       "</tr>\n",
       "<tr>\n",
       "  <th>const</th>                             <td>    4.7209</td> <td>    1.742</td> <td>    2.710</td> <td> 0.007</td> <td>    1.307</td> <td>    8.135</td>\n",
       "</tr>\n",
       "<tr>\n",
       "  <th>Number of Promotions</th>              <td>   -1.4644</td> <td>    0.703</td> <td>   -2.084</td> <td> 0.037</td> <td>   -2.842</td> <td>   -0.087</td>\n",
       "</tr>\n",
       "<tr>\n",
       "  <th>Overtime</th>                          <td>    2.0407</td> <td>    1.062</td> <td>    1.921</td> <td> 0.055</td> <td>   -0.042</td> <td>    4.123</td>\n",
       "</tr>\n",
       "<tr>\n",
       "  <th>Number of Dependents</th>              <td>   -2.0501</td> <td>    0.701</td> <td>   -2.925</td> <td> 0.003</td> <td>   -3.424</td> <td>   -0.676</td>\n",
       "</tr>\n",
       "<tr>\n",
       "  <th>Remote Work</th>                       <td>   -3.5052</td> <td>    1.585</td> <td>   -2.211</td> <td> 0.027</td> <td>   -6.612</td> <td>   -0.399</td>\n",
       "</tr>\n",
       "<tr>\n",
       "  <th>Job Role_Finance</th>                  <td>   -5.5399</td> <td>    2.137</td> <td>   -2.592</td> <td> 0.010</td> <td>   -9.729</td> <td>   -1.351</td>\n",
       "</tr>\n",
       "<tr>\n",
       "  <th>Job Role_Media</th>                    <td>   -5.3495</td> <td>    2.114</td> <td>   -2.530</td> <td> 0.011</td> <td>   -9.493</td> <td>   -1.206</td>\n",
       "</tr>\n",
       "<tr>\n",
       "  <th>Marital Status_Single</th>             <td>    2.9993</td> <td>    1.357</td> <td>    2.211</td> <td> 0.027</td> <td>    0.340</td> <td>    5.658</td>\n",
       "</tr>\n",
       "<tr>\n",
       "  <th>Company Reputation_Good</th>           <td>   -3.5461</td> <td>    1.268</td> <td>   -2.798</td> <td> 0.005</td> <td>   -6.030</td> <td>   -1.062</td>\n",
       "</tr>\n",
       "<tr>\n",
       "  <th>Employee Recognition_Medium</th>       <td>    2.9396</td> <td>    1.279</td> <td>    2.298</td> <td> 0.022</td> <td>    0.433</td> <td>    5.447</td>\n",
       "</tr>\n",
       "<tr>\n",
       "  <th>Education Level_Masterâ€™s Degree</th> <td>   -6.0700</td> <td>    2.130</td> <td>   -2.850</td> <td> 0.004</td> <td>  -10.244</td> <td>   -1.896</td>\n",
       "</tr>\n",
       "<tr>\n",
       "  <th>Job Level_Mid</th>                     <td>   -5.2498</td> <td>    1.845</td> <td>   -2.845</td> <td> 0.004</td> <td>   -8.867</td> <td>   -1.633</td>\n",
       "</tr>\n",
       "<tr>\n",
       "  <th>Job Level_Senior</th>                  <td>   -6.7481</td> <td>    2.008</td> <td>   -3.361</td> <td> 0.001</td> <td>  -10.683</td> <td>   -2.813</td>\n",
       "</tr>\n",
       "</table><br/><br/>Possibly complete quasi-separation: A fraction 0.16 of observations can be<br/>perfectly predicted. This might indicate that there is complete<br/>quasi-separation. In this case some parameters will not be identified."
      ],
      "text/latex": [
       "\\begin{center}\n",
       "\\begin{tabular}{lclc}\n",
       "\\toprule\n",
       "\\textbf{Dep. Variable:}                     &    Attrition     & \\textbf{  No. Observations:  } &       70    \\\\\n",
       "\\textbf{Model:}                             &      Logit       & \\textbf{  Df Residuals:      } &       57    \\\\\n",
       "\\textbf{Method:}                            &       MLE        & \\textbf{  Df Model:          } &       12    \\\\\n",
       "\\textbf{Date:}                              & Sun, 20 Apr 2025 & \\textbf{  Pseudo R-squ.:     } &   0.6359    \\\\\n",
       "\\textbf{Time:}                              &     01:41:16     & \\textbf{  Log-Likelihood:    } &   -17.499   \\\\\n",
       "\\textbf{converged:}                         &       True       & \\textbf{  LL-Null:           } &   -48.062   \\\\\n",
       "\\textbf{Covariance Type:}                   &    nonrobust     & \\textbf{  LLR p-value:       } & 1.406e-08   \\\\\n",
       "\\bottomrule\n",
       "\\end{tabular}\n",
       "\\begin{tabular}{lcccccc}\n",
       "                                            & \\textbf{coef} & \\textbf{std err} & \\textbf{z} & \\textbf{P$> |$z$|$} & \\textbf{[0.025} & \\textbf{0.975]}  \\\\\n",
       "\\midrule\n",
       "\\textbf{const}                              &       4.7209  &        1.742     &     2.710  &         0.007        &        1.307    &        8.135     \\\\\n",
       "\\textbf{Number of Promotions}               &      -1.4644  &        0.703     &    -2.084  &         0.037        &       -2.842    &       -0.087     \\\\\n",
       "\\textbf{Overtime}                           &       2.0407  &        1.062     &     1.921  &         0.055        &       -0.042    &        4.123     \\\\\n",
       "\\textbf{Number of Dependents}               &      -2.0501  &        0.701     &    -2.925  &         0.003        &       -3.424    &       -0.676     \\\\\n",
       "\\textbf{Remote Work}                        &      -3.5052  &        1.585     &    -2.211  &         0.027        &       -6.612    &       -0.399     \\\\\n",
       "\\textbf{Job Role\\_Finance}                  &      -5.5399  &        2.137     &    -2.592  &         0.010        &       -9.729    &       -1.351     \\\\\n",
       "\\textbf{Job Role\\_Media}                    &      -5.3495  &        2.114     &    -2.530  &         0.011        &       -9.493    &       -1.206     \\\\\n",
       "\\textbf{Marital Status\\_Single}             &       2.9993  &        1.357     &     2.211  &         0.027        &        0.340    &        5.658     \\\\\n",
       "\\textbf{Company Reputation\\_Good}           &      -3.5461  &        1.268     &    -2.798  &         0.005        &       -6.030    &       -1.062     \\\\\n",
       "\\textbf{Employee Recognition\\_Medium}       &       2.9396  &        1.279     &     2.298  &         0.022        &        0.433    &        5.447     \\\\\n",
       "\\textbf{Education Level\\_Masterâ€™s Degree} &      -6.0700  &        2.130     &    -2.850  &         0.004        &      -10.244    &       -1.896     \\\\\n",
       "\\textbf{Job Level\\_Mid}                     &      -5.2498  &        1.845     &    -2.845  &         0.004        &       -8.867    &       -1.633     \\\\\n",
       "\\textbf{Job Level\\_Senior}                  &      -6.7481  &        2.008     &    -3.361  &         0.001        &      -10.683    &       -2.813     \\\\\n",
       "\\bottomrule\n",
       "\\end{tabular}\n",
       "%\\caption{Logit Regression Results}\n",
       "\\end{center}\n",
       "\n",
       "Possibly complete quasi-separation: A fraction 0.16 of observations can be \\newline\n",
       " perfectly predicted. This might indicate that there is complete \\newline\n",
       " quasi-separation. In this case some parameters will not be identified."
      ],
      "text/plain": [
       "<class 'statsmodels.iolib.summary.Summary'>\n",
       "\"\"\"\n",
       "                           Logit Regression Results                           \n",
       "==============================================================================\n",
       "Dep. Variable:              Attrition   No. Observations:                   70\n",
       "Model:                          Logit   Df Residuals:                       57\n",
       "Method:                           MLE   Df Model:                           12\n",
       "Date:                Sun, 20 Apr 2025   Pseudo R-squ.:                  0.6359\n",
       "Time:                        01:41:16   Log-Likelihood:                -17.499\n",
       "converged:                       True   LL-Null:                       -48.062\n",
       "Covariance Type:            nonrobust   LLR p-value:                 1.406e-08\n",
       "=====================================================================================================\n",
       "                                        coef    std err          z      P>|z|      [0.025      0.975]\n",
       "-----------------------------------------------------------------------------------------------------\n",
       "const                                 4.7209      1.742      2.710      0.007       1.307       8.135\n",
       "Number of Promotions                 -1.4644      0.703     -2.084      0.037      -2.842      -0.087\n",
       "Overtime                              2.0407      1.062      1.921      0.055      -0.042       4.123\n",
       "Number of Dependents                 -2.0501      0.701     -2.925      0.003      -3.424      -0.676\n",
       "Remote Work                          -3.5052      1.585     -2.211      0.027      -6.612      -0.399\n",
       "Job Role_Finance                     -5.5399      2.137     -2.592      0.010      -9.729      -1.351\n",
       "Job Role_Media                       -5.3495      2.114     -2.530      0.011      -9.493      -1.206\n",
       "Marital Status_Single                 2.9993      1.357      2.211      0.027       0.340       5.658\n",
       "Company Reputation_Good              -3.5461      1.268     -2.798      0.005      -6.030      -1.062\n",
       "Employee Recognition_Medium           2.9396      1.279      2.298      0.022       0.433       5.447\n",
       "Education Level_Masterâ€™s Degree    -6.0700      2.130     -2.850      0.004     -10.244      -1.896\n",
       "Job Level_Mid                        -5.2498      1.845     -2.845      0.004      -8.867      -1.633\n",
       "Job Level_Senior                     -6.7481      2.008     -3.361      0.001     -10.683      -2.813\n",
       "=====================================================================================================\n",
       "\n",
       "Possibly complete quasi-separation: A fraction 0.16 of observations can be\n",
       "perfectly predicted. This might indicate that there is complete\n",
       "quasi-separation. In this case some parameters will not be identified.\n",
       "\"\"\""
      ]
     },
     "execution_count": 1224,
     "metadata": {},
     "output_type": "execute_result"
    }
   ],
   "source": [
    "result.summary()"
   ]
  },
  {
   "cell_type": "code",
   "execution_count": 1229,
   "metadata": {},
   "outputs": [],
   "source": [
    "# after checking vif after dropping performnace rating every varivale was below 4 only but overime has a high p value making it insignificant so dropping it"
   ]
  },
  {
   "cell_type": "code",
   "execution_count": 1235,
   "metadata": {},
   "outputs": [],
   "source": [
    "col=col.drop(\"Overtime\")"
   ]
  },
  {
   "cell_type": "code",
   "execution_count": 1237,
   "metadata": {},
   "outputs": [
    {
     "name": "stdout",
     "output_type": "stream",
     "text": [
      "Optimization terminated successfully.\n",
      "         Current function value: 0.280014\n",
      "         Iterations 9\n"
     ]
    }
   ],
   "source": [
    "X_train_sm=sm.add_constant(X_train[col])\n",
    "logit_model = sm.Logit(y_train, X_train_sm)\n",
    "result = logit_model.fit()"
   ]
  },
  {
   "cell_type": "code",
   "execution_count": 1239,
   "metadata": {
    "scrolled": true
   },
   "outputs": [
    {
     "data": {
      "text/html": [
       "<table class=\"simpletable\">\n",
       "<caption>Logit Regression Results</caption>\n",
       "<tr>\n",
       "  <th>Dep. Variable:</th>       <td>Attrition</td>    <th>  No. Observations:  </th>  <td>    70</td>  \n",
       "</tr>\n",
       "<tr>\n",
       "  <th>Model:</th>                 <td>Logit</td>      <th>  Df Residuals:      </th>  <td>    58</td>  \n",
       "</tr>\n",
       "<tr>\n",
       "  <th>Method:</th>                 <td>MLE</td>       <th>  Df Model:          </th>  <td>    11</td>  \n",
       "</tr>\n",
       "<tr>\n",
       "  <th>Date:</th>            <td>Sun, 20 Apr 2025</td> <th>  Pseudo R-squ.:     </th>  <td>0.5922</td>  \n",
       "</tr>\n",
       "<tr>\n",
       "  <th>Time:</th>                <td>01:45:27</td>     <th>  Log-Likelihood:    </th> <td> -19.601</td> \n",
       "</tr>\n",
       "<tr>\n",
       "  <th>converged:</th>             <td>True</td>       <th>  LL-Null:           </th> <td> -48.062</td> \n",
       "</tr>\n",
       "<tr>\n",
       "  <th>Covariance Type:</th>     <td>nonrobust</td>    <th>  LLR p-value:       </th> <td>3.439e-08</td>\n",
       "</tr>\n",
       "</table>\n",
       "<table class=\"simpletable\">\n",
       "<tr>\n",
       "                  <td></td>                     <th>coef</th>     <th>std err</th>      <th>z</th>      <th>P>|z|</th>  <th>[0.025</th>    <th>0.975]</th>  \n",
       "</tr>\n",
       "<tr>\n",
       "  <th>const</th>                             <td>    5.1101</td> <td>    1.588</td> <td>    3.218</td> <td> 0.001</td> <td>    1.997</td> <td>    8.223</td>\n",
       "</tr>\n",
       "<tr>\n",
       "  <th>Number of Promotions</th>              <td>   -1.1969</td> <td>    0.573</td> <td>   -2.087</td> <td> 0.037</td> <td>   -2.321</td> <td>   -0.073</td>\n",
       "</tr>\n",
       "<tr>\n",
       "  <th>Number of Dependents</th>              <td>   -2.1252</td> <td>    0.666</td> <td>   -3.192</td> <td> 0.001</td> <td>   -3.430</td> <td>   -0.820</td>\n",
       "</tr>\n",
       "<tr>\n",
       "  <th>Remote Work</th>                       <td>   -3.3015</td> <td>    1.371</td> <td>   -2.408</td> <td> 0.016</td> <td>   -5.989</td> <td>   -0.614</td>\n",
       "</tr>\n",
       "<tr>\n",
       "  <th>Job Role_Finance</th>                  <td>   -6.0276</td> <td>    2.220</td> <td>   -2.716</td> <td> 0.007</td> <td>  -10.378</td> <td>   -1.677</td>\n",
       "</tr>\n",
       "<tr>\n",
       "  <th>Job Role_Media</th>                    <td>   -4.7363</td> <td>    1.640</td> <td>   -2.889</td> <td> 0.004</td> <td>   -7.950</td> <td>   -1.523</td>\n",
       "</tr>\n",
       "<tr>\n",
       "  <th>Marital Status_Single</th>             <td>    2.6803</td> <td>    1.169</td> <td>    2.294</td> <td> 0.022</td> <td>    0.390</td> <td>    4.971</td>\n",
       "</tr>\n",
       "<tr>\n",
       "  <th>Company Reputation_Good</th>           <td>   -3.3432</td> <td>    1.190</td> <td>   -2.810</td> <td> 0.005</td> <td>   -5.675</td> <td>   -1.012</td>\n",
       "</tr>\n",
       "<tr>\n",
       "  <th>Employee Recognition_Medium</th>       <td>    2.8587</td> <td>    1.219</td> <td>    2.345</td> <td> 0.019</td> <td>    0.469</td> <td>    5.248</td>\n",
       "</tr>\n",
       "<tr>\n",
       "  <th>Education Level_Masterâ€™s Degree</th> <td>   -5.0129</td> <td>    1.884</td> <td>   -2.661</td> <td> 0.008</td> <td>   -8.705</td> <td>   -1.321</td>\n",
       "</tr>\n",
       "<tr>\n",
       "  <th>Job Level_Mid</th>                     <td>   -4.9195</td> <td>    1.566</td> <td>   -3.142</td> <td> 0.002</td> <td>   -7.988</td> <td>   -1.851</td>\n",
       "</tr>\n",
       "<tr>\n",
       "  <th>Job Level_Senior</th>                  <td>   -6.6668</td> <td>    1.847</td> <td>   -3.609</td> <td> 0.000</td> <td>  -10.287</td> <td>   -3.046</td>\n",
       "</tr>\n",
       "</table><br/><br/>Possibly complete quasi-separation: A fraction 0.14 of observations can be<br/>perfectly predicted. This might indicate that there is complete<br/>quasi-separation. In this case some parameters will not be identified."
      ],
      "text/latex": [
       "\\begin{center}\n",
       "\\begin{tabular}{lclc}\n",
       "\\toprule\n",
       "\\textbf{Dep. Variable:}                     &    Attrition     & \\textbf{  No. Observations:  } &       70    \\\\\n",
       "\\textbf{Model:}                             &      Logit       & \\textbf{  Df Residuals:      } &       58    \\\\\n",
       "\\textbf{Method:}                            &       MLE        & \\textbf{  Df Model:          } &       11    \\\\\n",
       "\\textbf{Date:}                              & Sun, 20 Apr 2025 & \\textbf{  Pseudo R-squ.:     } &   0.5922    \\\\\n",
       "\\textbf{Time:}                              &     01:45:27     & \\textbf{  Log-Likelihood:    } &   -19.601   \\\\\n",
       "\\textbf{converged:}                         &       True       & \\textbf{  LL-Null:           } &   -48.062   \\\\\n",
       "\\textbf{Covariance Type:}                   &    nonrobust     & \\textbf{  LLR p-value:       } & 3.439e-08   \\\\\n",
       "\\bottomrule\n",
       "\\end{tabular}\n",
       "\\begin{tabular}{lcccccc}\n",
       "                                            & \\textbf{coef} & \\textbf{std err} & \\textbf{z} & \\textbf{P$> |$z$|$} & \\textbf{[0.025} & \\textbf{0.975]}  \\\\\n",
       "\\midrule\n",
       "\\textbf{const}                              &       5.1101  &        1.588     &     3.218  &         0.001        &        1.997    &        8.223     \\\\\n",
       "\\textbf{Number of Promotions}               &      -1.1969  &        0.573     &    -2.087  &         0.037        &       -2.321    &       -0.073     \\\\\n",
       "\\textbf{Number of Dependents}               &      -2.1252  &        0.666     &    -3.192  &         0.001        &       -3.430    &       -0.820     \\\\\n",
       "\\textbf{Remote Work}                        &      -3.3015  &        1.371     &    -2.408  &         0.016        &       -5.989    &       -0.614     \\\\\n",
       "\\textbf{Job Role\\_Finance}                  &      -6.0276  &        2.220     &    -2.716  &         0.007        &      -10.378    &       -1.677     \\\\\n",
       "\\textbf{Job Role\\_Media}                    &      -4.7363  &        1.640     &    -2.889  &         0.004        &       -7.950    &       -1.523     \\\\\n",
       "\\textbf{Marital Status\\_Single}             &       2.6803  &        1.169     &     2.294  &         0.022        &        0.390    &        4.971     \\\\\n",
       "\\textbf{Company Reputation\\_Good}           &      -3.3432  &        1.190     &    -2.810  &         0.005        &       -5.675    &       -1.012     \\\\\n",
       "\\textbf{Employee Recognition\\_Medium}       &       2.8587  &        1.219     &     2.345  &         0.019        &        0.469    &        5.248     \\\\\n",
       "\\textbf{Education Level\\_Masterâ€™s Degree} &      -5.0129  &        1.884     &    -2.661  &         0.008        &       -8.705    &       -1.321     \\\\\n",
       "\\textbf{Job Level\\_Mid}                     &      -4.9195  &        1.566     &    -3.142  &         0.002        &       -7.988    &       -1.851     \\\\\n",
       "\\textbf{Job Level\\_Senior}                  &      -6.6668  &        1.847     &    -3.609  &         0.000        &      -10.287    &       -3.046     \\\\\n",
       "\\bottomrule\n",
       "\\end{tabular}\n",
       "%\\caption{Logit Regression Results}\n",
       "\\end{center}\n",
       "\n",
       "Possibly complete quasi-separation: A fraction 0.14 of observations can be \\newline\n",
       " perfectly predicted. This might indicate that there is complete \\newline\n",
       " quasi-separation. In this case some parameters will not be identified."
      ],
      "text/plain": [
       "<class 'statsmodels.iolib.summary.Summary'>\n",
       "\"\"\"\n",
       "                           Logit Regression Results                           \n",
       "==============================================================================\n",
       "Dep. Variable:              Attrition   No. Observations:                   70\n",
       "Model:                          Logit   Df Residuals:                       58\n",
       "Method:                           MLE   Df Model:                           11\n",
       "Date:                Sun, 20 Apr 2025   Pseudo R-squ.:                  0.5922\n",
       "Time:                        01:45:27   Log-Likelihood:                -19.601\n",
       "converged:                       True   LL-Null:                       -48.062\n",
       "Covariance Type:            nonrobust   LLR p-value:                 3.439e-08\n",
       "=====================================================================================================\n",
       "                                        coef    std err          z      P>|z|      [0.025      0.975]\n",
       "-----------------------------------------------------------------------------------------------------\n",
       "const                                 5.1101      1.588      3.218      0.001       1.997       8.223\n",
       "Number of Promotions                 -1.1969      0.573     -2.087      0.037      -2.321      -0.073\n",
       "Number of Dependents                 -2.1252      0.666     -3.192      0.001      -3.430      -0.820\n",
       "Remote Work                          -3.3015      1.371     -2.408      0.016      -5.989      -0.614\n",
       "Job Role_Finance                     -6.0276      2.220     -2.716      0.007     -10.378      -1.677\n",
       "Job Role_Media                       -4.7363      1.640     -2.889      0.004      -7.950      -1.523\n",
       "Marital Status_Single                 2.6803      1.169      2.294      0.022       0.390       4.971\n",
       "Company Reputation_Good              -3.3432      1.190     -2.810      0.005      -5.675      -1.012\n",
       "Employee Recognition_Medium           2.8587      1.219      2.345      0.019       0.469       5.248\n",
       "Education Level_Masterâ€™s Degree    -5.0129      1.884     -2.661      0.008      -8.705      -1.321\n",
       "Job Level_Mid                        -4.9195      1.566     -3.142      0.002      -7.988      -1.851\n",
       "Job Level_Senior                     -6.6668      1.847     -3.609      0.000     -10.287      -3.046\n",
       "=====================================================================================================\n",
       "\n",
       "Possibly complete quasi-separation: A fraction 0.14 of observations can be\n",
       "perfectly predicted. This might indicate that there is complete\n",
       "quasi-separation. In this case some parameters will not be identified.\n",
       "\"\"\""
      ]
     },
     "execution_count": 1239,
     "metadata": {},
     "output_type": "execute_result"
    }
   ],
   "source": [
    "result.summary()"
   ]
  },
  {
   "cell_type": "code",
   "execution_count": 1243,
   "metadata": {},
   "outputs": [],
   "source": [
    "# finally all tyhe variable are below 0.05 so now we are moving forward as there is no need to drop any other varibale"
   ]
  },
  {
   "cell_type": "code",
   "execution_count": 1245,
   "metadata": {},
   "outputs": [
    {
     "data": {
      "text/html": [
       "<div>\n",
       "<style scoped>\n",
       "    .dataframe tbody tr th:only-of-type {\n",
       "        vertical-align: middle;\n",
       "    }\n",
       "\n",
       "    .dataframe tbody tr th {\n",
       "        vertical-align: top;\n",
       "    }\n",
       "\n",
       "    .dataframe thead th {\n",
       "        text-align: right;\n",
       "    }\n",
       "</style>\n",
       "<table border=\"1\" class=\"dataframe\">\n",
       "  <thead>\n",
       "    <tr style=\"text-align: right;\">\n",
       "      <th></th>\n",
       "      <th>Features</th>\n",
       "      <th>VIF</th>\n",
       "    </tr>\n",
       "  </thead>\n",
       "  <tbody>\n",
       "    <tr>\n",
       "      <th>5</th>\n",
       "      <td>Marital Status_Single</td>\n",
       "      <td>1.89</td>\n",
       "    </tr>\n",
       "    <tr>\n",
       "      <th>6</th>\n",
       "      <td>Company Reputation_Good</td>\n",
       "      <td>1.64</td>\n",
       "    </tr>\n",
       "    <tr>\n",
       "      <th>10</th>\n",
       "      <td>Job Level_Senior</td>\n",
       "      <td>1.57</td>\n",
       "    </tr>\n",
       "    <tr>\n",
       "      <th>9</th>\n",
       "      <td>Job Level_Mid</td>\n",
       "      <td>1.32</td>\n",
       "    </tr>\n",
       "    <tr>\n",
       "      <th>2</th>\n",
       "      <td>Remote Work</td>\n",
       "      <td>1.30</td>\n",
       "    </tr>\n",
       "    <tr>\n",
       "      <th>7</th>\n",
       "      <td>Employee Recognition_Medium</td>\n",
       "      <td>1.29</td>\n",
       "    </tr>\n",
       "    <tr>\n",
       "      <th>3</th>\n",
       "      <td>Job Role_Finance</td>\n",
       "      <td>1.25</td>\n",
       "    </tr>\n",
       "    <tr>\n",
       "      <th>8</th>\n",
       "      <td>Education Level_Masterâ€™s Degree</td>\n",
       "      <td>1.23</td>\n",
       "    </tr>\n",
       "    <tr>\n",
       "      <th>4</th>\n",
       "      <td>Job Role_Media</td>\n",
       "      <td>1.21</td>\n",
       "    </tr>\n",
       "    <tr>\n",
       "      <th>1</th>\n",
       "      <td>Number of Dependents</td>\n",
       "      <td>1.07</td>\n",
       "    </tr>\n",
       "    <tr>\n",
       "      <th>0</th>\n",
       "      <td>Number of Promotions</td>\n",
       "      <td>1.06</td>\n",
       "    </tr>\n",
       "  </tbody>\n",
       "</table>\n",
       "</div>"
      ],
      "text/plain": [
       "                             Features   VIF\n",
       "5               Marital Status_Single  1.89\n",
       "6             Company Reputation_Good  1.64\n",
       "10                   Job Level_Senior  1.57\n",
       "9                       Job Level_Mid  1.32\n",
       "2                         Remote Work  1.30\n",
       "7         Employee Recognition_Medium  1.29\n",
       "3                    Job Role_Finance  1.25\n",
       "8   Education Level_Masterâ€™s Degree  1.23\n",
       "4                      Job Role_Media  1.21\n",
       "1                Number of Dependents  1.07\n",
       "0                Number of Promotions  1.06"
      ]
     },
     "execution_count": 1245,
     "metadata": {},
     "output_type": "execute_result"
    }
   ],
   "source": [
    "# now again checking vifs \n",
    "vif = pd.DataFrame()\n",
    "vif['Features'] = X_train[col].columns\n",
    "vif['VIF'] = [variance_inflation_factor(X_train[col].values, i) for i in range(X_train[col].shape[1])]\n",
    "vif['VIF'] = round(vif['VIF'], 2)\n",
    "vif = vif.sort_values(by = \"VIF\", ascending = False)\n",
    "vif"
   ]
  },
  {
   "cell_type": "code",
   "execution_count": 1283,
   "metadata": {},
   "outputs": [
    {
     "data": {
      "text/plain": [
       "32761    0.764711\n",
       "24626    0.157376\n",
       "23110    0.282495\n",
       "12461    0.999950\n",
       "2120     0.716647\n",
       "57632    0.055869\n",
       "37028    0.735766\n",
       "38446    0.909584\n",
       "24822    0.948373\n",
       "19230    0.992405\n",
       "dtype: float64"
      ]
     },
     "execution_count": 1283,
     "metadata": {},
     "output_type": "execute_result"
    }
   ],
   "source": [
    "y_train_pred = result.predict(X_train_sm)\n",
    "y_train_pred[:10]"
   ]
  },
  {
   "cell_type": "code",
   "execution_count": 1285,
   "metadata": {},
   "outputs": [],
   "source": [
    "y_train_pred=y_train_pred.values.reshape(-1)"
   ]
  },
  {
   "cell_type": "code",
   "execution_count": 1287,
   "metadata": {},
   "outputs": [
    {
     "data": {
      "text/plain": [
       "array([0.76471141, 0.15737641, 0.28249537, 0.99995   , 0.71664702,\n",
       "       0.0558695 , 0.7357662 , 0.90958353, 0.94837297, 0.9924049 ])"
      ]
     },
     "execution_count": 1287,
     "metadata": {},
     "output_type": "execute_result"
    }
   ],
   "source": [
    "y_train_pred[:10]"
   ]
  },
  {
   "cell_type": "code",
   "execution_count": 1289,
   "metadata": {},
   "outputs": [],
   "source": [
    "y_train_pred_final['left_Prob'] = y_train_pred"
   ]
  },
  {
   "cell_type": "code",
   "execution_count": 1291,
   "metadata": {
    "scrolled": true
   },
   "outputs": [
    {
     "data": {
      "text/html": [
       "<div>\n",
       "<style scoped>\n",
       "    .dataframe tbody tr th:only-of-type {\n",
       "        vertical-align: middle;\n",
       "    }\n",
       "\n",
       "    .dataframe tbody tr th {\n",
       "        vertical-align: top;\n",
       "    }\n",
       "\n",
       "    .dataframe thead th {\n",
       "        text-align: right;\n",
       "    }\n",
       "</style>\n",
       "<table border=\"1\" class=\"dataframe\">\n",
       "  <thead>\n",
       "    <tr style=\"text-align: right;\">\n",
       "      <th></th>\n",
       "      <th>Left</th>\n",
       "      <th>left_Prob</th>\n",
       "      <th>EmplyID</th>\n",
       "      <th>predicted</th>\n",
       "    </tr>\n",
       "  </thead>\n",
       "  <tbody>\n",
       "    <tr>\n",
       "      <th>0</th>\n",
       "      <td>0</td>\n",
       "      <td>0.764711</td>\n",
       "      <td>32761</td>\n",
       "      <td>1</td>\n",
       "    </tr>\n",
       "    <tr>\n",
       "      <th>1</th>\n",
       "      <td>0</td>\n",
       "      <td>0.157376</td>\n",
       "      <td>24626</td>\n",
       "      <td>0</td>\n",
       "    </tr>\n",
       "    <tr>\n",
       "      <th>2</th>\n",
       "      <td>0</td>\n",
       "      <td>0.282495</td>\n",
       "      <td>23110</td>\n",
       "      <td>0</td>\n",
       "    </tr>\n",
       "    <tr>\n",
       "      <th>3</th>\n",
       "      <td>1</td>\n",
       "      <td>0.999950</td>\n",
       "      <td>12461</td>\n",
       "      <td>1</td>\n",
       "    </tr>\n",
       "    <tr>\n",
       "      <th>4</th>\n",
       "      <td>0</td>\n",
       "      <td>0.716647</td>\n",
       "      <td>2120</td>\n",
       "      <td>1</td>\n",
       "    </tr>\n",
       "  </tbody>\n",
       "</table>\n",
       "</div>"
      ],
      "text/plain": [
       "   Left  left_Prob  EmplyID  predicted\n",
       "0     0   0.764711    32761          1\n",
       "1     0   0.157376    24626          0\n",
       "2     0   0.282495    23110          0\n",
       "3     1   0.999950    12461          1\n",
       "4     0   0.716647     2120          1"
      ]
     },
     "execution_count": 1291,
     "metadata": {},
     "output_type": "execute_result"
    }
   ],
   "source": [
    "y_train_pred_final['predicted'] = y_train_pred_final.left_Prob.map(lambda x: 1 if x > 0.5 else 0)\n",
    "y_train_pred_final.head()"
   ]
  },
  {
   "cell_type": "code",
   "execution_count": 1293,
   "metadata": {},
   "outputs": [
    {
     "data": {
      "text/plain": [
       "array([[34,  5],\n",
       "       [ 5, 26]], dtype=int64)"
      ]
     },
     "execution_count": 1293,
     "metadata": {},
     "output_type": "execute_result"
    }
   ],
   "source": [
    "# chcecking the accuracy and making pf confusin matrox\n",
    "metrics.confusion_matrix(y_train_pred_final.Left , y_train_pred_final.predicted)"
   ]
  },
  {
   "cell_type": "code",
   "execution_count": 1295,
   "metadata": {},
   "outputs": [
    {
     "data": {
      "text/plain": [
       "0.8571428571428571"
      ]
     },
     "execution_count": 1295,
     "metadata": {},
     "output_type": "execute_result"
    }
   ],
   "source": [
    "metrics.accuracy_score(y_train_pred_final.Left , y_train_pred_final.predicted)"
   ]
  },
  {
   "cell_type": "code",
   "execution_count": 1297,
   "metadata": {},
   "outputs": [
    {
     "data": {
      "text/plain": [
       "0.8387096774193549"
      ]
     },
     "execution_count": 1297,
     "metadata": {},
     "output_type": "execute_result"
    }
   ],
   "source": [
    "precision_score(y_train_pred_final.Left , y_train_pred_final.predicted)"
   ]
  },
  {
   "cell_type": "code",
   "execution_count": 1299,
   "metadata": {},
   "outputs": [
    {
     "data": {
      "text/plain": [
       "0.8387096774193549"
      ]
     },
     "execution_count": 1299,
     "metadata": {},
     "output_type": "execute_result"
    }
   ],
   "source": [
    "recall_score(y_train_pred_final.Left , y_train_pred_final.predicted)"
   ]
  },
  {
   "cell_type": "code",
   "execution_count": 1301,
   "metadata": {},
   "outputs": [
    {
     "data": {
      "text/plain": [
       "0.8974358974358975"
      ]
     },
     "execution_count": 1301,
     "metadata": {},
     "output_type": "execute_result"
    }
   ],
   "source": [
    "\n",
    "TP/float(TP+FN)#SENSTIVITY"
   ]
  },
  {
   "cell_type": "code",
   "execution_count": 1303,
   "metadata": {},
   "outputs": [
    {
     "data": {
      "text/plain": [
       "0.8709677419354839"
      ]
     },
     "execution_count": 1303,
     "metadata": {},
     "output_type": "execute_result"
    }
   ],
   "source": [
    "#SPECIFICITY\n",
    "TN/float(TN+FP)"
   ]
  },
  {
   "cell_type": "markdown",
   "metadata": {
    "id": "IThpUyeKbzFO"
   },
   "source": [
    "### **7.3 Find the optimal cutoff** <font color = red>[15 marks]</font>\n",
    "\n",
    "Find the optimal cutoff to improve model performance. While a default threshold of 0.5 was used for initial evaluation, optimising this threshold can enhance the model's performance.\n",
    "\n",
    "First, plot the ROC curve and check AUC.\n",
    "\n"
   ]
  },
  {
   "cell_type": "markdown",
   "metadata": {
    "id": "K6P4KhA_pH-P"
   },
   "source": [
    "7.3.1 Plot ROC curve <font color=\"red\">[3 Marks]</font>"
   ]
  },
  {
   "cell_type": "code",
   "execution_count": 1305,
   "metadata": {
    "id": "-QAnutZNbzFO"
   },
   "outputs": [],
   "source": [
    "# Define ROC function\n",
    "def draw_roc( actual, probs ):\n",
    "    fpr, tpr, thresholds = metrics.roc_curve( actual, probs,\n",
    "                                              drop_intermediate = False )\n",
    "    auc_score = metrics.roc_auc_score( actual, probs )\n",
    "    plt.figure(figsize=(5, 5))\n",
    "    plt.plot( fpr, tpr, label='ROC curve (area = %0.2f)' % auc_score )\n",
    "    plt.plot([0, 1], [0, 1], 'k--')\n",
    "    plt.xlim([0.0, 1.0])\n",
    "    plt.ylim([0.0, 1.05])\n",
    "    plt.xlabel('False Positive Rate or [1 - True Negative Rate]')\n",
    "    plt.ylabel('True Positive Rate')\n",
    "    plt.title('Receiver operating characteristic')\n",
    "    plt.legend(loc=\"lower right\")\n",
    "    plt.show()\n",
    "\n",
    "    return None"
   ]
  },
  {
   "cell_type": "code",
   "execution_count": 1307,
   "metadata": {
    "id": "-hkCvgfEbzFO",
    "scrolled": true
   },
   "outputs": [],
   "source": [
    "# Call the ROC function\n",
    "fpr , tpr , thresholds=metrics.roc_curve( y_train_pred_final.Left, y_train_pred_final.left_Prob, drop_intermediate = False )"
   ]
  },
  {
   "cell_type": "code",
   "execution_count": 1309,
   "metadata": {},
   "outputs": [
    {
     "data": {
      "image/png": "[encoded data removed]",
      "text/plain": [
       "<Figure size 500x500 with 1 Axes>"
      ]
     },
     "metadata": {},
     "output_type": "display_data"
    }
   ],
   "source": [
    "draw_roc(y_train_pred_final.Left, y_train_pred_final.left_Prob)"
   ]
  },
  {
   "cell_type": "markdown",
   "metadata": {
    "id": "TIbs06KDbzFO"
   },
   "source": [
    "**Sensitivity and Specificity tradeoff**\n",
    "\n",
    "Check sensitivity and specificity tradeoff to find the optimal cutoff point."
   ]
  },
  {
   "cell_type": "markdown",
   "metadata": {
    "id": "1II4CXInpfuZ"
   },
   "source": [
    "7.3.2 Predict on training set at various probability cutoffs <font color=\"red\">[1 Mark]</font>"
   ]
  },
  {
   "cell_type": "code",
   "execution_count": 1313,
   "metadata": {
    "id": "-74M5fbIbzFO"
   },
   "outputs": [
    {
     "data": {
      "text/html": [
       "<div>\n",
       "<style scoped>\n",
       "    .dataframe tbody tr th:only-of-type {\n",
       "        vertical-align: middle;\n",
       "    }\n",
       "\n",
       "    .dataframe tbody tr th {\n",
       "        vertical-align: top;\n",
       "    }\n",
       "\n",
       "    .dataframe thead th {\n",
       "        text-align: right;\n",
       "    }\n",
       "</style>\n",
       "<table border=\"1\" class=\"dataframe\">\n",
       "  <thead>\n",
       "    <tr style=\"text-align: right;\">\n",
       "      <th></th>\n",
       "      <th>Left</th>\n",
       "      <th>left_Prob</th>\n",
       "      <th>EmplyID</th>\n",
       "      <th>predicted</th>\n",
       "      <th>0.0</th>\n",
       "      <th>0.1</th>\n",
       "      <th>0.2</th>\n",
       "      <th>0.3</th>\n",
       "      <th>0.4</th>\n",
       "      <th>0.5</th>\n",
       "      <th>0.6</th>\n",
       "      <th>0.7</th>\n",
       "      <th>0.8</th>\n",
       "      <th>0.9</th>\n",
       "    </tr>\n",
       "  </thead>\n",
       "  <tbody>\n",
       "    <tr>\n",
       "      <th>0</th>\n",
       "      <td>0</td>\n",
       "      <td>0.764711</td>\n",
       "      <td>32761</td>\n",
       "      <td>1</td>\n",
       "      <td>1</td>\n",
       "      <td>1</td>\n",
       "      <td>1</td>\n",
       "      <td>1</td>\n",
       "      <td>1</td>\n",
       "      <td>1</td>\n",
       "      <td>1</td>\n",
       "      <td>1</td>\n",
       "      <td>0</td>\n",
       "      <td>0</td>\n",
       "    </tr>\n",
       "    <tr>\n",
       "      <th>1</th>\n",
       "      <td>0</td>\n",
       "      <td>0.157376</td>\n",
       "      <td>24626</td>\n",
       "      <td>0</td>\n",
       "      <td>1</td>\n",
       "      <td>1</td>\n",
       "      <td>0</td>\n",
       "      <td>0</td>\n",
       "      <td>0</td>\n",
       "      <td>0</td>\n",
       "      <td>0</td>\n",
       "      <td>0</td>\n",
       "      <td>0</td>\n",
       "      <td>0</td>\n",
       "    </tr>\n",
       "    <tr>\n",
       "      <th>2</th>\n",
       "      <td>0</td>\n",
       "      <td>0.282495</td>\n",
       "      <td>23110</td>\n",
       "      <td>0</td>\n",
       "      <td>1</td>\n",
       "      <td>1</td>\n",
       "      <td>1</td>\n",
       "      <td>0</td>\n",
       "      <td>0</td>\n",
       "      <td>0</td>\n",
       "      <td>0</td>\n",
       "      <td>0</td>\n",
       "      <td>0</td>\n",
       "      <td>0</td>\n",
       "    </tr>\n",
       "    <tr>\n",
       "      <th>3</th>\n",
       "      <td>1</td>\n",
       "      <td>0.999950</td>\n",
       "      <td>12461</td>\n",
       "      <td>1</td>\n",
       "      <td>1</td>\n",
       "      <td>1</td>\n",
       "      <td>1</td>\n",
       "      <td>1</td>\n",
       "      <td>1</td>\n",
       "      <td>1</td>\n",
       "      <td>1</td>\n",
       "      <td>1</td>\n",
       "      <td>1</td>\n",
       "      <td>1</td>\n",
       "    </tr>\n",
       "    <tr>\n",
       "      <th>4</th>\n",
       "      <td>0</td>\n",
       "      <td>0.716647</td>\n",
       "      <td>2120</td>\n",
       "      <td>1</td>\n",
       "      <td>1</td>\n",
       "      <td>1</td>\n",
       "      <td>1</td>\n",
       "      <td>1</td>\n",
       "      <td>1</td>\n",
       "      <td>1</td>\n",
       "      <td>1</td>\n",
       "      <td>1</td>\n",
       "      <td>0</td>\n",
       "      <td>0</td>\n",
       "    </tr>\n",
       "  </tbody>\n",
       "</table>\n",
       "</div>"
      ],
      "text/plain": [
       "   Left  left_Prob  EmplyID  predicted  0.0  0.1  0.2  0.3  0.4  0.5  0.6  \\\n",
       "0     0   0.764711    32761          1    1    1    1    1    1    1    1   \n",
       "1     0   0.157376    24626          0    1    1    0    0    0    0    0   \n",
       "2     0   0.282495    23110          0    1    1    1    0    0    0    0   \n",
       "3     1   0.999950    12461          1    1    1    1    1    1    1    1   \n",
       "4     0   0.716647     2120          1    1    1    1    1    1    1    1   \n",
       "\n",
       "   0.7  0.8  0.9  \n",
       "0    1    0    0  \n",
       "1    0    0    0  \n",
       "2    0    0    0  \n",
       "3    1    1    1  \n",
       "4    1    0    0  "
      ]
     },
     "execution_count": 1313,
     "metadata": {},
     "output_type": "execute_result"
    }
   ],
   "source": [
    "# Predict on training data by creating columns with different probability cutoffs to explore the impact of cutoff on model performance\n",
    "numbers = [float(x)/10 for x in range(10)]\n",
    "for i in numbers:\n",
    "    y_train_pred_final[i]= y_train_pred_final.left_Prob.map(lambda x: 1 if x > i else 0)\n",
    "y_train_pred_final.head()"
   ]
  },
  {
   "cell_type": "markdown",
   "metadata": {
    "id": "DA0BEORfp_nW"
   },
   "source": [
    "7.3.3 Plot for accuracy, sensitivity, specificity at different probability cutoffs <font color=\"red\">[2 Marks]</font>"
   ]
  },
  {
   "cell_type": "code",
   "execution_count": 1315,
   "metadata": {
    "id": "An1cy6CJbzFP"
   },
   "outputs": [
    {
     "name": "stdout",
     "output_type": "stream",
     "text": [
      "     prob  accuracy     sensi     speci\n",
      "0.0   0.0  0.442857  1.000000  0.000000\n",
      "0.1   0.1  0.757143  1.000000  0.564103\n",
      "0.2   0.2  0.857143  0.967742  0.769231\n",
      "0.3   0.3  0.885714  0.935484  0.846154\n",
      "0.4   0.4  0.842857  0.838710  0.846154\n",
      "0.5   0.5  0.857143  0.838710  0.871795\n",
      "0.6   0.6  0.857143  0.806452  0.897436\n",
      "0.7   0.7  0.842857  0.741935  0.923077\n",
      "0.8   0.8  0.842857  0.677419  0.974359\n",
      "0.9   0.9  0.785714  0.516129  1.000000\n"
     ]
    }
   ],
   "source": [
    "# Create a DataFrame to see the values of accuracy, sensitivity, and specificity at different values of probability cutoffs\n",
    "cutoff_df = pd.DataFrame( columns = ['prob','accuracy','sensi','speci'])\n",
    "from sklearn.metrics import confusion_matrix\n",
    "\n",
    "\n",
    "num = [0.0,0.1,0.2,0.3,0.4,0.5,0.6,0.7,0.8,0.9]\n",
    "for i in num:\n",
    "    cm1 = metrics.confusion_matrix(y_train_pred_final.Left, y_train_pred_final[i] )\n",
    "    total1=sum(sum(cm1))\n",
    "    accuracy = (cm1[0,0]+cm1[1,1])/total1\n",
    "    \n",
    "    speci = cm1[0,0]/(cm1[0,0]+cm1[0,1])\n",
    "    sensi = cm1[1,1]/(cm1[1,0]+cm1[1,1])\n",
    "    cutoff_df.loc[i] =[ i ,accuracy,sensi,speci]\n",
    "print(cutoff_df)"
   ]
  },
  {
   "cell_type": "code",
   "execution_count": 1317,
   "metadata": {
    "id": "P725dvI6bzFP",
    "scrolled": true
   },
   "outputs": [
    {
     "data": {
      "image/png": "[encoded data removed]",
      "text/plain": [
       "<Figure size 640x480 with 1 Axes>"
      ]
     },
     "metadata": {},
     "output_type": "display_data"
    }
   ],
   "source": [
    "# Plot accuracy, sensitivity, and specificity at different values of probability cutoffs\n",
    "cutoff_df.plot.line(x='prob', y=['accuracy','sensi','speci'])\n",
    "plt.show()"
   ]
  },
  {
   "cell_type": "markdown",
   "metadata": {},
   "source": [
    "hence aftre looking at the auc the optimal cutoff comes out to be 0.4"
   ]
  },
  {
   "cell_type": "markdown",
   "metadata": {
    "id": "xnCc19DyqUSt"
   },
   "source": [
    "7.3.4 Create a column for final prediction based on the optimal cutoff <font color=\"red\">[2 Marks]</font>"
   ]
  },
  {
   "cell_type": "code",
   "execution_count": 1319,
   "metadata": {
    "id": "yLyy-eawbzFP"
   },
   "outputs": [
    {
     "data": {
      "text/html": [
       "<div>\n",
       "<style scoped>\n",
       "    .dataframe tbody tr th:only-of-type {\n",
       "        vertical-align: middle;\n",
       "    }\n",
       "\n",
       "    .dataframe tbody tr th {\n",
       "        vertical-align: top;\n",
       "    }\n",
       "\n",
       "    .dataframe thead th {\n",
       "        text-align: right;\n",
       "    }\n",
       "</style>\n",
       "<table border=\"1\" class=\"dataframe\">\n",
       "  <thead>\n",
       "    <tr style=\"text-align: right;\">\n",
       "      <th></th>\n",
       "      <th>Left</th>\n",
       "      <th>left_Prob</th>\n",
       "      <th>EmplyID</th>\n",
       "      <th>predicted</th>\n",
       "      <th>0.0</th>\n",
       "      <th>0.1</th>\n",
       "      <th>0.2</th>\n",
       "      <th>0.3</th>\n",
       "      <th>0.4</th>\n",
       "      <th>0.5</th>\n",
       "      <th>0.6</th>\n",
       "      <th>0.7</th>\n",
       "      <th>0.8</th>\n",
       "      <th>0.9</th>\n",
       "      <th>final_predicted</th>\n",
       "    </tr>\n",
       "  </thead>\n",
       "  <tbody>\n",
       "    <tr>\n",
       "      <th>0</th>\n",
       "      <td>0</td>\n",
       "      <td>0.764711</td>\n",
       "      <td>32761</td>\n",
       "      <td>1</td>\n",
       "      <td>1</td>\n",
       "      <td>1</td>\n",
       "      <td>1</td>\n",
       "      <td>1</td>\n",
       "      <td>1</td>\n",
       "      <td>1</td>\n",
       "      <td>1</td>\n",
       "      <td>1</td>\n",
       "      <td>0</td>\n",
       "      <td>0</td>\n",
       "      <td>1</td>\n",
       "    </tr>\n",
       "    <tr>\n",
       "      <th>1</th>\n",
       "      <td>0</td>\n",
       "      <td>0.157376</td>\n",
       "      <td>24626</td>\n",
       "      <td>0</td>\n",
       "      <td>1</td>\n",
       "      <td>1</td>\n",
       "      <td>0</td>\n",
       "      <td>0</td>\n",
       "      <td>0</td>\n",
       "      <td>0</td>\n",
       "      <td>0</td>\n",
       "      <td>0</td>\n",
       "      <td>0</td>\n",
       "      <td>0</td>\n",
       "      <td>0</td>\n",
       "    </tr>\n",
       "    <tr>\n",
       "      <th>2</th>\n",
       "      <td>0</td>\n",
       "      <td>0.282495</td>\n",
       "      <td>23110</td>\n",
       "      <td>0</td>\n",
       "      <td>1</td>\n",
       "      <td>1</td>\n",
       "      <td>1</td>\n",
       "      <td>0</td>\n",
       "      <td>0</td>\n",
       "      <td>0</td>\n",
       "      <td>0</td>\n",
       "      <td>0</td>\n",
       "      <td>0</td>\n",
       "      <td>0</td>\n",
       "      <td>0</td>\n",
       "    </tr>\n",
       "    <tr>\n",
       "      <th>3</th>\n",
       "      <td>1</td>\n",
       "      <td>0.999950</td>\n",
       "      <td>12461</td>\n",
       "      <td>1</td>\n",
       "      <td>1</td>\n",
       "      <td>1</td>\n",
       "      <td>1</td>\n",
       "      <td>1</td>\n",
       "      <td>1</td>\n",
       "      <td>1</td>\n",
       "      <td>1</td>\n",
       "      <td>1</td>\n",
       "      <td>1</td>\n",
       "      <td>1</td>\n",
       "      <td>1</td>\n",
       "    </tr>\n",
       "    <tr>\n",
       "      <th>4</th>\n",
       "      <td>0</td>\n",
       "      <td>0.716647</td>\n",
       "      <td>2120</td>\n",
       "      <td>1</td>\n",
       "      <td>1</td>\n",
       "      <td>1</td>\n",
       "      <td>1</td>\n",
       "      <td>1</td>\n",
       "      <td>1</td>\n",
       "      <td>1</td>\n",
       "      <td>1</td>\n",
       "      <td>1</td>\n",
       "      <td>0</td>\n",
       "      <td>0</td>\n",
       "      <td>1</td>\n",
       "    </tr>\n",
       "  </tbody>\n",
       "</table>\n",
       "</div>"
      ],
      "text/plain": [
       "   Left  left_Prob  EmplyID  predicted  0.0  0.1  0.2  0.3  0.4  0.5  0.6  \\\n",
       "0     0   0.764711    32761          1    1    1    1    1    1    1    1   \n",
       "1     0   0.157376    24626          0    1    1    0    0    0    0    0   \n",
       "2     0   0.282495    23110          0    1    1    1    0    0    0    0   \n",
       "3     1   0.999950    12461          1    1    1    1    1    1    1    1   \n",
       "4     0   0.716647     2120          1    1    1    1    1    1    1    1   \n",
       "\n",
       "   0.7  0.8  0.9  final_predicted  \n",
       "0    1    0    0                1  \n",
       "1    0    0    0                0  \n",
       "2    0    0    0                0  \n",
       "3    1    1    1                1  \n",
       "4    1    0    0                1  "
      ]
     },
     "execution_count": 1319,
     "metadata": {},
     "output_type": "execute_result"
    }
   ],
   "source": [
    "# Create a column for final prediction based on the optimal cutoff\n",
    "y_train_pred_final['final_predicted'] = y_train_pred_final.left_Prob.map( lambda x: 1 if x > 0.4 else 0)\n",
    "\n",
    "y_train_pred_final.head()"
   ]
  },
  {
   "cell_type": "markdown",
   "metadata": {
    "id": "rRyaBXdEqryR"
   },
   "source": [
    "7.3.5 Calculate model's accuracy <font color=\"red\">[1Mark]</font>"
   ]
  },
  {
   "cell_type": "code",
   "execution_count": 1323,
   "metadata": {
    "id": "dr5PFXZMbzFP"
   },
   "outputs": [
    {
     "data": {
      "text/plain": [
       "0.8428571428571429"
      ]
     },
     "execution_count": 1323,
     "metadata": {},
     "output_type": "execute_result"
    }
   ],
   "source": [
    "# Calculate the accuracy\n",
    "accuracy_score(y_train_pred_final.Left , y_train_pred_final.final_predicted)"
   ]
  },
  {
   "cell_type": "markdown",
   "metadata": {
    "id": "DfgLjKNYrDr8"
   },
   "source": [
    "7.3.6 Create confusion matrix <font color=\"red\">[1Mark]</font>"
   ]
  },
  {
   "cell_type": "code",
   "execution_count": 1325,
   "metadata": {
    "id": "KNCQmHAgbzFQ"
   },
   "outputs": [
    {
     "data": {
      "text/plain": [
       "array([[33,  6],\n",
       "       [ 5, 26]], dtype=int64)"
      ]
     },
     "execution_count": 1325,
     "metadata": {},
     "output_type": "execute_result"
    }
   ],
   "source": [
    "# Create the confusion matrix once again\n",
    "metrics.confusion_matrix(y_train_pred_final.Left , y_train_pred_final.final_predicted)"
   ]
  },
  {
   "cell_type": "markdown",
   "metadata": {
    "id": "ZE80CYQ4rMCM"
   },
   "source": [
    "7.3.7 Create variables for true positive, true negative, false positive and false negative <font color=\"red\">[1Mark]</font>"
   ]
  },
  {
   "cell_type": "code",
   "execution_count": 1327,
   "metadata": {
    "id": "l53itzjzbzFQ"
   },
   "outputs": [],
   "source": [
    "# Create variables for true positive, true negative, false positive and false negative\n",
    "tp=26\n",
    "tn=33\n",
    "fp=6\n",
    "fn=5"
   ]
  },
  {
   "cell_type": "markdown",
   "metadata": {
    "id": "0drkvl0drY2t"
   },
   "source": [
    "7.3.8 Calculate sensitivity and specificity of the model <font color=\"red\">[1Mark]</font>"
   ]
  },
  {
   "cell_type": "code",
   "execution_count": 1329,
   "metadata": {
    "id": "GtXYfD1mbzFQ"
   },
   "outputs": [
    {
     "data": {
      "text/plain": [
       "0.8387096774193549"
      ]
     },
     "execution_count": 1329,
     "metadata": {},
     "output_type": "execute_result"
    }
   ],
   "source": [
    "# Calculate Sensitivity\n",
    "tp/float(tp+fn)"
   ]
  },
  {
   "cell_type": "code",
   "execution_count": 1333,
   "metadata": {
    "id": "I4Meaz7RbzFR"
   },
   "outputs": [
    {
     "data": {
      "text/plain": [
       "0.8461538461538461"
      ]
     },
     "execution_count": 1333,
     "metadata": {},
     "output_type": "execute_result"
    }
   ],
   "source": [
    "# Calculate Specificity\n",
    "tn/float(tn+fp)"
   ]
  },
  {
   "cell_type": "markdown",
   "metadata": {
    "id": "ZBm4vL_2rhgF"
   },
   "source": [
    "7.3.9 Calculate precision and recall of the model <font color=\"red\">[1Mark]</font>"
   ]
  },
  {
   "cell_type": "code",
   "execution_count": 1335,
   "metadata": {
    "id": "lnQgXuQCbzFR"
   },
   "outputs": [
    {
     "data": {
      "text/plain": [
       "0.8125"
      ]
     },
     "execution_count": 1335,
     "metadata": {},
     "output_type": "execute_result"
    }
   ],
   "source": [
    "# Calculate Precision\n",
    "precision_score(y_train_pred_final.Left , y_train_pred_final.final_predicted)"
   ]
  },
  {
   "cell_type": "code",
   "execution_count": 1337,
   "metadata": {
    "id": "Z4HQbkZhbzFS"
   },
   "outputs": [
    {
     "data": {
      "text/plain": [
       "0.8387096774193549"
      ]
     },
     "execution_count": 1337,
     "metadata": {},
     "output_type": "execute_result"
    }
   ],
   "source": [
    "# Calculate Recall\n",
    "recall_score(y_train_pred_final.Left , y_train_pred_final.final_predicted)"
   ]
  },
  {
   "cell_type": "markdown",
   "metadata": {
    "id": "rxmGPpwpbzFS"
   },
   "source": [
    "**Precision and Recall tradeoff**\n",
    "\n",
    "Check optimal cutoff value by plotting precision-recall curve, and adjust the cutoff based on the precision and recall tradeoff if required."
   ]
  },
  {
   "cell_type": "code",
   "execution_count": 1341,
   "metadata": {
    "id": "L1gibcCMbzFS"
   },
   "outputs": [],
   "source": [
    "# Import precision-recall curve function\n",
    "from sklearn.metrics import precision_recall_curve"
   ]
  },
  {
   "cell_type": "code",
   "execution_count": 1343,
   "metadata": {
    "id": "MV-oGIWHbzFT"
   },
   "outputs": [],
   "source": [
    "# Check actual and predicted values from initial model\n",
    "p, r, thresholds = precision_recall_curve(y_train_pred_final.Left, y_train_pred_final.left_Prob)"
   ]
  },
  {
   "cell_type": "markdown",
   "metadata": {
    "id": "9dV_jCG6rykd"
   },
   "source": [
    "7.3.10 Plot precision-recall curve <font color=\"red\">[2 Marks]</font>"
   ]
  },
  {
   "cell_type": "code",
   "execution_count": 1345,
   "metadata": {
    "id": "da902sgzbzFT"
   },
   "outputs": [
    {
     "data": {
      "image/png": "[encoded data removed]",
      "text/plain": [
       "<Figure size 640x480 with 1 Axes>"
      ]
     },
     "metadata": {},
     "output_type": "display_data"
    }
   ],
   "source": [
    "# Plot precision-recall curve\n",
    "plt.plot(thresholds, p[:-1], \"g-\")\n",
    "plt.plot(thresholds, r[:-1], \"r-\")\n",
    "plt.show()"
   ]
  },
  {
   "cell_type": "markdown",
   "metadata": {
    "id": "c6fCFjfubzFT"
   },
   "source": [
    "## **8. Prediction and Model Evaluation** <font color = red>[30 marks]</font>\n",
    "\n",
    "Use the model from the previous step to make predictions on the validation set with the optimal cutoff. Then evaluate the model's performance using metrics such as accuracy, sensitivity, specificity, precision, and recall."
   ]
  },
  {
   "cell_type": "markdown",
   "metadata": {
    "id": "GEY3dsXNbzFU"
   },
   "source": [
    "### **8.1 Make predictions over validation set** <font color = red>[15 marks]</font>"
   ]
  },
  {
   "cell_type": "markdown",
   "metadata": {
    "id": "6PSHBQ5qbzFU"
   },
   "source": [
    "8.1.1 Select relevant features for validation set <font color=\"red\">[2 Marks]</font>\n",
    "\n"
   ]
  },
  {
   "cell_type": "code",
   "execution_count": 1347,
   "metadata": {
    "id": "g9n1aTakbzFU"
   },
   "outputs": [],
   "source": [
    "# Select the relevant features for validation set\n",
    "num_col=['Age', 'Years at Company', 'Monthly Income', 'Distance from Home',\n",
    "            'Number of Promotions', 'Number of Dependents', 'Company Tenure (In Months)']"
   ]
  },
  {
   "cell_type": "code",
   "execution_count": 1353,
   "metadata": {},
   "outputs": [],
   "source": [
    "X_test[num_col]=scaler.transform(X_test[num_col])"
   ]
  },
  {
   "cell_type": "code",
   "execution_count": 1357,
   "metadata": {},
   "outputs": [],
   "source": [
    "X_test=X_test[col]"
   ]
  },
  {
   "cell_type": "code",
   "execution_count": 1359,
   "metadata": {},
   "outputs": [
    {
     "data": {
      "text/html": [
       "<div>\n",
       "<style scoped>\n",
       "    .dataframe tbody tr th:only-of-type {\n",
       "        vertical-align: middle;\n",
       "    }\n",
       "\n",
       "    .dataframe tbody tr th {\n",
       "        vertical-align: top;\n",
       "    }\n",
       "\n",
       "    .dataframe thead th {\n",
       "        text-align: right;\n",
       "    }\n",
       "</style>\n",
       "<table border=\"1\" class=\"dataframe\">\n",
       "  <thead>\n",
       "    <tr style=\"text-align: right;\">\n",
       "      <th></th>\n",
       "      <th>Number of Promotions</th>\n",
       "      <th>Number of Dependents</th>\n",
       "      <th>Remote Work</th>\n",
       "      <th>Job Role_Finance</th>\n",
       "      <th>Job Role_Media</th>\n",
       "      <th>Marital Status_Single</th>\n",
       "      <th>Company Reputation_Good</th>\n",
       "      <th>Employee Recognition_Medium</th>\n",
       "      <th>Education Level_Masterâ€™s Degree</th>\n",
       "      <th>Job Level_Mid</th>\n",
       "      <th>Job Level_Senior</th>\n",
       "    </tr>\n",
       "  </thead>\n",
       "  <tbody>\n",
       "    <tr>\n",
       "      <th>48013</th>\n",
       "      <td>1.007453</td>\n",
       "      <td>-0.472280</td>\n",
       "      <td>0</td>\n",
       "      <td>0</td>\n",
       "      <td>0</td>\n",
       "      <td>0</td>\n",
       "      <td>1</td>\n",
       "      <td>0</td>\n",
       "      <td>0</td>\n",
       "      <td>1</td>\n",
       "      <td>0</td>\n",
       "    </tr>\n",
       "    <tr>\n",
       "      <th>57182</th>\n",
       "      <td>-0.777907</td>\n",
       "      <td>0.078713</td>\n",
       "      <td>0</td>\n",
       "      <td>0</td>\n",
       "      <td>1</td>\n",
       "      <td>1</td>\n",
       "      <td>1</td>\n",
       "      <td>0</td>\n",
       "      <td>0</td>\n",
       "      <td>1</td>\n",
       "      <td>0</td>\n",
       "    </tr>\n",
       "    <tr>\n",
       "      <th>34902</th>\n",
       "      <td>0.114773</td>\n",
       "      <td>-0.472280</td>\n",
       "      <td>0</td>\n",
       "      <td>1</td>\n",
       "      <td>0</td>\n",
       "      <td>0</td>\n",
       "      <td>1</td>\n",
       "      <td>0</td>\n",
       "      <td>0</td>\n",
       "      <td>1</td>\n",
       "      <td>0</td>\n",
       "    </tr>\n",
       "    <tr>\n",
       "      <th>13783</th>\n",
       "      <td>-0.777907</td>\n",
       "      <td>0.629707</td>\n",
       "      <td>0</td>\n",
       "      <td>0</td>\n",
       "      <td>0</td>\n",
       "      <td>1</td>\n",
       "      <td>0</td>\n",
       "      <td>0</td>\n",
       "      <td>0</td>\n",
       "      <td>1</td>\n",
       "      <td>0</td>\n",
       "    </tr>\n",
       "    <tr>\n",
       "      <th>32776</th>\n",
       "      <td>1.007453</td>\n",
       "      <td>-0.472280</td>\n",
       "      <td>0</td>\n",
       "      <td>0</td>\n",
       "      <td>0</td>\n",
       "      <td>0</td>\n",
       "      <td>1</td>\n",
       "      <td>0</td>\n",
       "      <td>0</td>\n",
       "      <td>1</td>\n",
       "      <td>0</td>\n",
       "    </tr>\n",
       "  </tbody>\n",
       "</table>\n",
       "</div>"
      ],
      "text/plain": [
       "       Number of Promotions  Number of Dependents  Remote Work  \\\n",
       "48013              1.007453             -0.472280            0   \n",
       "57182             -0.777907              0.078713            0   \n",
       "34902              0.114773             -0.472280            0   \n",
       "13783             -0.777907              0.629707            0   \n",
       "32776              1.007453             -0.472280            0   \n",
       "\n",
       "       Job Role_Finance  Job Role_Media  Marital Status_Single  \\\n",
       "48013                 0               0                      0   \n",
       "57182                 0               1                      1   \n",
       "34902                 1               0                      0   \n",
       "13783                 0               0                      1   \n",
       "32776                 0               0                      0   \n",
       "\n",
       "       Company Reputation_Good  Employee Recognition_Medium  \\\n",
       "48013                        1                            0   \n",
       "57182                        1                            0   \n",
       "34902                        1                            0   \n",
       "13783                        0                            0   \n",
       "32776                        1                            0   \n",
       "\n",
       "       Education Level_Masterâ€™s Degree  Job Level_Mid  Job Level_Senior  \n",
       "48013                                  0              1                 0  \n",
       "57182                                  0              1                 0  \n",
       "34902                                  0              1                 0  \n",
       "13783                                  0              1                 0  \n",
       "32776                                  0              1                 0  "
      ]
     },
     "execution_count": 1359,
     "metadata": {},
     "output_type": "execute_result"
    }
   ],
   "source": [
    "X_test.head()"
   ]
  },
  {
   "cell_type": "markdown",
   "metadata": {
    "id": "pNGNgwNrsXf9"
   },
   "source": [
    "8.1.2 Add constant to X_validation <font color=\"red\">[2 Marks]</font>"
   ]
  },
  {
   "cell_type": "code",
   "execution_count": 1361,
   "metadata": {
    "id": "3Y_CGwNWbzFU"
   },
   "outputs": [],
   "source": [
    "# Add constant to X_validation\n",
    "X_test_sm = sm.add_constant(X_test)"
   ]
  },
  {
   "cell_type": "markdown",
   "metadata": {
    "id": "tSl-wRsRshW_"
   },
   "source": [
    "8.1.3 Make predictions over validation set <font color=\"red\">[3 Marks]</font>"
   ]
  },
  {
   "cell_type": "code",
   "execution_count": 1363,
   "metadata": {
    "id": "N7tRbWcQbzFU"
   },
   "outputs": [],
   "source": [
    "# Make predictions on the validation set and store it in the variable 'y_validation_pred'\n",
    "y_test_pred = result.predict(X_test_sm)\n",
    "\n"
   ]
  },
  {
   "cell_type": "code",
   "execution_count": 1365,
   "metadata": {},
   "outputs": [
    {
     "data": {
      "text/plain": [
       "48013    0.033740\n",
       "57182    0.011603\n",
       "34902    0.000245\n",
       "13783    0.921558\n",
       "32776    0.033740\n",
       "45524    0.147739\n",
       "12933    0.012639\n",
       "27289    0.943309\n",
       "33114    0.000003\n",
       "50896    0.000146\n",
       "dtype: float64"
      ]
     },
     "execution_count": 1365,
     "metadata": {},
     "output_type": "execute_result"
    }
   ],
   "source": [
    "y_test_pred[:10]"
   ]
  },
  {
   "cell_type": "markdown",
   "metadata": {
    "id": "ONdgg12qtJSs"
   },
   "source": [
    "8.1.4 Create DataFrame with actual values and predicted values for validation set <font color=\"red\">[5 Marks]</font>"
   ]
  },
  {
   "cell_type": "markdown",
   "metadata": {
    "id": "3HrzB4MRtlGB"
   },
   "source": [
    "8.1.5 Predict final prediction based on the cutoff value <font color=\"red\">[3 Marks]</font>"
   ]
  },
  {
   "cell_type": "code",
   "execution_count": 1367,
   "metadata": {},
   "outputs": [],
   "source": [
    "y_pred_1 = pd.DataFrame(y_test_pred)"
   ]
  },
  {
   "cell_type": "code",
   "execution_count": 1369,
   "metadata": {},
   "outputs": [
    {
     "data": {
      "text/html": [
       "<div>\n",
       "<style scoped>\n",
       "    .dataframe tbody tr th:only-of-type {\n",
       "        vertical-align: middle;\n",
       "    }\n",
       "\n",
       "    .dataframe tbody tr th {\n",
       "        vertical-align: top;\n",
       "    }\n",
       "\n",
       "    .dataframe thead th {\n",
       "        text-align: right;\n",
       "    }\n",
       "</style>\n",
       "<table border=\"1\" class=\"dataframe\">\n",
       "  <thead>\n",
       "    <tr style=\"text-align: right;\">\n",
       "      <th></th>\n",
       "      <th>0</th>\n",
       "    </tr>\n",
       "  </thead>\n",
       "  <tbody>\n",
       "    <tr>\n",
       "      <th>48013</th>\n",
       "      <td>0.033740</td>\n",
       "    </tr>\n",
       "    <tr>\n",
       "      <th>57182</th>\n",
       "      <td>0.011603</td>\n",
       "    </tr>\n",
       "    <tr>\n",
       "      <th>34902</th>\n",
       "      <td>0.000245</td>\n",
       "    </tr>\n",
       "    <tr>\n",
       "      <th>13783</th>\n",
       "      <td>0.921558</td>\n",
       "    </tr>\n",
       "    <tr>\n",
       "      <th>32776</th>\n",
       "      <td>0.033740</td>\n",
       "    </tr>\n",
       "  </tbody>\n",
       "</table>\n",
       "</div>"
      ],
      "text/plain": [
       "              0\n",
       "48013  0.033740\n",
       "57182  0.011603\n",
       "34902  0.000245\n",
       "13783  0.921558\n",
       "32776  0.033740"
      ]
     },
     "execution_count": 1369,
     "metadata": {},
     "output_type": "execute_result"
    }
   ],
   "source": [
    "y_pred_1.head()"
   ]
  },
  {
   "cell_type": "code",
   "execution_count": 1371,
   "metadata": {},
   "outputs": [],
   "source": [
    "y_test_df=pd.DataFrame(y_test)"
   ]
  },
  {
   "cell_type": "code",
   "execution_count": 1375,
   "metadata": {
    "id": "SCshcMgnbzFW"
   },
   "outputs": [],
   "source": [
    "# Make predictions on the validation set using the optimal cutoff and store it in a column 'final_prediction'\n",
    "y_test_df['EmplyID'] = y_test_df.index\n",
    "# Check the DataFrame\n",
    "y_pred_1.reset_index(drop=True, inplace=True)\n",
    "y_test_df.reset_index(drop=True, inplace=True)"
   ]
  },
  {
   "cell_type": "code",
   "execution_count": 1377,
   "metadata": {},
   "outputs": [],
   "source": [
    "y_pred_final = pd.concat([y_test_df, y_pred_1],axis=1)"
   ]
  },
  {
   "cell_type": "code",
   "execution_count": 1379,
   "metadata": {},
   "outputs": [
    {
     "data": {
      "text/html": [
       "<div>\n",
       "<style scoped>\n",
       "    .dataframe tbody tr th:only-of-type {\n",
       "        vertical-align: middle;\n",
       "    }\n",
       "\n",
       "    .dataframe tbody tr th {\n",
       "        vertical-align: top;\n",
       "    }\n",
       "\n",
       "    .dataframe thead th {\n",
       "        text-align: right;\n",
       "    }\n",
       "</style>\n",
       "<table border=\"1\" class=\"dataframe\">\n",
       "  <thead>\n",
       "    <tr style=\"text-align: right;\">\n",
       "      <th></th>\n",
       "      <th>Attrition</th>\n",
       "      <th>EmplyID</th>\n",
       "      <th>0</th>\n",
       "    </tr>\n",
       "  </thead>\n",
       "  <tbody>\n",
       "    <tr>\n",
       "      <th>0</th>\n",
       "      <td>0</td>\n",
       "      <td>48013</td>\n",
       "      <td>0.033740</td>\n",
       "    </tr>\n",
       "    <tr>\n",
       "      <th>1</th>\n",
       "      <td>0</td>\n",
       "      <td>57182</td>\n",
       "      <td>0.011603</td>\n",
       "    </tr>\n",
       "    <tr>\n",
       "      <th>2</th>\n",
       "      <td>0</td>\n",
       "      <td>34902</td>\n",
       "      <td>0.000245</td>\n",
       "    </tr>\n",
       "    <tr>\n",
       "      <th>3</th>\n",
       "      <td>1</td>\n",
       "      <td>13783</td>\n",
       "      <td>0.921558</td>\n",
       "    </tr>\n",
       "    <tr>\n",
       "      <th>4</th>\n",
       "      <td>1</td>\n",
       "      <td>32776</td>\n",
       "      <td>0.033740</td>\n",
       "    </tr>\n",
       "  </tbody>\n",
       "</table>\n",
       "</div>"
      ],
      "text/plain": [
       "   Attrition  EmplyID         0\n",
       "0          0    48013  0.033740\n",
       "1          0    57182  0.011603\n",
       "2          0    34902  0.000245\n",
       "3          1    13783  0.921558\n",
       "4          1    32776  0.033740"
      ]
     },
     "execution_count": 1379,
     "metadata": {},
     "output_type": "execute_result"
    }
   ],
   "source": [
    "y_pred_final.head()"
   ]
  },
  {
   "cell_type": "code",
   "execution_count": 1381,
   "metadata": {},
   "outputs": [],
   "source": [
    "y_pred_final= y_pred_final.rename(columns={ 0 : 'left_Prob'})"
   ]
  },
  {
   "cell_type": "code",
   "execution_count": 1383,
   "metadata": {
    "scrolled": true
   },
   "outputs": [
    {
     "data": {
      "text/html": [
       "<div>\n",
       "<style scoped>\n",
       "    .dataframe tbody tr th:only-of-type {\n",
       "        vertical-align: middle;\n",
       "    }\n",
       "\n",
       "    .dataframe tbody tr th {\n",
       "        vertical-align: top;\n",
       "    }\n",
       "\n",
       "    .dataframe thead th {\n",
       "        text-align: right;\n",
       "    }\n",
       "</style>\n",
       "<table border=\"1\" class=\"dataframe\">\n",
       "  <thead>\n",
       "    <tr style=\"text-align: right;\">\n",
       "      <th></th>\n",
       "      <th>Attrition</th>\n",
       "      <th>EmplyID</th>\n",
       "      <th>left_Prob</th>\n",
       "    </tr>\n",
       "  </thead>\n",
       "  <tbody>\n",
       "    <tr>\n",
       "      <th>0</th>\n",
       "      <td>0</td>\n",
       "      <td>48013</td>\n",
       "      <td>0.033740</td>\n",
       "    </tr>\n",
       "    <tr>\n",
       "      <th>1</th>\n",
       "      <td>0</td>\n",
       "      <td>57182</td>\n",
       "      <td>0.011603</td>\n",
       "    </tr>\n",
       "    <tr>\n",
       "      <th>2</th>\n",
       "      <td>0</td>\n",
       "      <td>34902</td>\n",
       "      <td>0.000245</td>\n",
       "    </tr>\n",
       "    <tr>\n",
       "      <th>3</th>\n",
       "      <td>1</td>\n",
       "      <td>13783</td>\n",
       "      <td>0.921558</td>\n",
       "    </tr>\n",
       "    <tr>\n",
       "      <th>4</th>\n",
       "      <td>1</td>\n",
       "      <td>32776</td>\n",
       "      <td>0.033740</td>\n",
       "    </tr>\n",
       "  </tbody>\n",
       "</table>\n",
       "</div>"
      ],
      "text/plain": [
       "   Attrition  EmplyID  left_Prob\n",
       "0          0    48013   0.033740\n",
       "1          0    57182   0.011603\n",
       "2          0    34902   0.000245\n",
       "3          1    13783   0.921558\n",
       "4          1    32776   0.033740"
      ]
     },
     "execution_count": 1383,
     "metadata": {},
     "output_type": "execute_result"
    }
   ],
   "source": [
    "y_pred_final.head()"
   ]
  },
  {
   "cell_type": "code",
   "execution_count": 1385,
   "metadata": {},
   "outputs": [],
   "source": [
    "y_pred_final['final_predicted'] = y_pred_final.left_Prob.map(lambda x: 1 if x > 0.42 else 0)"
   ]
  },
  {
   "cell_type": "code",
   "execution_count": 1387,
   "metadata": {},
   "outputs": [
    {
     "data": {
      "text/html": [
       "<div>\n",
       "<style scoped>\n",
       "    .dataframe tbody tr th:only-of-type {\n",
       "        vertical-align: middle;\n",
       "    }\n",
       "\n",
       "    .dataframe tbody tr th {\n",
       "        vertical-align: top;\n",
       "    }\n",
       "\n",
       "    .dataframe thead th {\n",
       "        text-align: right;\n",
       "    }\n",
       "</style>\n",
       "<table border=\"1\" class=\"dataframe\">\n",
       "  <thead>\n",
       "    <tr style=\"text-align: right;\">\n",
       "      <th></th>\n",
       "      <th>Attrition</th>\n",
       "      <th>EmplyID</th>\n",
       "      <th>left_Prob</th>\n",
       "      <th>final_predicted</th>\n",
       "    </tr>\n",
       "  </thead>\n",
       "  <tbody>\n",
       "    <tr>\n",
       "      <th>0</th>\n",
       "      <td>0</td>\n",
       "      <td>48013</td>\n",
       "      <td>0.033740</td>\n",
       "      <td>0</td>\n",
       "    </tr>\n",
       "    <tr>\n",
       "      <th>1</th>\n",
       "      <td>0</td>\n",
       "      <td>57182</td>\n",
       "      <td>0.011603</td>\n",
       "      <td>0</td>\n",
       "    </tr>\n",
       "    <tr>\n",
       "      <th>2</th>\n",
       "      <td>0</td>\n",
       "      <td>34902</td>\n",
       "      <td>0.000245</td>\n",
       "      <td>0</td>\n",
       "    </tr>\n",
       "    <tr>\n",
       "      <th>3</th>\n",
       "      <td>1</td>\n",
       "      <td>13783</td>\n",
       "      <td>0.921558</td>\n",
       "      <td>1</td>\n",
       "    </tr>\n",
       "    <tr>\n",
       "      <th>4</th>\n",
       "      <td>1</td>\n",
       "      <td>32776</td>\n",
       "      <td>0.033740</td>\n",
       "      <td>0</td>\n",
       "    </tr>\n",
       "  </tbody>\n",
       "</table>\n",
       "</div>"
      ],
      "text/plain": [
       "   Attrition  EmplyID  left_Prob  final_predicted\n",
       "0          0    48013   0.033740                0\n",
       "1          0    57182   0.011603                0\n",
       "2          0    34902   0.000245                0\n",
       "3          1    13783   0.921558                1\n",
       "4          1    32776   0.033740                0"
      ]
     },
     "execution_count": 1387,
     "metadata": {},
     "output_type": "execute_result"
    }
   ],
   "source": [
    "y_pred_final.head()"
   ]
  },
  {
   "cell_type": "markdown",
   "metadata": {
    "id": "gMSL-5-pbzFW"
   },
   "source": [
    "### **8.2 Calculate accuracy of the model** <font color = red>[2 marks]</font>"
   ]
  },
  {
   "cell_type": "code",
   "execution_count": 1391,
   "metadata": {
    "id": "bwRF3dn6bzFW"
   },
   "outputs": [
    {
     "data": {
      "text/plain": [
       "0.6333333333333333"
      ]
     },
     "execution_count": 1391,
     "metadata": {},
     "output_type": "execute_result"
    }
   ],
   "source": [
    "# Calculate the overall accuracy\n",
    "metrics.accuracy_score(y_pred_final.Attrition ,  y_pred_final.final_predicted)"
   ]
  },
  {
   "cell_type": "markdown",
   "metadata": {
    "id": "8tNEp8_bbzFW"
   },
   "source": [
    "### **8.3 Create confusion matrix and create variables for true positive, true negative, false positive and false negative** <font color = red>[5 marks]</font>"
   ]
  },
  {
   "cell_type": "code",
   "execution_count": 1393,
   "metadata": {
    "id": "RnaOhweTbzFW"
   },
   "outputs": [
    {
     "data": {
      "text/plain": [
       "array([[13,  6],\n",
       "       [ 5,  6]], dtype=int64)"
      ]
     },
     "execution_count": 1393,
     "metadata": {},
     "output_type": "execute_result"
    }
   ],
   "source": [
    "# Create confusion matrix\n",
    "metrics.confusion_matrix(y_pred_final.Attrition ,  y_pred_final.final_predicted)"
   ]
  },
  {
   "cell_type": "code",
   "execution_count": 1401,
   "metadata": {
    "id": "AbnOzs9VbzFW"
   },
   "outputs": [],
   "source": [
    "# Create variables for true positive, true negative, false positive and false negative\n",
    "tp=6\n",
    "tn=13\n",
    "fn=5\n",
    "fp=6"
   ]
  },
  {
   "cell_type": "markdown",
   "metadata": {
    "id": "rfnlV8xobzFW"
   },
   "source": [
    "### **8.4 Calculate sensitivity and specificity** <font color = red>[4 marks]</font>"
   ]
  },
  {
   "cell_type": "code",
   "execution_count": 1403,
   "metadata": {
    "id": "-M3WRwH9bzFW"
   },
   "outputs": [
    {
     "data": {
      "text/plain": [
       "0.5454545454545454"
      ]
     },
     "execution_count": 1403,
     "metadata": {},
     "output_type": "execute_result"
    }
   ],
   "source": [
    "# Calculate sensitivity\n",
    "tp/float(tp+fn)"
   ]
  },
  {
   "cell_type": "code",
   "execution_count": 1405,
   "metadata": {
    "id": "mAf35xDnbzFX"
   },
   "outputs": [
    {
     "data": {
      "text/plain": [
       "0.6842105263157895"
      ]
     },
     "execution_count": 1405,
     "metadata": {},
     "output_type": "execute_result"
    }
   ],
   "source": [
    "# Calculate specificity\n",
    "tn/float(tn+fp)\n"
   ]
  },
  {
   "cell_type": "markdown",
   "metadata": {
    "id": "nsUKjAT0bzFX"
   },
   "source": [
    "### **8.5 Calculate precision and recall** <font color = red>[4 marks]</font>"
   ]
  },
  {
   "cell_type": "code",
   "execution_count": 1395,
   "metadata": {
    "id": "19C3vTO3bzFX"
   },
   "outputs": [
    {
     "data": {
      "text/plain": [
       "0.5"
      ]
     },
     "execution_count": 1395,
     "metadata": {},
     "output_type": "execute_result"
    }
   ],
   "source": [
    "# Calculate precision\n",
    "precision_score(y_pred_final.Attrition ,  y_pred_final.final_predicted)"
   ]
  },
  {
   "cell_type": "code",
   "execution_count": 1397,
   "metadata": {
    "id": "vvyUapBfbzFX"
   },
   "outputs": [
    {
     "data": {
      "text/plain": [
       "0.5454545454545454"
      ]
     },
     "execution_count": 1397,
     "metadata": {},
     "output_type": "execute_result"
    }
   ],
   "source": [
    "# Calculate recall\n",
    "recall_score(y_pred_final.Attrition ,  y_pred_final.final_predicted)"
   ]
  },
  {
   "cell_type": "markdown",
   "metadata": {
    "id": "Hmyrh46kbzFY"
   },
   "source": [
    "## Conclusion\n",
    "\n"
   ]
  }
 ],
 "metadata": {
  "colab": {
   "provenance": [],
   "toc_visible": true
  },
  "kernelspec": {
   "display_name": "Python [conda env:base] *",
   "language": "python",
   "name": "conda-base-py"
  },
  "language_info": {
   "codemirror_mode": {
    "name": "ipython",
    "version": 3
   },
   "file_extension": ".py",
   "mimetype": "text/x-python",
   "name": "python",
   "nbconvert_exporter": "python",
   "pygments_lexer": "ipython3",
   "version": "3.11.5"
  }
 },
 "nbformat": 4,
 "nbformat_minor": 4
}
